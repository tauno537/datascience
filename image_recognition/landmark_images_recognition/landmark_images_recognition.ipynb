{
 "cells": [
  {
   "cell_type": "markdown",
   "metadata": {},
   "source": [
    "<img src=\"images/header.png\" align=\"center\"/>"
   ]
  },
  {
   "cell_type": "markdown",
   "metadata": {},
   "source": [
    "## 1. Introduction"
   ]
  },
  {
   "cell_type": "markdown",
   "metadata": {},
   "source": [
    "This is the Capstone Project for [Advanced Data Science with IBM Specialization Certificate](https://www.coursera.org/specializations/advanced-data-science-ibm?fbclid=IwAR3p2ZthalkKNP1kcyK3VfxRBKyrRnOWeowrrus5UQt1IL3O8tB7jRWkc4E) course. The use case of this project is to recognize well-known landmarks captured on photos. The task can be classified as a Multi-Class Classification problem where each sample is assigned to one and only one label. The task will be accomplished using both the Deep and Non-Deep Learning.\n",
    "\n",
    "__Use case:__\n",
    "- Automate the prediction of landmark labels directly from image pixels to help people organize their photo collections.\n",
    "\n",
    "__Main goals:__\n",
    "- Collect the dataset containing landmark pictures of three different classes.\n",
    "- Explore the dataset and its quality for modeling.\n",
    "- Create a Deep Learning model, evaluate it and measure its accuracy on test dataset.\n",
    "- Create a Non-Deep Learning model, evaluate it and measure its accuracy on test dataset.\n",
    "- Compare the results between Deep and Non-Deep Learning accuracies.\n",
    "\n",
    "__Implemented algorithms:__\n",
    "- Convolutional Neural Network for Deep Learning\n",
    "- K-Nearest Neighbors for Non-Deep Learning\n",
    "\n",
    "__Main technological components:__\n",
    "- Anaconda Jupyter Notebook for editing and running the notebook project.\n",
    "- Python 3.7.3 as a programming language.\n",
    "- Keras as a higher-level (capable of running on top of TensorFlow, CNTK or Theano) neural networks library for implementing Deep Learning functionality.\n",
    "- Laptop Dell Inspiron 3541: AMD 1.80 GHz, RAM 8.00 GB, AMD Radeon(TM) R4 Graphics."
   ]
  },
  {
   "cell_type": "markdown",
   "metadata": {},
   "source": [
    "## 2. Data"
   ]
  },
  {
   "cell_type": "markdown",
   "metadata": {},
   "source": [
    "Data preparation pipeline."
   ]
  },
  {
   "cell_type": "markdown",
   "metadata": {},
   "source": [
    "<img src=\"images/data_preparation_pipeline.png\" width=\"500\" align=\"left\"/>"
   ]
  },
  {
   "cell_type": "markdown",
   "metadata": {},
   "source": [
    "### 2.1. Data Acquiring"
   ]
  },
  {
   "cell_type": "markdown",
   "metadata": {},
   "source": [
    "The dataset is constructed using the [FlickrAPI](https://pypi.org/project/flickrapi/). It is a Python library that includes authorized and non-authorized access to the Flickr environment, upload and replace photos etc. Creating a high quality dataset is quite time consuming and labor intensive work. Therefore, the purpose of this research is to create a model containing a few sample class labels (Big_Ben, Eiffel_Tower, Taj_Mahal). With more classes, the complexity of the model also increases and without more data the accuracy also begins to fall."
   ]
  },
  {
   "cell_type": "markdown",
   "metadata": {},
   "source": [
    "Install missing libraries."
   ]
  },
  {
   "cell_type": "code",
   "execution_count": 1,
   "metadata": {},
   "outputs": [],
   "source": [
    "# !pip install flickrapi\n",
    "# !pip install imutils\n",
    "# !pip install webp"
   ]
  },
  {
   "cell_type": "markdown",
   "metadata": {},
   "source": [
    "Import required libraries."
   ]
  },
  {
   "cell_type": "code",
   "execution_count": 3,
   "metadata": {},
   "outputs": [],
   "source": [
    "# data downloading\n",
    "import json\n",
    "import flickrapi\n",
    "import urllib\n",
    "\n",
    "# file operations\n",
    "import os, cv2, shutil\n",
    "from PIL import Image\n",
    "from imutils import paths\n",
    "\n",
    "# data preprocessing\n",
    "import pandas as pd\n",
    "import numpy as np\n",
    "\n",
    "# data splitting\n",
    "from sklearn.model_selection import train_test_split\n",
    "\n",
    "# data visualization\n",
    "import matplotlib.pyplot as plt\n",
    "from IPython.display import display, HTML\n",
    "\n",
    "# neural network frameworks\n",
    "from tensorflow.python import keras\n",
    "from keras.preprocessing.image import ImageDataGenerator\n",
    "from keras import backend as K\n",
    "from keras.models import load_model\n",
    "\n",
    "# algorithms\n",
    "from sklearn.neighbors import KNeighborsClassifier\n",
    "from keras.models import Sequential\n",
    "from keras.layers import Conv2D, MaxPooling2D, Activation, Flatten, Dropout, Dense\n",
    "from keras.layers.normalization import BatchNormalization\n",
    "\n",
    "# optimizers and losses\n",
    "from keras.losses import categorical_crossentropy\n",
    "\n",
    "# metrics\n",
    "from sklearn.metrics import classification_report\n",
    "from sklearn import metrics\n",
    "\n",
    "# general\n",
    "import time, random, logging"
   ]
  },
  {
   "cell_type": "markdown",
   "metadata": {},
   "source": [
    "Configure file paths and dataset parameters."
   ]
  },
  {
   "cell_type": "code",
   "execution_count": 4,
   "metadata": {},
   "outputs": [],
   "source": [
    "CONFIG_FLICKR_AUTHORIZATION = 'config/flickr_authorization.json'\n",
    "CONFIG_SIGHTSEEINGS = 'config/sightseeings.csv'\n",
    "SCRAPED_DATASET = 'scraped_dataset\\\\'\n",
    "DATASET_TRAIN = 'dataset\\\\train\\\\'\n",
    "DATASET_VALIDATION = 'dataset\\\\validation\\\\'\n",
    "DATASET_TEST = 'dataset\\\\test\\\\'\n",
    "\n",
    "MAX_RESULT_SIZE = 3000\n",
    "# The data is split into the train/test (80/20) and after that the train once again into the train/validation (80/20).\n",
    "TRAIN_PROPORTION = 0.8"
   ]
  },
  {
   "cell_type": "markdown",
   "metadata": {},
   "source": [
    "Define the helper functions required for data scraping."
   ]
  },
  {
   "cell_type": "code",
   "execution_count": 4,
   "metadata": {},
   "outputs": [],
   "source": [
    "def get_flickr_authorization_tokens():\n",
    "    \"\"\"\n",
    "    Read from file authorization tokens needed for making connection to the Flickr API.\n",
    "    \n",
    "    :return: Dictionary of authorization tokens.\n",
    "    \"\"\"\n",
    "    with open(CONFIG_FLICKR_AUTHORIZATION, 'r') as f:\n",
    "        sp_authorization_tokens = json.load(f)\n",
    "    return sp_authorization_tokens"
   ]
  },
  {
   "cell_type": "code",
   "execution_count": 5,
   "metadata": {},
   "outputs": [],
   "source": [
    "def get_sightseeings():\n",
    "    \"\"\"\n",
    "    Read sightseeings names from specified file.\n",
    "    \n",
    "    :return: List of sightseeings names.\n",
    "    \"\"\"\n",
    "    selected_sightseeings = pd.read_csv(CONFIG_SIGHTSEEINGS, encoding='utf-8', sep=\"\\t\")    \n",
    "    return list(selected_sightseeings['SIGHTSEEING'])"
   ]
  },
  {
   "cell_type": "markdown",
   "metadata": {},
   "source": [
    "If there are no suitable public dataset, create it Yourself! Using the FlickrAPI and query key specified by sightseeings names the image files are downloaded for the dataset."
   ]
  },
  {
   "cell_type": "code",
   "execution_count": null,
   "metadata": {},
   "outputs": [],
   "source": [
    "# Get Flickr API authorization tokens\n",
    "fl_authorization_tokens = get_flickr_authorization_tokens()\n",
    "\n",
    "# Get Flickr API access key\n",
    "flickr = flickrapi.FlickrAPI(fl_authorization_tokens.get('key'), fl_authorization_tokens.get('secret'), cache=True)\n",
    "# Get sightseeings list\n",
    "sightseeings = get_sightseeings()\n",
    "\n",
    "for query_ind, query_key in enumerate(sightseeings):\n",
    "    tgt_folder = '{}\\\\{}{}'.format(os.getcwd(), SCRAPED_DATASET, query_key.replace(\" \", \"_\"))\n",
    "    if not os.path.exists(tgt_folder):\n",
    "        os.makedirs(tgt_folder)\n",
    "\n",
    "    images = flickr.walk(text=query_key,\n",
    "                         tags=query_key,\n",
    "                         tag_mode='all',\n",
    "                         extras='url_c',\n",
    "                         per_page=100,\n",
    "                         sort='relevance')\n",
    "\n",
    "    for image_ind, image_file in enumerate(images):\n",
    "        image_url = image_file.get('url_c')\n",
    "        image_local_path = '{}\\\\{}'.format(tgt_folder, (str(image_ind)+'.jpg'))\n",
    "\n",
    "        if image_url is not None:\n",
    "            urllib.request.urlretrieve(image_url, image_local_path)\n",
    "\n",
    "        if image_ind > MAX_RESULT_SIZE:\n",
    "            break"
   ]
  },
  {
   "cell_type": "markdown",
   "metadata": {},
   "source": [
    "### 2.2. Data Cleaning"
   ]
  },
  {
   "cell_type": "markdown",
   "metadata": {},
   "source": [
    "The process of data cleaning is much more complicated with images than it is with numerical data. After scraping the images from the Internet many downloaded files may not contain the images that is specified by the search query. Here are some solutions to solve this problem:"
   ]
  },
  {
   "cell_type": "markdown",
   "metadata": {},
   "source": [
    "- __Use a pretrained model:__ One potential approach would be to use a pretrained model to tag the scraped images to see if they contain an image specified by the search query or not.\n",
    "- __Perform partial manual control:__ If the task is too specific it may be difficult to find a pretrained image recognition model. An alternative approach would then be to tag manually a small part of dataset images to have trustworthy labels. Then these images can be augmented until a reasonable amount and a trained classifier created. After that this simple model can be used as a “rough filter” to decide what images to include in the main modeling dataset.\n",
    "- __Perform manual control:__ It means that all the images are visually checked and quality controlled by the user. It’s also the solution that was chosen for this project. It’s because the size of the dataset used in this project is not too big, the quality of downloaded images was quite good and no pretrained landmark recognition model was found."
   ]
  },
  {
   "cell_type": "markdown",
   "metadata": {},
   "source": [
    "### 2.3. Data Splitting"
   ]
  },
  {
   "cell_type": "markdown",
   "metadata": {},
   "source": [
    "The dataset is split into train, test and validation sets with the following characteristics. The size of the whole dataset is 7500 images. First, the proportion of 80/20 is used to separate the test dataset (1500 images). After that once again the proportion of 80/20 is used to separate the train (4800 images) and validation (1200 images) datasets."
   ]
  },
  {
   "cell_type": "markdown",
   "metadata": {},
   "source": [
    "- __The train set:__ To fit the model weights.\n",
    "- __The validation set:__ To estimate the prediction error for the trainable model.\n",
    "- __The test set:__ To estimate the generalization error for the final model. The test set should be kept apart and be brought out only at the end of the data analysis."
   ]
  },
  {
   "cell_type": "markdown",
   "metadata": {},
   "source": [
    "Define the helper functions required for data splitting."
   ]
  },
  {
   "cell_type": "code",
   "execution_count": 5,
   "metadata": {},
   "outputs": [],
   "source": [
    "def get_dataset_proportions():\n",
    "    \"\"\"\n",
    "    Calculate how many files the train, validation and test folder should contain.\n",
    "    \n",
    "    :return: Tuple of sizes of train, validation and test folder.\n",
    "    \"\"\"\n",
    "    dataset_size = 2500\n",
    "    # Split dataset into training and testing part\n",
    "    train_size = dataset_size * TRAIN_PROPORTION\n",
    "    test_size = dataset_size - train_size\n",
    "    \n",
    "    # Split training dataset into training and validation part\n",
    "    train_size = train_size * TRAIN_PROPORTION\n",
    "    validation_size = dataset_size - test_size - train_size\n",
    "    \n",
    "    return (train_size, validation_size, test_size)"
   ]
  },
  {
   "cell_type": "code",
   "execution_count": 6,
   "metadata": {},
   "outputs": [],
   "source": [
    "def count_files(folder_path):\n",
    "    \"\"\"\n",
    "    Count the number of files in the folder specified by the path parameter.\n",
    "    \n",
    "    :param folder_path: String to specify folder path.\n",
    "    :return: Integer of number of files.\n",
    "    \"\"\"\n",
    "    file_path = [f.path for f in os.scandir(folder_path) if f.is_dir()]\n",
    "    \n",
    "    total_files = 0\n",
    "    for file in file_path:\n",
    "        total_files = total_files + len(os.listdir(file))\n",
    "    return total_files"
   ]
  },
  {
   "cell_type": "code",
   "execution_count": 7,
   "metadata": {},
   "outputs": [],
   "source": [
    "dataset_proportions = get_dataset_proportions()\n",
    "TRAIN_SIZE = dataset_proportions[0]\n",
    "VALIDATION_SIZE = dataset_proportions[1]\n",
    "TEST_SIZE = dataset_proportions[2]"
   ]
  },
  {
   "cell_type": "code",
   "execution_count": 11,
   "metadata": {},
   "outputs": [
    {
     "name": "stdout",
     "output_type": "stream",
     "text": [
      "[INFO] Train Dataset: 4800 files\n",
      "[INFO] Validation Dataset: 1200 files\n",
      "[INFO] Test Dataset: 1500 files\n"
     ]
    }
   ],
   "source": [
    "# Split dataset into train, validation and test folder.\n",
    "source_folder = SCRAPED_DATASET\n",
    "\n",
    "for root_folder, sub_folders, file_names in os.walk(source_folder):\n",
    "    for sub_folder in sub_folders:\n",
    "        file_ind = 1\n",
    "        for file_name in os.listdir(os.path.join(root_folder, sub_folder)):\n",
    "            destination_folder = os.path.join(DATASET_TRAIN, sub_folder)\n",
    "\n",
    "            if file_ind >= TRAIN_SIZE and file_ind < (TRAIN_SIZE + VALIDATION_SIZE):\n",
    "                destination_folder = os.path.join(DATASET_VALIDATION, sub_folder)\n",
    "            elif file_ind > (TRAIN_SIZE + VALIDATION_SIZE):\n",
    "                destination_folder = os.path.join(DATASET_TEST, sub_folder)\n",
    "\n",
    "            if not os.path.exists(destination_folder):\n",
    "                os.makedirs(destination_folder)\n",
    "\n",
    "            source_path = os.path.join(root_folder, sub_folder, file_name)\n",
    "            destination_path = os.path.join(destination_folder, file_name)\n",
    "            file_ind += 1\n",
    "            # copy files\n",
    "            shutil.copy(source_path, destination_path)\n",
    "\n",
    "count_train_files = count_files(DATASET_TRAIN)\n",
    "print('[INFO] Train Dataset: {} files'.format(count_train_files))\n",
    "\n",
    "count_validation_files = count_files(DATASET_VALIDATION)\n",
    "print('[INFO] Validation Dataset: {} files'.format(count_validation_files))\n",
    "\n",
    "count_test_files = count_files(DATASET_TEST)\n",
    "print('[INFO] Test Dataset: {} files'.format(count_test_files))"
   ]
  },
  {
   "cell_type": "markdown",
   "metadata": {},
   "source": [
    "After splitting the dataset the directory structure looks as following:"
   ]
  },
  {
   "cell_type": "markdown",
   "metadata": {},
   "source": [
    "<img src=\"images/directory_tree.jpg\" width=\"700\" align=\"left\"/>"
   ]
  },
  {
   "cell_type": "markdown",
   "metadata": {},
   "source": [
    "### 2.3. Data Exploration"
   ]
  },
  {
   "cell_type": "markdown",
   "metadata": {},
   "source": [
    "Data exploration task on image files involves the examination of main image files characteristics - format, mode, width and height. For that we scan through the dataset directory, determine all the image files properties and save them into dataframe."
   ]
  },
  {
   "cell_type": "code",
   "execution_count": 12,
   "metadata": {},
   "outputs": [
    {
     "data": {
      "text/html": [
       "<div>\n",
       "<style scoped>\n",
       "    .dataframe tbody tr th:only-of-type {\n",
       "        vertical-align: middle;\n",
       "    }\n",
       "\n",
       "    .dataframe tbody tr th {\n",
       "        vertical-align: top;\n",
       "    }\n",
       "\n",
       "    .dataframe thead th {\n",
       "        text-align: right;\n",
       "    }\n",
       "</style>\n",
       "<table border=\"1\" class=\"dataframe\">\n",
       "  <thead>\n",
       "    <tr style=\"text-align: right;\">\n",
       "      <th></th>\n",
       "      <th>Format</th>\n",
       "      <th>Mode</th>\n",
       "      <th>Width</th>\n",
       "      <th>Height</th>\n",
       "    </tr>\n",
       "  </thead>\n",
       "  <tbody>\n",
       "    <tr>\n",
       "      <th>0</th>\n",
       "      <td>JPEG</td>\n",
       "      <td>RGB</td>\n",
       "      <td>1920</td>\n",
       "      <td>2343</td>\n",
       "    </tr>\n",
       "    <tr>\n",
       "      <th>1</th>\n",
       "      <td>JPEG</td>\n",
       "      <td>RGB</td>\n",
       "      <td>678</td>\n",
       "      <td>1023</td>\n",
       "    </tr>\n",
       "    <tr>\n",
       "      <th>2</th>\n",
       "      <td>JPEG</td>\n",
       "      <td>RGB</td>\n",
       "      <td>800</td>\n",
       "      <td>533</td>\n",
       "    </tr>\n",
       "    <tr>\n",
       "      <th>3</th>\n",
       "      <td>JPEG</td>\n",
       "      <td>RGB</td>\n",
       "      <td>800</td>\n",
       "      <td>600</td>\n",
       "    </tr>\n",
       "    <tr>\n",
       "      <th>4</th>\n",
       "      <td>JPEG</td>\n",
       "      <td>RGB</td>\n",
       "      <td>800</td>\n",
       "      <td>645</td>\n",
       "    </tr>\n",
       "  </tbody>\n",
       "</table>\n",
       "</div>"
      ],
      "text/plain": [
       "  Format Mode Width Height\n",
       "0   JPEG  RGB  1920   2343\n",
       "1   JPEG  RGB   678   1023\n",
       "2   JPEG  RGB   800    533\n",
       "3   JPEG  RGB   800    600\n",
       "4   JPEG  RGB   800    645"
      ]
     },
     "execution_count": 12,
     "metadata": {},
     "output_type": "execute_result"
    }
   ],
   "source": [
    "# Scan through the test dataset directory, determine image files properties ('Format', 'Mode', 'Width', 'Height') and \n",
    "# save them into dataframe.\n",
    "folder_path = [f.path for f in os.scandir(SCRAPED_DATASET ) if f.is_dir()]\n",
    "image_stat_df = pd.DataFrame(columns=['Format', 'Mode', 'Width', 'Height'])\n",
    "\n",
    "for fld_ind, fld_value in enumerate(folder_path):\n",
    "    file_names = [fn for fn in os.listdir(fld_value)]\n",
    "    for fn_ind, fn_value in enumerate(file_names):\n",
    "        fn_path = os.path.join(fld_value, fn_value)\n",
    "        image = Image.open(fn_path)\n",
    "        image_stat_df = image_stat_df.append({'Format': image.format,\n",
    "                'Mode': image.mode,\n",
    "                'Width': image.size[0],\n",
    "                'Height': image.size[1]},\n",
    "                ignore_index=True)\n",
    "image_stat_df.head()"
   ]
  },
  {
   "cell_type": "code",
   "execution_count": 13,
   "metadata": {},
   "outputs": [
    {
     "data": {
      "text/html": [
       "<div>\n",
       "<style scoped>\n",
       "    .dataframe tbody tr th:only-of-type {\n",
       "        vertical-align: middle;\n",
       "    }\n",
       "\n",
       "    .dataframe tbody tr th {\n",
       "        vertical-align: top;\n",
       "    }\n",
       "\n",
       "    .dataframe thead th {\n",
       "        text-align: right;\n",
       "    }\n",
       "</style>\n",
       "<table border=\"1\" class=\"dataframe\">\n",
       "  <thead>\n",
       "    <tr style=\"text-align: right;\">\n",
       "      <th></th>\n",
       "      <th>Width</th>\n",
       "      <th>Height</th>\n",
       "    </tr>\n",
       "  </thead>\n",
       "  <tbody>\n",
       "    <tr>\n",
       "      <th>Max</th>\n",
       "      <td>5985.0</td>\n",
       "      <td>6720.0</td>\n",
       "    </tr>\n",
       "    <tr>\n",
       "      <th>Median</th>\n",
       "      <td>685.0</td>\n",
       "      <td>600.0</td>\n",
       "    </tr>\n",
       "    <tr>\n",
       "      <th>Min</th>\n",
       "      <td>151.0</td>\n",
       "      <td>133.0</td>\n",
       "    </tr>\n",
       "  </tbody>\n",
       "</table>\n",
       "</div>"
      ],
      "text/plain": [
       "         Width  Height\n",
       "Max     5985.0  6720.0\n",
       "Median   685.0   600.0\n",
       "Min      151.0   133.0"
      ]
     },
     "metadata": {},
     "output_type": "display_data"
    }
   ],
   "source": [
    "# Construct new dataframe containing maximum, median and minimum values of all the image files 'Width' and 'Height' properties.\n",
    "mmm_df = pd.DataFrame(\n",
    "    index=['Max','Median','Min'],\n",
    "    data={\n",
    "        'Width':[image_stat_df['Width'].max(), image_stat_df['Width'].median(), image_stat_df['Width'].min()],\n",
    "        'Height':[image_stat_df['Height'].max(), image_stat_df['Height'].median(), image_stat_df['Height'].min()]\n",
    "    }\n",
    ")\n",
    "display(mmm_df)"
   ]
  },
  {
   "cell_type": "code",
   "execution_count": 14,
   "metadata": {},
   "outputs": [
    {
     "data": {
      "text/plain": [
       "<matplotlib.axes._subplots.AxesSubplot at 0x2594a5e1470>"
      ]
     },
     "execution_count": 14,
     "metadata": {},
     "output_type": "execute_result"
    },
    {
     "data": {
      "image/png": "[encoded data removed]",
      "text/plain": [
       "<Figure size 576x720 with 1 Axes>"
      ]
     },
     "metadata": {
      "needs_background": "light"
     },
     "output_type": "display_data"
    }
   ],
   "source": [
    "# Visualize image files 'Width' and 'Height' properties on Box plot chart.\n",
    "bp_colors = {'boxes': 'DarkGreen', 'whiskers': 'DarkOrange', 'medians': 'DarkBlue', 'caps': 'Gray'}\n",
    "bp_df = image_stat_df[['Width', 'Height']]\n",
    "bp_df.plot.box(figsize=(8, 10), color=bp_colors)"
   ]
  },
  {
   "cell_type": "markdown",
   "metadata": {},
   "source": [
    "Find unique elements."
   ]
  },
  {
   "cell_type": "code",
   "execution_count": 15,
   "metadata": {},
   "outputs": [
    {
     "data": {
      "text/plain": [
       "JPEG    7500\n",
       "Name: Format, dtype: int64"
      ]
     },
     "execution_count": 15,
     "metadata": {},
     "output_type": "execute_result"
    }
   ],
   "source": [
    "image_stat_df['Format'].value_counts()"
   ]
  },
  {
   "cell_type": "code",
   "execution_count": 16,
   "metadata": {},
   "outputs": [
    {
     "data": {
      "text/plain": [
       "RGB     7458\n",
       "L         41\n",
       "CMYK       1\n",
       "Name: Mode, dtype: int64"
      ]
     },
     "execution_count": 16,
     "metadata": {},
     "output_type": "execute_result"
    }
   ],
   "source": [
    "image_stat_df['Mode'].value_counts()"
   ]
  },
  {
   "cell_type": "markdown",
   "metadata": {},
   "source": [
    "From the previous analysis we can conclude the following:\n",
    "- The average image file size is 5985.0 x 6720.0\n",
    "- Some of them expand even to the size of 5985.0 x 6720.0.\n",
    "- All files have the same JPEG extension.\n",
    "- 7458 files are in the RGB mode. RGB means that images have 3 channels - one for red, one for green and one for blue.\n",
    "- 41 files are in the L mode (greyscale). L mode is very compact but it has only single channel and stores only a greyscale not colour.\n",
    "- 1 file is in the CMYK mode. CMYK stands for 'Cyan', 'Magenta', 'Yellow' and 'Black'."
   ]
  },
  {
   "cell_type": "markdown",
   "metadata": {},
   "source": [
    "## 3. Deep Learning"
   ]
  },
  {
   "cell_type": "markdown",
   "metadata": {},
   "source": [
    "Data modeling pipeline."
   ]
  },
  {
   "cell_type": "markdown",
   "metadata": {},
   "source": [
    "<img src=\"images/data_modeling_pipeline.png\" width=\"400\" align=\"left\"/>"
   ]
  },
  {
   "cell_type": "markdown",
   "metadata": {},
   "source": [
    "### 3.1. Model Definition"
   ]
  },
  {
   "cell_type": "markdown",
   "metadata": {},
   "source": [
    "The Convolutional Neural Network is a fully connected feed forward neural network. Due to the fact that the image data has high dimensionality and the number of parameters grows very fast, the pixel by pixel computing and model training is computationally complicated. But CNN is very effective in reducing the number of parameters without losing the quality of models. The main CNN components are as follows:"
   ]
  },
  {
   "cell_type": "markdown",
   "metadata": {},
   "source": [
    "<img src=\"images/CNN_architecture.png\" width=\"900\" align=\"left\"/>"
   ]
  },
  {
   "cell_type": "markdown",
   "metadata": {},
   "source": [
    "- __Input Layer:__ Reads the image that is represented by three dimensional (RGB-channels) matrix. There are no parameters to learn here."
   ]
  },
  {
   "cell_type": "markdown",
   "metadata": {},
   "source": [
    "- __Convolution Layer:__ Extracts features from the input image such as edges, corners etc. Feature extraction is performed by convolution filters whose values are initialized randomly and then adjusted over several iterations of training (backpropagation). The input image is segmented into smaller pieces (feature maps) and the value of a destination pixel is a linear combination of the input and the sliding filter weights and biases. The scores are high if the filters are like the image and vice versa. Convolution returns as many feature maps as the number of filters used."
   ]
  },
  {
   "cell_type": "markdown",
   "metadata": {},
   "source": [
    "<img src=\"images/convolution.png\" width=\"500\" align=\"left\"/>"
   ]
  },
  {
   "cell_type": "markdown",
   "metadata": {},
   "source": [
    "- __Pooling Layer:__ Reduces the image dimension size while maintaining the most important information. If we had a 4x4 image the pooling operation would pick the max value from each 2x2 region. The activation map is now 25% of its original size. There are no parameters to learn here."
   ]
  },
  {
   "cell_type": "markdown",
   "metadata": {},
   "source": [
    "<img src=\"images/pooling.png\" width=\"300\" align=\"left\"/>"
   ]
  },
  {
   "cell_type": "markdown",
   "metadata": {},
   "source": [
    "- __Fully Connected Layer:__ Takes the features extracted in Convolution and Pooling layer and puts them through a feedforward neural network for classification. The main subcomponents of this layer are:\n",
    "     - __Flatten:__ Converts the last matrix into a one-dimensional vector. It serves as a connection between the Convolution and Dense layers.\n",
    "     - __Dense:__ Each neuron receives input from previous layer (thus densely connected).\n",
    "     - __Dropout:__ A technique to reduce overfitting in CNN. It randomly drops units from a layer on each training step.\n",
    "     <img src=\"images/fully_connected.png\" width=\"500\" align=\"left\"/>"
   ]
  },
  {
   "cell_type": "markdown",
   "metadata": {},
   "source": [
    "- __Activation functions:__ Decides whether a neuron should be activated or not. It maps the resulting values into the desired range. \n",
    "   - __ReLU function:__ Maps the output of neuron to the highest positive value. We can say, it is a ‘positive filter’. If output is negative, it maps it to the zero.\n",
    "   - __Softmax function:__ Converts the score into probability values and data is classified into a corresponding class that has the highest probability value."
   ]
  },
  {
   "cell_type": "markdown",
   "metadata": {},
   "source": [
    "<img src=\"images/activations.png\" width=\"800\" align=\"left\"/>"
   ]
  },
  {
   "cell_type": "markdown",
   "metadata": {},
   "source": [
    "Define the model hyperparameters."
   ]
  },
  {
   "cell_type": "code",
   "execution_count": 8,
   "metadata": {},
   "outputs": [],
   "source": [
    "IMG_WIDTH, IMG_HEIGHT = 64, 64\n",
    "NUMBER_OF_CLASSES = 3\n",
    "BATCH_SIZE = 32\n",
    "EPOCHS = 100\n",
    "DROPOUT_RATE = 0.5\n",
    "\n",
    "LOSS = 'categorical_crossentropy'\n",
    "OPTIMIZER = 'rmsprop'\n",
    "METRICS = ['accuracy']\n",
    "CLASS_MODE = 'categorical'\n",
    "CNN_MODEL_FILE_NAME = 'landmark_images_recognition.h5'\n",
    "\n",
    "if K.image_data_format() == 'channels_first':\n",
    "    input_shape = (3, IMG_WIDTH, IMG_HEIGHT)\n",
    "else:\n",
    "    input_shape = (IMG_WIDTH, IMG_HEIGHT, 3)"
   ]
  },
  {
   "cell_type": "markdown",
   "metadata": {},
   "source": [
    "Construct the model architecture. In this project the type of model architecture is selected *'Conv-Pool-Conv-Pool-Conv-Pool-Conv-Pool'*."
   ]
  },
  {
   "cell_type": "code",
   "execution_count": 10,
   "metadata": {},
   "outputs": [],
   "source": [
    "cnn_model = Sequential()\n",
    "cnn_model.add(Conv2D(32, kernel_size=(3, 3), activation='relu', input_shape=input_shape))\n",
    "cnn_model.add(BatchNormalization())\n",
    "cnn_model.add(MaxPooling2D(pool_size=(2, 2), strides=2))\n",
    "\n",
    "cnn_model.add(Conv2D(64, kernel_size=(3, 3), activation='relu'))\n",
    "cnn_model.add(BatchNormalization())\n",
    "cnn_model.add(MaxPooling2D(pool_size=(2, 2), strides=2))\n",
    "\n",
    "cnn_model.add(Conv2D(128, kernel_size=(3, 3), activation='relu'))\n",
    "cnn_model.add(BatchNormalization())\n",
    "cnn_model.add(MaxPooling2D(pool_size=(2, 2), strides=2))\n",
    "\n",
    "cnn_model.add(Conv2D(256, kernel_size=(3, 3), activation='relu'))\n",
    "cnn_model.add(BatchNormalization())\n",
    "cnn_model.add(MaxPooling2D(pool_size=(2, 2), strides=2))\n",
    "\n",
    "cnn_model.add(Flatten())\n",
    "\n",
    "cnn_model.add(Dense(256, activation='relu'))\n",
    "cnn_model.add(BatchNormalization())\n",
    "cnn_model.add(Dropout(DROPOUT_RATE))\n",
    "\n",
    "cnn_model.add(Dense(256, activation='relu'))\n",
    "cnn_model.add(BatchNormalization())\n",
    "cnn_model.add(Dropout(DROPOUT_RATE))\n",
    "\n",
    "# The number of nodes in last Dense layer must equal to the number of classes.\n",
    "cnn_model.add(Dense(NUMBER_OF_CLASSES, activation='softmax'))"
   ]
  },
  {
   "cell_type": "markdown",
   "metadata": {},
   "source": [
    "<img src=\"images/model_scema.jpg\" width=\"350\" align=\"left\"/>"
   ]
  },
  {
   "cell_type": "markdown",
   "metadata": {},
   "source": [
    "Print out the model summary. The total number of trainable parameters (weights and biases) is 719,363."
   ]
  },
  {
   "cell_type": "code",
   "execution_count": 11,
   "metadata": {},
   "outputs": [
    {
     "name": "stdout",
     "output_type": "stream",
     "text": [
      "Model: \"sequential_2\"\n",
      "_________________________________________________________________\n",
      "Layer (type)                 Output Shape              Param #   \n",
      "=================================================================\n",
      "conv2d_5 (Conv2D)            (None, 62, 62, 32)        896       \n",
      "_________________________________________________________________\n",
      "batch_normalization_7 (Batch (None, 62, 62, 32)        128       \n",
      "_________________________________________________________________\n",
      "max_pooling2d_5 (MaxPooling2 (None, 31, 31, 32)        0         \n",
      "_________________________________________________________________\n",
      "conv2d_6 (Conv2D)            (None, 29, 29, 64)        18496     \n",
      "_________________________________________________________________\n",
      "batch_normalization_8 (Batch (None, 29, 29, 64)        256       \n",
      "_________________________________________________________________\n",
      "max_pooling2d_6 (MaxPooling2 (None, 14, 14, 64)        0         \n",
      "_________________________________________________________________\n",
      "conv2d_7 (Conv2D)            (None, 12, 12, 128)       73856     \n",
      "_________________________________________________________________\n",
      "batch_normalization_9 (Batch (None, 12, 12, 128)       512       \n",
      "_________________________________________________________________\n",
      "max_pooling2d_7 (MaxPooling2 (None, 6, 6, 128)         0         \n",
      "_________________________________________________________________\n",
      "conv2d_8 (Conv2D)            (None, 4, 4, 256)         295168    \n",
      "_________________________________________________________________\n",
      "batch_normalization_10 (Batc (None, 4, 4, 256)         1024      \n",
      "_________________________________________________________________\n",
      "max_pooling2d_8 (MaxPooling2 (None, 2, 2, 256)         0         \n",
      "_________________________________________________________________\n",
      "flatten_2 (Flatten)          (None, 1024)              0         \n",
      "_________________________________________________________________\n",
      "dense_4 (Dense)              (None, 256)               262400    \n",
      "_________________________________________________________________\n",
      "batch_normalization_11 (Batc (None, 256)               1024      \n",
      "_________________________________________________________________\n",
      "dropout_3 (Dropout)          (None, 256)               0         \n",
      "_________________________________________________________________\n",
      "dense_5 (Dense)              (None, 256)               65792     \n",
      "_________________________________________________________________\n",
      "batch_normalization_12 (Batc (None, 256)               1024      \n",
      "_________________________________________________________________\n",
      "dropout_4 (Dropout)          (None, 256)               0         \n",
      "_________________________________________________________________\n",
      "dense_6 (Dense)              (None, 3)                 771       \n",
      "=================================================================\n",
      "Total params: 721,347\n",
      "Trainable params: 719,363\n",
      "Non-trainable params: 1,984\n",
      "_________________________________________________________________\n"
     ]
    }
   ],
   "source": [
    "cnn_model.summary()"
   ]
  },
  {
   "cell_type": "markdown",
   "metadata": {},
   "source": [
    "### 3.2. Model Training"
   ]
  },
  {
   "cell_type": "code",
   "execution_count": 12,
   "metadata": {},
   "outputs": [],
   "source": [
    "# Compile the model.\n",
    "cnn_model.compile(loss=LOSS,\n",
    "              optimizer=OPTIMIZER,\n",
    "              metrics=METRICS)"
   ]
  },
  {
   "cell_type": "code",
   "execution_count": 13,
   "metadata": {},
   "outputs": [],
   "source": [
    "# Configure image augmentation to increase the number of images for training.\n",
    "train_datagen = ImageDataGenerator(\n",
    "    rescale=1. / 255,\n",
    "    rotation_range=20,\n",
    "    width_shift_range=0.2,\n",
    "    height_shift_range=0.2,\n",
    "    shear_range=0.2,\n",
    "    zoom_range=0.2,\n",
    "    horizontal_flip=True,\n",
    "    vertical_flip=True)"
   ]
  },
  {
   "cell_type": "code",
   "execution_count": 14,
   "metadata": {},
   "outputs": [
    {
     "name": "stdout",
     "output_type": "stream",
     "text": [
      "Found 4800 images belonging to 3 classes.\n"
     ]
    }
   ],
   "source": [
    "# Read train dataset images into memory.\n",
    "train_generator = train_datagen.flow_from_directory(\n",
    "    DATASET_TRAIN,\n",
    "    target_size=(IMG_WIDTH, IMG_HEIGHT),\n",
    "    batch_size=BATCH_SIZE,\n",
    "    class_mode=CLASS_MODE,\n",
    "    seed=10)"
   ]
  },
  {
   "cell_type": "code",
   "execution_count": 15,
   "metadata": {},
   "outputs": [],
   "source": [
    "# Configure image augmentation for testing (only rescaling).\n",
    "validation_datagen = ImageDataGenerator(rescale=1./255)"
   ]
  },
  {
   "cell_type": "code",
   "execution_count": 16,
   "metadata": {},
   "outputs": [
    {
     "name": "stdout",
     "output_type": "stream",
     "text": [
      "Found 1200 images belonging to 3 classes.\n"
     ]
    }
   ],
   "source": [
    "# Read validation dataset images into memory.\n",
    "validation_generator = validation_datagen.flow_from_directory(\n",
    "    DATASET_VALIDATION,\n",
    "    target_size=(IMG_WIDTH, IMG_HEIGHT),\n",
    "    batch_size=BATCH_SIZE,\n",
    "    class_mode=CLASS_MODE,\n",
    "    seed=10)"
   ]
  },
  {
   "cell_type": "code",
   "execution_count": 17,
   "metadata": {},
   "outputs": [
    {
     "name": "stdout",
     "output_type": "stream",
     "text": [
      "Found 1500 images belonging to 3 classes.\n"
     ]
    }
   ],
   "source": [
    "# Read test dataset images into memory.\n",
    "test_generator = validation_datagen.flow_from_directory(\n",
    "    DATASET_TEST,\n",
    "    target_size=(IMG_WIDTH, IMG_HEIGHT),\n",
    "    batch_size=BATCH_SIZE,\n",
    "    class_mode=CLASS_MODE,\n",
    "    shuffle=False, # keep data in same order as labels\n",
    "    seed=10)"
   ]
  },
  {
   "cell_type": "code",
   "execution_count": 18,
   "metadata": {},
   "outputs": [
    {
     "name": "stdout",
     "output_type": "stream",
     "text": [
      "Epoch 1/100\n",
      "50/50 [==============================] - 259s 5s/step - loss: 1.5059 - acc: 0.4600 - val_loss: 2.1312 - val_acc: 0.4792\n",
      "Epoch 2/100\n",
      "50/50 [==============================] - 180s 4s/step - loss: 1.3574 - acc: 0.4750 - val_loss: 2.1638 - val_acc: 0.4453\n",
      "Epoch 3/100\n",
      "50/50 [==============================] - 172s 3s/step - loss: 1.1445 - acc: 0.5338 - val_loss: 3.6624 - val_acc: 0.4010\n",
      "Epoch 4/100\n",
      "50/50 [==============================] - 191s 4s/step - loss: 1.0671 - acc: 0.5419 - val_loss: 3.6318 - val_acc: 0.4103\n",
      "Epoch 5/100\n",
      "50/50 [==============================] - 179s 4s/step - loss: 1.0113 - acc: 0.5444 - val_loss: 3.9459 - val_acc: 0.3542\n",
      "Epoch 6/100\n",
      "50/50 [==============================] - 181s 4s/step - loss: 0.9069 - acc: 0.5919 - val_loss: 1.3688 - val_acc: 0.5573\n",
      "Epoch 7/100\n",
      "50/50 [==============================] - 163s 3s/step - loss: 0.8579 - acc: 0.6106 - val_loss: 1.4258 - val_acc: 0.5326\n",
      "Epoch 8/100\n",
      "50/50 [==============================] - 184s 4s/step - loss: 0.7915 - acc: 0.6450 - val_loss: 2.2251 - val_acc: 0.4349\n",
      "Epoch 9/100\n",
      "50/50 [==============================] - 160s 3s/step - loss: 0.7847 - acc: 0.6375 - val_loss: 2.4702 - val_acc: 0.4401\n",
      "Epoch 10/100\n",
      "50/50 [==============================] - 185s 4s/step - loss: 0.7013 - acc: 0.6794 - val_loss: 0.8150 - val_acc: 0.7038\n",
      "Epoch 11/100\n",
      "50/50 [==============================] - 168s 3s/step - loss: 0.7353 - acc: 0.6625 - val_loss: 0.6475 - val_acc: 0.7109\n",
      "Epoch 12/100\n",
      "50/50 [==============================] - 180s 4s/step - loss: 0.6385 - acc: 0.7181 - val_loss: 1.4074 - val_acc: 0.5104\n",
      "Epoch 13/100\n",
      "50/50 [==============================] - 176s 4s/step - loss: 0.6338 - acc: 0.7275 - val_loss: 0.6316 - val_acc: 0.7228\n",
      "Epoch 14/100\n",
      "50/50 [==============================] - 172s 3s/step - loss: 0.6355 - acc: 0.7275 - val_loss: 0.9586 - val_acc: 0.6276\n",
      "Epoch 15/100\n",
      "50/50 [==============================] - 183s 4s/step - loss: 0.5978 - acc: 0.7469 - val_loss: 0.6147 - val_acc: 0.7240\n",
      "Epoch 16/100\n",
      "50/50 [==============================] - 168s 3s/step - loss: 0.5413 - acc: 0.7681 - val_loss: 0.9801 - val_acc: 0.6549\n",
      "Epoch 17/100\n",
      "50/50 [==============================] - 188s 4s/step - loss: 0.5654 - acc: 0.7638 - val_loss: 0.5118 - val_acc: 0.7734\n",
      "Epoch 18/100\n",
      "50/50 [==============================] - 163s 3s/step - loss: 0.5728 - acc: 0.7638 - val_loss: 0.6100 - val_acc: 0.7708\n",
      "Epoch 19/100\n",
      "50/50 [==============================] - 181s 4s/step - loss: 0.5263 - acc: 0.7725 - val_loss: 0.5705 - val_acc: 0.7853\n",
      "Epoch 20/100\n",
      "50/50 [==============================] - 179s 4s/step - loss: 0.5283 - acc: 0.7844 - val_loss: 0.4781 - val_acc: 0.8125\n",
      "Epoch 21/100\n",
      "50/50 [==============================] - 276s 6s/step - loss: 0.5362 - acc: 0.7719 - val_loss: 0.3843 - val_acc: 0.8359\n",
      "Epoch 22/100\n",
      "50/50 [==============================] - 208s 4s/step - loss: 0.4800 - acc: 0.8031 - val_loss: 0.5396 - val_acc: 0.7656\n",
      "Epoch 23/100\n",
      "50/50 [==============================] - 163s 3s/step - loss: 0.5090 - acc: 0.8000 - val_loss: 1.7673 - val_acc: 0.4647\n",
      "Epoch 24/100\n",
      "50/50 [==============================] - 180s 4s/step - loss: 0.5000 - acc: 0.7938 - val_loss: 0.4874 - val_acc: 0.8099\n",
      "Epoch 25/100\n",
      "50/50 [==============================] - 167s 3s/step - loss: 0.4749 - acc: 0.8013 - val_loss: 0.5060 - val_acc: 0.8073\n",
      "Epoch 26/100\n",
      "50/50 [==============================] - 174s 3s/step - loss: 0.4806 - acc: 0.7981 - val_loss: 0.9408 - val_acc: 0.6196\n",
      "Epoch 27/100\n",
      "50/50 [==============================] - 192s 4s/step - loss: 0.4303 - acc: 0.8256 - val_loss: 0.5114 - val_acc: 0.7969\n",
      "Epoch 28/100\n",
      "50/50 [==============================] - 172s 3s/step - loss: 0.4669 - acc: 0.8056 - val_loss: 0.3875 - val_acc: 0.8411\n",
      "Epoch 29/100\n",
      "50/50 [==============================] - 180s 4s/step - loss: 0.4312 - acc: 0.8275 - val_loss: 0.4495 - val_acc: 0.8261\n",
      "Epoch 30/100\n",
      "50/50 [==============================] - 175s 4s/step - loss: 0.4377 - acc: 0.8237 - val_loss: 0.4997 - val_acc: 0.7995\n",
      "Epoch 31/100\n",
      "50/50 [==============================] - 174s 3s/step - loss: 0.4327 - acc: 0.8306 - val_loss: 0.4109 - val_acc: 0.8620\n",
      "Epoch 32/100\n",
      "50/50 [==============================] - 160s 3s/step - loss: 0.4492 - acc: 0.8144 - val_loss: 0.8614 - val_acc: 0.6821\n",
      "Epoch 33/100\n",
      "50/50 [==============================] - 194s 4s/step - loss: 0.4023 - acc: 0.8356 - val_loss: 0.2950 - val_acc: 0.8802\n",
      "Epoch 34/100\n",
      "50/50 [==============================] - 176s 4s/step - loss: 0.4068 - acc: 0.8344 - val_loss: 0.9687 - val_acc: 0.6953\n",
      "Epoch 35/100\n",
      "50/50 [==============================] - 184s 4s/step - loss: 0.3960 - acc: 0.8406 - val_loss: 0.4517 - val_acc: 0.8315\n",
      "Epoch 36/100\n",
      "50/50 [==============================] - 189s 4s/step - loss: 0.4196 - acc: 0.8375 - val_loss: 0.3407 - val_acc: 0.8646\n",
      "Epoch 37/100\n",
      "50/50 [==============================] - 165s 3s/step - loss: 0.3576 - acc: 0.8494 - val_loss: 0.4983 - val_acc: 0.8307\n",
      "Epoch 38/100\n",
      "50/50 [==============================] - 173s 3s/step - loss: 0.4165 - acc: 0.8331 - val_loss: 0.5846 - val_acc: 0.7418\n",
      "Epoch 39/100\n",
      "50/50 [==============================] - 181s 4s/step - loss: 0.3872 - acc: 0.8450 - val_loss: 0.3557 - val_acc: 0.8411\n",
      "Epoch 40/100\n",
      "50/50 [==============================] - 181s 4s/step - loss: 0.3914 - acc: 0.8544 - val_loss: 1.3803 - val_acc: 0.6042\n",
      "Epoch 41/100\n",
      "50/50 [==============================] - 171s 3s/step - loss: 0.4115 - acc: 0.8387 - val_loss: 0.7418 - val_acc: 0.7474\n",
      "Epoch 42/100\n",
      "50/50 [==============================] - 184s 4s/step - loss: 0.3778 - acc: 0.8500 - val_loss: 0.3311 - val_acc: 0.8560\n",
      "Epoch 43/100\n",
      "50/50 [==============================] - 168s 3s/step - loss: 0.3475 - acc: 0.8606 - val_loss: 0.4744 - val_acc: 0.8385\n",
      "Epoch 44/100\n",
      "50/50 [==============================] - 188s 4s/step - loss: 0.3727 - acc: 0.8581 - val_loss: 0.2782 - val_acc: 0.8880\n",
      "Epoch 45/100\n",
      "50/50 [==============================] - 184s 4s/step - loss: 0.3843 - acc: 0.8475 - val_loss: 0.5592 - val_acc: 0.7636\n",
      "Epoch 46/100\n",
      "50/50 [==============================] - 171s 3s/step - loss: 0.3840 - acc: 0.8512 - val_loss: 0.3634 - val_acc: 0.8594\n",
      "Epoch 47/100\n",
      "50/50 [==============================] - 178s 4s/step - loss: 0.3739 - acc: 0.8538 - val_loss: 0.4228 - val_acc: 0.8385\n",
      "Epoch 48/100\n",
      "50/50 [==============================] - 166s 3s/step - loss: 0.3586 - acc: 0.8556 - val_loss: 0.6269 - val_acc: 0.7826\n",
      "Epoch 49/100\n",
      "50/50 [==============================] - 186s 4s/step - loss: 0.3417 - acc: 0.8750 - val_loss: 0.3627 - val_acc: 0.8620\n",
      "Epoch 50/100\n",
      "50/50 [==============================] - 169s 3s/step - loss: 0.3349 - acc: 0.8625 - val_loss: 0.3396 - val_acc: 0.8646\n",
      "Epoch 51/100\n",
      "50/50 [==============================] - 188s 4s/step - loss: 0.3782 - acc: 0.8612 - val_loss: 0.3804 - val_acc: 0.8315\n",
      "Epoch 52/100\n",
      "50/50 [==============================] - 171s 3s/step - loss: 0.3796 - acc: 0.8531 - val_loss: 0.4233 - val_acc: 0.8281\n",
      "Epoch 53/100\n",
      "50/50 [==============================] - 177s 4s/step - loss: 0.3365 - acc: 0.8675 - val_loss: 0.7180 - val_acc: 0.7448\n",
      "Epoch 54/100\n",
      "50/50 [==============================] - 160s 3s/step - loss: 0.3258 - acc: 0.8700 - val_loss: 0.3776 - val_acc: 0.8370\n",
      "Epoch 55/100\n",
      "50/50 [==============================] - 171s 3s/step - loss: 0.3474 - acc: 0.8588 - val_loss: 0.6813 - val_acc: 0.7734\n",
      "Epoch 56/100\n",
      "50/50 [==============================] - 179s 4s/step - loss: 0.3251 - acc: 0.8812 - val_loss: 1.4069 - val_acc: 0.5885\n",
      "Epoch 57/100\n",
      "50/50 [==============================] - 161s 3s/step - loss: 0.3422 - acc: 0.8638 - val_loss: 0.3720 - val_acc: 0.8696\n",
      "Epoch 58/100\n",
      "50/50 [==============================] - 188s 4s/step - loss: 0.3384 - acc: 0.8662 - val_loss: 0.4928 - val_acc: 0.8047\n",
      "Epoch 59/100\n",
      "50/50 [==============================] - 162s 3s/step - loss: 0.3306 - acc: 0.8744 - val_loss: 0.3720 - val_acc: 0.8542\n",
      "Epoch 60/100\n",
      "50/50 [==============================] - 176s 4s/step - loss: 0.3161 - acc: 0.8831 - val_loss: 0.3123 - val_acc: 0.8932\n",
      "Epoch 61/100\n",
      "50/50 [==============================] - 174s 3s/step - loss: 0.3037 - acc: 0.8750 - val_loss: 0.2770 - val_acc: 0.8940\n",
      "Epoch 62/100\n",
      "50/50 [==============================] - 180s 4s/step - loss: 0.3355 - acc: 0.8713 - val_loss: 0.4108 - val_acc: 0.8411\n",
      "Epoch 63/100\n",
      "50/50 [==============================] - 172s 3s/step - loss: 0.3571 - acc: 0.8619 - val_loss: 0.4924 - val_acc: 0.8151\n",
      "Epoch 64/100\n",
      "50/50 [==============================] - 179s 4s/step - loss: 0.3549 - acc: 0.8625 - val_loss: 0.3199 - val_acc: 0.8967\n",
      "Epoch 65/100\n",
      "50/50 [==============================] - 170s 3s/step - loss: 0.3245 - acc: 0.8731 - val_loss: 0.3931 - val_acc: 0.8438\n",
      "Epoch 66/100\n",
      "50/50 [==============================] - 183s 4s/step - loss: 0.3498 - acc: 0.8688 - val_loss: 0.4820 - val_acc: 0.8047\n",
      "Epoch 67/100\n",
      "50/50 [==============================] - 177s 4s/step - loss: 0.2952 - acc: 0.8875 - val_loss: 0.4222 - val_acc: 0.8478\n",
      "Epoch 68/100\n",
      "50/50 [==============================] - 174s 3s/step - loss: 0.3430 - acc: 0.8650 - val_loss: 0.5023 - val_acc: 0.8307\n",
      "Epoch 69/100\n",
      "50/50 [==============================] - 177s 4s/step - loss: 0.3309 - acc: 0.8787 - val_loss: 0.3496 - val_acc: 0.8698\n",
      "Epoch 70/100\n",
      "50/50 [==============================] - 164s 3s/step - loss: 0.3038 - acc: 0.8881 - val_loss: 0.5558 - val_acc: 0.8207\n",
      "Epoch 71/100\n",
      "50/50 [==============================] - 188s 4s/step - loss: 0.3057 - acc: 0.8812 - val_loss: 0.2540 - val_acc: 0.9062\n",
      "Epoch 72/100\n",
      "50/50 [==============================] - 162s 3s/step - loss: 0.3172 - acc: 0.8731 - val_loss: 0.3741 - val_acc: 0.8594\n",
      "Epoch 73/100\n",
      "50/50 [==============================] - 175s 4s/step - loss: 0.3054 - acc: 0.8787 - val_loss: 0.2701 - val_acc: 0.8995\n",
      "Epoch 74/100\n",
      "50/50 [==============================] - 168s 3s/step - loss: 0.3258 - acc: 0.8694 - val_loss: 0.4100 - val_acc: 0.8333\n",
      "Epoch 75/100\n",
      "50/50 [==============================] - 187s 4s/step - loss: 0.3147 - acc: 0.8831 - val_loss: 0.2360 - val_acc: 0.9062\n",
      "Epoch 76/100\n",
      "50/50 [==============================] - 176s 4s/step - loss: 0.2991 - acc: 0.8888 - val_loss: 0.3107 - val_acc: 0.8859\n",
      "Epoch 77/100\n",
      "50/50 [==============================] - 191s 4s/step - loss: 0.2908 - acc: 0.8862 - val_loss: 0.2547 - val_acc: 0.9062\n",
      "Epoch 78/100\n",
      "50/50 [==============================] - 179s 4s/step - loss: 0.3063 - acc: 0.8825 - val_loss: 0.5790 - val_acc: 0.8047\n",
      "Epoch 79/100\n",
      "50/50 [==============================] - 161s 3s/step - loss: 0.3055 - acc: 0.8812 - val_loss: 0.4073 - val_acc: 0.8203\n",
      "Epoch 80/100\n",
      "50/50 [==============================] - 241s 5s/step - loss: 0.2670 - acc: 0.8937 - val_loss: 0.5851 - val_acc: 0.7935\n",
      "Epoch 81/100\n",
      "50/50 [==============================] - 224s 4s/step - loss: 0.2998 - acc: 0.8800 - val_loss: 0.2760 - val_acc: 0.8828\n",
      "Epoch 82/100\n",
      "50/50 [==============================] - 182s 4s/step - loss: 0.2556 - acc: 0.9012 - val_loss: 0.5786 - val_acc: 0.7969\n",
      "Epoch 83/100\n",
      "50/50 [==============================] - 200s 4s/step - loss: 0.3014 - acc: 0.8969 - val_loss: 0.5157 - val_acc: 0.7962\n",
      "Epoch 84/100\n",
      "50/50 [==============================] - 211s 4s/step - loss: 0.3008 - acc: 0.8881 - val_loss: 0.4233 - val_acc: 0.8464\n",
      "Epoch 85/100\n",
      "50/50 [==============================] - 214s 4s/step - loss: 0.2868 - acc: 0.8956 - val_loss: 0.3037 - val_acc: 0.8906\n",
      "Epoch 86/100\n",
      "50/50 [==============================] - 243s 5s/step - loss: 0.2831 - acc: 0.8875 - val_loss: 0.2195 - val_acc: 0.9158\n",
      "Epoch 87/100\n",
      "50/50 [==============================] - 182s 4s/step - loss: 0.2953 - acc: 0.8900 - val_loss: 0.3259 - val_acc: 0.8854\n",
      "Epoch 88/100\n",
      "50/50 [==============================] - 190s 4s/step - loss: 0.2798 - acc: 0.8944 - val_loss: 0.3456 - val_acc: 0.8750\n",
      "Epoch 89/100\n",
      "50/50 [==============================] - 170s 3s/step - loss: 0.2883 - acc: 0.8900 - val_loss: 0.3813 - val_acc: 0.8533\n",
      "Epoch 90/100\n",
      "50/50 [==============================] - 200s 4s/step - loss: 0.2869 - acc: 0.8937 - val_loss: 0.4250 - val_acc: 0.8411\n",
      "Epoch 91/100\n",
      "50/50 [==============================] - 193s 4s/step - loss: 0.2725 - acc: 0.8981 - val_loss: 0.1900 - val_acc: 0.9297\n",
      "Epoch 92/100\n",
      "50/50 [==============================] - 168s 3s/step - loss: 0.2485 - acc: 0.9062 - val_loss: 0.4816 - val_acc: 0.8505\n",
      "Epoch 93/100\n",
      "50/50 [==============================] - 191s 4s/step - loss: 0.2952 - acc: 0.8912 - val_loss: 0.1566 - val_acc: 0.9401\n",
      "Epoch 94/100\n",
      "50/50 [==============================] - 169s 3s/step - loss: 0.2877 - acc: 0.8906 - val_loss: 0.2282 - val_acc: 0.9010\n",
      "Epoch 95/100\n",
      "50/50 [==============================] - 193s 4s/step - loss: 0.3086 - acc: 0.8806 - val_loss: 0.5217 - val_acc: 0.7962\n",
      "Epoch 96/100\n",
      "50/50 [==============================] - 186s 4s/step - loss: 0.2612 - acc: 0.8981 - val_loss: 0.5825 - val_acc: 0.8151\n",
      "Epoch 97/100\n",
      "50/50 [==============================] - 173s 3s/step - loss: 0.2627 - acc: 0.8975 - val_loss: 0.1926 - val_acc: 0.9271\n",
      "Epoch 98/100\n",
      "50/50 [==============================] - 193s 4s/step - loss: 0.2883 - acc: 0.8906 - val_loss: 0.4008 - val_acc: 0.8464\n",
      "Epoch 99/100\n",
      "50/50 [==============================] - 173s 3s/step - loss: 0.2761 - acc: 0.8988 - val_loss: 0.1358 - val_acc: 0.9429\n",
      "Epoch 100/100\n",
      "50/50 [==============================] - 205s 4s/step - loss: 0.2456 - acc: 0.9056 - val_loss: 0.2758 - val_acc: 0.9010\n",
      "[INFO] Time elapsed: 18220.49 seconds\n"
     ]
    }
   ],
   "source": [
    "# Start model training.\n",
    "start_time = time.time()\n",
    "\n",
    "history = cnn_model.fit_generator(\n",
    "    train_generator,\n",
    "    steps_per_epoch=TRAIN_SIZE // BATCH_SIZE,\n",
    "    epochs=EPOCHS,\n",
    "    validation_data=validation_generator,\n",
    "    validation_steps=VALIDATION_SIZE // BATCH_SIZE)\n",
    "\n",
    "end_time = time.time()\n",
    "print(\"[INFO] Time elapsed: {:.2f} seconds\".format(end_time-start_time))"
   ]
  },
  {
   "cell_type": "code",
   "execution_count": 19,
   "metadata": {},
   "outputs": [
    {
     "data": {
      "image/png": "[encoded data removed]",
      "text/plain": [
       "<Figure size 432x288 with 1 Axes>"
      ]
     },
     "metadata": {
      "needs_background": "light"
     },
     "output_type": "display_data"
    }
   ],
   "source": [
    "# Visualize the result of training and validation accuracy.\n",
    "acc = history.history['acc']\n",
    "val_acc = history.history['val_acc']\n",
    "loss = history.history['loss']\n",
    "val_loss = history.history['val_loss']\n",
    "epochs = range(len(acc))\n",
    "\n",
    "ax = plt.subplot(111)\n",
    "\n",
    "ax.plot(epochs, acc, 'r', label='Training accuracy')\n",
    "ax.plot(epochs, val_acc, 'g', label='Validation accuracy')\n",
    "ax.set_title('Training and validation accuracy')\n",
    "ax.set_ylabel('Accuracy')\n",
    "ax.set_xlabel('Epochs')\n",
    "ax.legend(loc=0)\n",
    "\n",
    "# Hide the right and top spines\n",
    "ax.spines['right'].set_visible(False)\n",
    "ax.spines['top'].set_visible(False)\n",
    "\n",
    "# Only show ticks on the left and bottom spines\n",
    "ax.yaxis.set_ticks_position('left')\n",
    "ax.xaxis.set_ticks_position('bottom')\n",
    "\n",
    "plt.show()"
   ]
  },
  {
   "cell_type": "markdown",
   "metadata": {},
   "source": [
    "It can be seen that the model converges quite well over iterations but there are also some bigger fluctuations in validation accuracy."
   ]
  },
  {
   "cell_type": "markdown",
   "metadata": {},
   "source": [
    "Save the model weights and architecture into H5 data format (Hierarchical Data Format) file."
   ]
  },
  {
   "cell_type": "code",
   "execution_count": 20,
   "metadata": {},
   "outputs": [],
   "source": [
    "cnn_model.save(CNN_MODEL_FILE_NAME)"
   ]
  },
  {
   "cell_type": "markdown",
   "metadata": {},
   "source": [
    "### 3.3. Model Evaluation"
   ]
  },
  {
   "cell_type": "markdown",
   "metadata": {},
   "source": [
    "Load the previously saved model."
   ]
  },
  {
   "cell_type": "code",
   "execution_count": 21,
   "metadata": {},
   "outputs": [],
   "source": [
    "cnn_model = load_model(CNN_MODEL_FILE_NAME)"
   ]
  },
  {
   "cell_type": "markdown",
   "metadata": {},
   "source": [
    "#### 3.3.1. Defining Prediction Metrics"
   ]
  },
  {
   "cell_type": "markdown",
   "metadata": {},
   "source": [
    "The model is evaluated through Accuracy, Precision, Recall and F1-score which are the common metrics when it comes to judge the performance of image classification."
   ]
  },
  {
   "cell_type": "markdown",
   "metadata": {},
   "source": [
    "- __Accuracy:__ The proportion of total number of predictions that were correctly identified."
   ]
  },
  {
   "cell_type": "markdown",
   "metadata": {},
   "source": [
    "- __Precision:__ The proportion of positive cases that were correctly identified. Or in other words: \"For all instances classified positive, what percent was correct?”"
   ]
  },
  {
   "cell_type": "markdown",
   "metadata": {},
   "source": [
    "- __Recall/Sensitivity:__ The proportion of actual positive cases that were correctly identified. Or in other words: \"For all instances that were actually positive, what percent was classified correctly?”"
   ]
  },
  {
   "cell_type": "markdown",
   "metadata": {},
   "source": [
    "- __F1-score:__ Weighted harmonic mean of precision and recall such that the best score is 1.0 and the worst is 0.0."
   ]
  },
  {
   "cell_type": "code",
   "execution_count": 22,
   "metadata": {},
   "outputs": [],
   "source": [
    "# Calculate the Accuracy score.\n",
    "cnn_acc_score = cnn_model.evaluate_generator(test_generator)"
   ]
  },
  {
   "cell_type": "code",
   "execution_count": 23,
   "metadata": {},
   "outputs": [
    {
     "name": "stdout",
     "output_type": "stream",
     "text": [
      "[INFO] CNN model accuracy score for Test Dataset: 91.7%\n"
     ]
    }
   ],
   "source": [
    "print(\"[INFO] CNN model accuracy score for Test Dataset: {:.1f}%\".format(cnn_acc_score[1]*100))"
   ]
  },
  {
   "cell_type": "markdown",
   "metadata": {},
   "source": [
    "It means that in a Test Dataset of __1500 files__ there were __1376 correctly__ and __124 uncorrectly__ identified images."
   ]
  },
  {
   "cell_type": "code",
   "execution_count": 24,
   "metadata": {},
   "outputs": [
    {
     "name": "stdout",
     "output_type": "stream",
     "text": [
      "              precision    recall  f1-score   support\n",
      "\n",
      "     Big_Ben      0.846     0.948     0.894       500\n",
      "Eiffel_Tower      0.935     0.918     0.926       500\n",
      "   Taj_Mahal      0.984     0.884     0.932       500\n",
      "\n",
      "   micro avg      0.917     0.917     0.917      1500\n",
      "   macro avg      0.922     0.917     0.917      1500\n",
      "weighted avg      0.922     0.917     0.917      1500\n",
      "\n"
     ]
    }
   ],
   "source": [
    "# Calculate the Precision, Recall and F1 scores.\n",
    "\n",
    "# Get actual classes\n",
    "true_classes = test_generator.classes\n",
    "\n",
    "# Calculate steps per epoch\n",
    "test_steps_per_epoch = np.math.ceil(test_generator.samples / test_generator.batch_size)\n",
    "test_generator.reset()\n",
    "probabilities = cnn_model.predict_generator(test_generator, steps=test_steps_per_epoch)\n",
    "\n",
    "# Get most likely classes (choose only maximum value)\n",
    "predicted_class_indices = np.argmax(probabilities, axis=1) \n",
    "\n",
    "# Get class labels (Big_Ben, Eiffel_Tower, Taj_Mahal)\n",
    "class_labels = list(test_generator.class_indices.keys())\n",
    "\n",
    "# Calculate classification report\n",
    "cnn_cf_report = classification_report(true_classes, predicted_class_indices, target_names=class_labels, digits=3)\n",
    "print(cnn_cf_report)"
   ]
  },
  {
   "cell_type": "markdown",
   "metadata": {},
   "source": [
    "As the F1-score shows, the model gave best results in predicting 'Taj_Mahal' class label __(93.2%)__, then 'Eiffel_Tower' __(92.6%)__ and the last one was 'Big_Ben' __(89.4%)__. The weighted average F1-score was __91.7%__."
   ]
  },
  {
   "cell_type": "markdown",
   "metadata": {},
   "source": [
    "#### 3.3.2. Visualizing Predictions"
   ]
  },
  {
   "cell_type": "markdown",
   "metadata": {},
   "source": [
    "Construct a dataframe containing the name of picture file, predicted class, verification code and the probability values."
   ]
  },
  {
   "cell_type": "code",
   "execution_count": 18,
   "metadata": {},
   "outputs": [
    {
     "data": {
      "text/html": [
       "<div>\n",
       "<style scoped>\n",
       "    .dataframe tbody tr th:only-of-type {\n",
       "        vertical-align: middle;\n",
       "    }\n",
       "\n",
       "    .dataframe tbody tr th {\n",
       "        vertical-align: top;\n",
       "    }\n",
       "\n",
       "    .dataframe thead th {\n",
       "        text-align: right;\n",
       "    }\n",
       "</style>\n",
       "<table border=\"1\" class=\"dataframe\">\n",
       "  <thead>\n",
       "    <tr style=\"text-align: right;\">\n",
       "      <th></th>\n",
       "      <th>PICTURE_NAME</th>\n",
       "      <th>PREDICTED_CLASS</th>\n",
       "      <th>VERIFICATION</th>\n",
       "      <th>BIG_BEN_PROB</th>\n",
       "      <th>EIFFEL_TOWER_PROB</th>\n",
       "      <th>TAJ_MAHAL_PROB</th>\n",
       "    </tr>\n",
       "  </thead>\n",
       "  <tbody>\n",
       "    <tr>\n",
       "      <th>0</th>\n",
       "      <td>Big_Ben\\Big_Ben_549.jpg</td>\n",
       "      <td>Big_Ben</td>\n",
       "      <td>True</td>\n",
       "      <td>0.9999</td>\n",
       "      <td>0.0001</td>\n",
       "      <td>0.0000</td>\n",
       "    </tr>\n",
       "    <tr>\n",
       "      <th>1</th>\n",
       "      <td>Big_Ben\\Big_Ben_55.jpg</td>\n",
       "      <td>Eiffel_Tower</td>\n",
       "      <td>False</td>\n",
       "      <td>0.0838</td>\n",
       "      <td>0.9154</td>\n",
       "      <td>0.0008</td>\n",
       "    </tr>\n",
       "    <tr>\n",
       "      <th>2</th>\n",
       "      <td>Big_Ben\\Big_Ben_550.jpg</td>\n",
       "      <td>Big_Ben</td>\n",
       "      <td>True</td>\n",
       "      <td>1.0000</td>\n",
       "      <td>0.0000</td>\n",
       "      <td>0.0000</td>\n",
       "    </tr>\n",
       "    <tr>\n",
       "      <th>3</th>\n",
       "      <td>Big_Ben\\Big_Ben_551.jpg</td>\n",
       "      <td>Big_Ben</td>\n",
       "      <td>True</td>\n",
       "      <td>1.0000</td>\n",
       "      <td>0.0000</td>\n",
       "      <td>0.0000</td>\n",
       "    </tr>\n",
       "    <tr>\n",
       "      <th>4</th>\n",
       "      <td>Big_Ben\\Big_Ben_552.jpg</td>\n",
       "      <td>Big_Ben</td>\n",
       "      <td>True</td>\n",
       "      <td>0.9106</td>\n",
       "      <td>0.0864</td>\n",
       "      <td>0.0029</td>\n",
       "    </tr>\n",
       "    <tr>\n",
       "      <th>5</th>\n",
       "      <td>Big_Ben\\Big_Ben_553.jpg</td>\n",
       "      <td>Big_Ben</td>\n",
       "      <td>True</td>\n",
       "      <td>0.9991</td>\n",
       "      <td>0.0009</td>\n",
       "      <td>0.0000</td>\n",
       "    </tr>\n",
       "    <tr>\n",
       "      <th>6</th>\n",
       "      <td>Big_Ben\\Big_Ben_554.jpg</td>\n",
       "      <td>Big_Ben</td>\n",
       "      <td>True</td>\n",
       "      <td>0.9975</td>\n",
       "      <td>0.0022</td>\n",
       "      <td>0.0003</td>\n",
       "    </tr>\n",
       "    <tr>\n",
       "      <th>7</th>\n",
       "      <td>Big_Ben\\Big_Ben_555.jpg</td>\n",
       "      <td>Big_Ben</td>\n",
       "      <td>True</td>\n",
       "      <td>0.9985</td>\n",
       "      <td>0.0014</td>\n",
       "      <td>0.0001</td>\n",
       "    </tr>\n",
       "    <tr>\n",
       "      <th>8</th>\n",
       "      <td>Big_Ben\\Big_Ben_556.jpg</td>\n",
       "      <td>Big_Ben</td>\n",
       "      <td>True</td>\n",
       "      <td>1.0000</td>\n",
       "      <td>0.0000</td>\n",
       "      <td>0.0000</td>\n",
       "    </tr>\n",
       "    <tr>\n",
       "      <th>9</th>\n",
       "      <td>Big_Ben\\Big_Ben_557.jpg</td>\n",
       "      <td>Big_Ben</td>\n",
       "      <td>True</td>\n",
       "      <td>0.9999</td>\n",
       "      <td>0.0001</td>\n",
       "      <td>0.0000</td>\n",
       "    </tr>\n",
       "  </tbody>\n",
       "</table>\n",
       "</div>"
      ],
      "text/plain": [
       "              PICTURE_NAME PREDICTED_CLASS  VERIFICATION  BIG_BEN_PROB  \\\n",
       "0  Big_Ben\\Big_Ben_549.jpg         Big_Ben          True        0.9999   \n",
       "1   Big_Ben\\Big_Ben_55.jpg    Eiffel_Tower         False        0.0838   \n",
       "2  Big_Ben\\Big_Ben_550.jpg         Big_Ben          True        1.0000   \n",
       "3  Big_Ben\\Big_Ben_551.jpg         Big_Ben          True        1.0000   \n",
       "4  Big_Ben\\Big_Ben_552.jpg         Big_Ben          True        0.9106   \n",
       "5  Big_Ben\\Big_Ben_553.jpg         Big_Ben          True        0.9991   \n",
       "6  Big_Ben\\Big_Ben_554.jpg         Big_Ben          True        0.9975   \n",
       "7  Big_Ben\\Big_Ben_555.jpg         Big_Ben          True        0.9985   \n",
       "8  Big_Ben\\Big_Ben_556.jpg         Big_Ben          True        1.0000   \n",
       "9  Big_Ben\\Big_Ben_557.jpg         Big_Ben          True        0.9999   \n",
       "\n",
       "   EIFFEL_TOWER_PROB  TAJ_MAHAL_PROB  \n",
       "0             0.0001          0.0000  \n",
       "1             0.9154          0.0008  \n",
       "2             0.0000          0.0000  \n",
       "3             0.0000          0.0000  \n",
       "4             0.0864          0.0029  \n",
       "5             0.0009          0.0000  \n",
       "6             0.0022          0.0003  \n",
       "7             0.0014          0.0001  \n",
       "8             0.0000          0.0000  \n",
       "9             0.0001          0.0000  "
      ]
     },
     "execution_count": 18,
     "metadata": {},
     "output_type": "execute_result"
    }
   ],
   "source": [
    "labels = (test_generator.class_indices)\n",
    "labels = dict((v,k) for k,v in labels.items())\n",
    "predicted_class_labels = [labels[k] for k in predicted_class_indices]\n",
    "\n",
    "img_file_names = test_generator.filenames\n",
    "results_df = pd.DataFrame({\"PICTURE_NAME\":img_file_names, \"PREDICTED_CLASS\":predicted_class_labels})\n",
    "\n",
    "results_df['VERIFICATION'] = results_df.apply(lambda x: x.PREDICTED_CLASS in x.PICTURE_NAME, axis=1)\n",
    "\n",
    "for ind, class_label in enumerate(class_labels):\n",
    "    results_df.insert(loc=ind+3, column=class_label.upper()+\"_PROB\", value=probabilities[:,ind].round(4))\n",
    "\n",
    "results_df.head(10)"
   ]
  },
  {
   "cell_type": "markdown",
   "metadata": {},
   "source": [
    "Select 10 random rows from Test Dataset."
   ]
  },
  {
   "cell_type": "code",
   "execution_count": 195,
   "metadata": {},
   "outputs": [
    {
     "data": {
      "text/html": [
       "<div>\n",
       "<style scoped>\n",
       "    .dataframe tbody tr th:only-of-type {\n",
       "        vertical-align: middle;\n",
       "    }\n",
       "\n",
       "    .dataframe tbody tr th {\n",
       "        vertical-align: top;\n",
       "    }\n",
       "\n",
       "    .dataframe thead th {\n",
       "        text-align: right;\n",
       "    }\n",
       "</style>\n",
       "<table border=\"1\" class=\"dataframe\">\n",
       "  <thead>\n",
       "    <tr style=\"text-align: right;\">\n",
       "      <th></th>\n",
       "      <th>PICTURE_NAME</th>\n",
       "      <th>PREDICTED_CLASS</th>\n",
       "      <th>VERIFICATION</th>\n",
       "      <th>BIG_BEN_PROB</th>\n",
       "      <th>EIFFEL_TOWER_PROB</th>\n",
       "      <th>TAJ_MAHAL_PROB</th>\n",
       "    </tr>\n",
       "  </thead>\n",
       "  <tbody>\n",
       "    <tr>\n",
       "      <th>0</th>\n",
       "      <td>Big_Ben\\Big_Ben_893.jpg</td>\n",
       "      <td>Big_Ben</td>\n",
       "      <td>True</td>\n",
       "      <td>0.9999</td>\n",
       "      <td>0.0001</td>\n",
       "      <td>0.0000</td>\n",
       "    </tr>\n",
       "    <tr>\n",
       "      <th>1</th>\n",
       "      <td>Big_Ben\\Big_Ben_697.jpg</td>\n",
       "      <td>Big_Ben</td>\n",
       "      <td>True</td>\n",
       "      <td>0.9647</td>\n",
       "      <td>0.0348</td>\n",
       "      <td>0.0005</td>\n",
       "    </tr>\n",
       "    <tr>\n",
       "      <th>2</th>\n",
       "      <td>Big_Ben\\Big_Ben_9.jpg</td>\n",
       "      <td>Big_Ben</td>\n",
       "      <td>True</td>\n",
       "      <td>0.9998</td>\n",
       "      <td>0.0002</td>\n",
       "      <td>0.0000</td>\n",
       "    </tr>\n",
       "    <tr>\n",
       "      <th>3</th>\n",
       "      <td>Eiffel_Tower\\Eiffel_Tower_988.jpg</td>\n",
       "      <td>Eiffel_Tower</td>\n",
       "      <td>True</td>\n",
       "      <td>0.0000</td>\n",
       "      <td>1.0000</td>\n",
       "      <td>0.0000</td>\n",
       "    </tr>\n",
       "    <tr>\n",
       "      <th>4</th>\n",
       "      <td>Eiffel_Tower\\Eiffel_Tower_666.jpg</td>\n",
       "      <td>Eiffel_Tower</td>\n",
       "      <td>True</td>\n",
       "      <td>0.0001</td>\n",
       "      <td>0.9999</td>\n",
       "      <td>0.0000</td>\n",
       "    </tr>\n",
       "    <tr>\n",
       "      <th>5</th>\n",
       "      <td>Taj_Mahal\\Taj_Mahal_577.jpg</td>\n",
       "      <td>Eiffel_Tower</td>\n",
       "      <td>False</td>\n",
       "      <td>0.0265</td>\n",
       "      <td>0.7355</td>\n",
       "      <td>0.2380</td>\n",
       "    </tr>\n",
       "    <tr>\n",
       "      <th>6</th>\n",
       "      <td>Eiffel_Tower\\Eiffel_Tower_812.jpg</td>\n",
       "      <td>Eiffel_Tower</td>\n",
       "      <td>True</td>\n",
       "      <td>0.1782</td>\n",
       "      <td>0.8189</td>\n",
       "      <td>0.0029</td>\n",
       "    </tr>\n",
       "    <tr>\n",
       "      <th>7</th>\n",
       "      <td>Eiffel_Tower\\Eiffel_Tower_838.jpg</td>\n",
       "      <td>Eiffel_Tower</td>\n",
       "      <td>True</td>\n",
       "      <td>0.1102</td>\n",
       "      <td>0.8839</td>\n",
       "      <td>0.0059</td>\n",
       "    </tr>\n",
       "    <tr>\n",
       "      <th>8</th>\n",
       "      <td>Taj_Mahal\\Taj_Mahal_78.jpg</td>\n",
       "      <td>Taj_Mahal</td>\n",
       "      <td>True</td>\n",
       "      <td>0.0000</td>\n",
       "      <td>0.0000</td>\n",
       "      <td>1.0000</td>\n",
       "    </tr>\n",
       "    <tr>\n",
       "      <th>9</th>\n",
       "      <td>Taj_Mahal\\Taj_Mahal_726.jpg</td>\n",
       "      <td>Taj_Mahal</td>\n",
       "      <td>True</td>\n",
       "      <td>0.0351</td>\n",
       "      <td>0.0047</td>\n",
       "      <td>0.9602</td>\n",
       "    </tr>\n",
       "  </tbody>\n",
       "</table>\n",
       "</div>"
      ],
      "text/plain": [
       "                        PICTURE_NAME PREDICTED_CLASS  VERIFICATION  \\\n",
       "0            Big_Ben\\Big_Ben_893.jpg         Big_Ben          True   \n",
       "1            Big_Ben\\Big_Ben_697.jpg         Big_Ben          True   \n",
       "2              Big_Ben\\Big_Ben_9.jpg         Big_Ben          True   \n",
       "3  Eiffel_Tower\\Eiffel_Tower_988.jpg    Eiffel_Tower          True   \n",
       "4  Eiffel_Tower\\Eiffel_Tower_666.jpg    Eiffel_Tower          True   \n",
       "5        Taj_Mahal\\Taj_Mahal_577.jpg    Eiffel_Tower         False   \n",
       "6  Eiffel_Tower\\Eiffel_Tower_812.jpg    Eiffel_Tower          True   \n",
       "7  Eiffel_Tower\\Eiffel_Tower_838.jpg    Eiffel_Tower          True   \n",
       "8         Taj_Mahal\\Taj_Mahal_78.jpg       Taj_Mahal          True   \n",
       "9        Taj_Mahal\\Taj_Mahal_726.jpg       Taj_Mahal          True   \n",
       "\n",
       "   BIG_BEN_PROB  EIFFEL_TOWER_PROB  TAJ_MAHAL_PROB  \n",
       "0        0.9999             0.0001          0.0000  \n",
       "1        0.9647             0.0348          0.0005  \n",
       "2        0.9998             0.0002          0.0000  \n",
       "3        0.0000             1.0000          0.0000  \n",
       "4        0.0001             0.9999          0.0000  \n",
       "5        0.0265             0.7355          0.2380  \n",
       "6        0.1782             0.8189          0.0029  \n",
       "7        0.1102             0.8839          0.0059  \n",
       "8        0.0000             0.0000          1.0000  \n",
       "9        0.0351             0.0047          0.9602  "
      ]
     },
     "execution_count": 195,
     "metadata": {},
     "output_type": "execute_result"
    }
   ],
   "source": [
    "number_of_samples = 10\n",
    "random_rows = random.sample(range(int(NUMBER_OF_CLASSES*TEST_SIZE)), number_of_samples)\n",
    "filtered_results_df = results_df.iloc[random_rows].sort_values(['PREDICTED_CLASS'], ascending=True, axis=0)\n",
    "filtered_results_df.reset_index(drop=True, inplace=True)\n",
    "filtered_results_df"
   ]
  },
  {
   "cell_type": "markdown",
   "metadata": {},
   "source": [
    "Filter out the columns of probabilities."
   ]
  },
  {
   "cell_type": "code",
   "execution_count": 196,
   "metadata": {},
   "outputs": [
    {
     "data": {
      "text/html": [
       "<div>\n",
       "<style scoped>\n",
       "    .dataframe tbody tr th:only-of-type {\n",
       "        vertical-align: middle;\n",
       "    }\n",
       "\n",
       "    .dataframe tbody tr th {\n",
       "        vertical-align: top;\n",
       "    }\n",
       "\n",
       "    .dataframe thead th {\n",
       "        text-align: right;\n",
       "    }\n",
       "</style>\n",
       "<table border=\"1\" class=\"dataframe\">\n",
       "  <thead>\n",
       "    <tr style=\"text-align: right;\">\n",
       "      <th></th>\n",
       "      <th>BIG_BEN_PROB</th>\n",
       "      <th>EIFFEL_TOWER_PROB</th>\n",
       "      <th>TAJ_MAHAL_PROB</th>\n",
       "    </tr>\n",
       "  </thead>\n",
       "  <tbody>\n",
       "    <tr>\n",
       "      <th>0</th>\n",
       "      <td>0.9999</td>\n",
       "      <td>0.0001</td>\n",
       "      <td>0.0000</td>\n",
       "    </tr>\n",
       "    <tr>\n",
       "      <th>1</th>\n",
       "      <td>0.9647</td>\n",
       "      <td>0.0348</td>\n",
       "      <td>0.0005</td>\n",
       "    </tr>\n",
       "    <tr>\n",
       "      <th>2</th>\n",
       "      <td>0.9998</td>\n",
       "      <td>0.0002</td>\n",
       "      <td>0.0000</td>\n",
       "    </tr>\n",
       "    <tr>\n",
       "      <th>3</th>\n",
       "      <td>0.0000</td>\n",
       "      <td>1.0000</td>\n",
       "      <td>0.0000</td>\n",
       "    </tr>\n",
       "    <tr>\n",
       "      <th>4</th>\n",
       "      <td>0.0001</td>\n",
       "      <td>0.9999</td>\n",
       "      <td>0.0000</td>\n",
       "    </tr>\n",
       "  </tbody>\n",
       "</table>\n",
       "</div>"
      ],
      "text/plain": [
       "   BIG_BEN_PROB  EIFFEL_TOWER_PROB  TAJ_MAHAL_PROB\n",
       "0        0.9999             0.0001          0.0000\n",
       "1        0.9647             0.0348          0.0005\n",
       "2        0.9998             0.0002          0.0000\n",
       "3        0.0000             1.0000          0.0000\n",
       "4        0.0001             0.9999          0.0000"
      ]
     },
     "execution_count": 196,
     "metadata": {},
     "output_type": "execute_result"
    }
   ],
   "source": [
    "probs_df = filtered_results_df.loc[:, ('BIG_BEN_PROB', 'EIFFEL_TOWER_PROB', 'TAJ_MAHAL_PROB')]\n",
    "probs_df.head()"
   ]
  },
  {
   "cell_type": "markdown",
   "metadata": {},
   "source": [
    "Define the helper function required for visualization."
   ]
  },
  {
   "cell_type": "code",
   "execution_count": 21,
   "metadata": {},
   "outputs": [],
   "source": [
    "def generate_prob_chart(y_label, y_pos, probs, picture_index):\n",
    "    \"\"\"\n",
    "    Generate probability chart for each prediction made.\n",
    "    \n",
    "    :param y_label: String of class label value.\n",
    "    :param y_pos: Integer of class label index.\n",
    "    :param probs: List of classes probability values.\n",
    "    :param picture_index: Integer of picture index.\n",
    "    \"\"\"\n",
    "    # Draw plot\n",
    "    fig, ax = plt.subplots(figsize=(9, 6), dpi= 100)\n",
    "    ax.hlines(y=y_pos, xmin=0, xmax=probs, color='firebrick', alpha=0.7, linewidth=2)\n",
    "    ax.scatter(y=y_pos, x=probs, s=75, color='firebrick', alpha=0.7)\n",
    "\n",
    "    # Set plot's attributes\n",
    "    ax.set_yticks(y_pos)\n",
    "    ax.set_yticklabels(y_label, rotation=45, fontdict={'horizontalalignment': 'right', 'size':12})\n",
    "    ax.set_xlim(0, max(probs)+(0.15*max(probs)))\n",
    "    ax.spines['top'].set_color('none')\n",
    "    ax.spines['right'].set_color('none')\n",
    "\n",
    "    # Annotate plot\n",
    "    for i, j in enumerate(probs):\n",
    "        ax.text(j+.07, i, s=round(j, 2), horizontalalignment= 'center', verticalalignment='center', fontsize=12)\n",
    "    \n",
    "    # Save each plot into separate file.\n",
    "    plt.savefig(\"images/prob_\"+str(picture_index)+\".jpg\", dpi=100)\n",
    "    plt.close(fig)"
   ]
  },
  {
   "cell_type": "code",
   "execution_count": 204,
   "metadata": {},
   "outputs": [
    {
     "data": {
      "text/html": [
       "<html><table><tr><td style='text-align: center;'><strong>PICTURE</strong></td><td style='text-align: center;'><strong>PREDICTED CLASS</strong></td><td style='text-align: center;'><strong>PROBABILITIES</strong></td><td style='text-align: center;'><strong>VERIFICATION</strong></td></tr><tr><td><img src='images/picture_0.jpg' height='250' width='250'/></td><td><strong>Big Ben</strong></td><td><img src='images/prob_0.jpg' height='400' width='400'/></td><td><img src='images/check_mark_green.png' height='80' width='80' style='background:transparent;'/></td></tr><tr><td><img src='images/picture_1.jpg' height='250' width='250'/></td><td><strong>Big Ben</strong></td><td><img src='images/prob_1.jpg' height='400' width='400'/></td><td><img src='images/check_mark_green.png' height='80' width='80' style='background:transparent;'/></td></tr><tr><td><img src='images/picture_2.jpg' height='250' width='250'/></td><td><strong>Big Ben</strong></td><td><img src='images/prob_2.jpg' height='400' width='400'/></td><td><img src='images/check_mark_green.png' height='80' width='80' style='background:transparent;'/></td></tr><tr><td><img src='images/picture_3.jpg' height='250' width='250'/></td><td><strong>Eiffel Tower</strong></td><td><img src='images/prob_3.jpg' height='400' width='400'/></td><td><img src='images/check_mark_green.png' height='80' width='80' style='background:transparent;'/></td></tr><tr><td><img src='images/picture_4.jpg' height='250' width='250'/></td><td><strong>Eiffel Tower</strong></td><td><img src='images/prob_4.jpg' height='400' width='400'/></td><td><img src='images/check_mark_green.png' height='80' width='80' style='background:transparent;'/></td></tr><tr><td><img src='images/picture_5.jpg' height='250' width='250'/></td><td><strong>Eiffel Tower</strong></td><td><img src='images/prob_5.jpg' height='400' width='400'/></td><td><img src='images/check_mark_red.png' height='80' width='80' style='background:transparent;'/></td></tr><tr><td><img src='images/picture_6.jpg' height='250' width='250'/></td><td><strong>Eiffel Tower</strong></td><td><img src='images/prob_6.jpg' height='400' width='400'/></td><td><img src='images/check_mark_green.png' height='80' width='80' style='background:transparent;'/></td></tr><tr><td><img src='images/picture_7.jpg' height='250' width='250'/></td><td><strong>Eiffel Tower</strong></td><td><img src='images/prob_7.jpg' height='400' width='400'/></td><td><img src='images/check_mark_green.png' height='80' width='80' style='background:transparent;'/></td></tr><tr><td><img src='images/picture_8.jpg' height='250' width='250'/></td><td><strong>Taj Mahal</strong></td><td><img src='images/prob_8.jpg' height='400' width='400'/></td><td><img src='images/check_mark_green.png' height='80' width='80' style='background:transparent;'/></td></tr><tr><td><img src='images/picture_9.jpg' height='250' width='250'/></td><td><strong>Taj Mahal</strong></td><td><img src='images/prob_9.jpg' height='400' width='400'/></td><td><img src='images/check_mark_green.png' height='80' width='80' style='background:transparent;'/></td></tr></table></html>"
      ],
      "text/plain": [
       "<IPython.core.display.HTML object>"
      ]
     },
     "metadata": {},
     "output_type": "display_data"
    }
   ],
   "source": [
    "# Visualize predictions showing for each picture it's predicted class, probability values and verification approval.\n",
    "\n",
    "# Construct the lists of class labels and their indices.\n",
    "y_label = list(map(lambda x: x.replace(\"_\", \" \"), list(test_generator.class_indices.keys())))\n",
    "y_label.reverse()\n",
    "y_pos = [i for i, j in enumerate(y_label)]\n",
    "\n",
    "# The table header colums.\n",
    "html_table = ''.join((\"<html><table><tr>\",\n",
    "                    \"<td style='text-align: center;'><strong>PICTURE</strong></td>\",\n",
    "                    \"<td style='text-align: center;'><strong>PREDICTED CLASS</strong></td>\",\n",
    "                    \"<td style='text-align: center;'><strong>PROBABILITIES</strong></td>\",\n",
    "                    \"<td style='text-align: center;'><strong>VERIFICATION</strong></td></tr>\"))\n",
    "\n",
    "# Loop over filtered results and construct the table.\n",
    "for df_index, df_row in filtered_results_df.iterrows():\n",
    "    img_path = (DATASET_TEST+df_row['PICTURE_NAME']).replace(\"\\\\\", \"/\")\n",
    "    img_file = cv2.imread(img_path)\n",
    "    cv2.imwrite(\"images/picture_\"+str(df_index)+\".jpg\", img_file)\n",
    "    picture_img_cell = \"<img src='images/picture_\"+str(df_index)+\".jpg' height='250' width='250'/>\"\n",
    "    \n",
    "    pred_class = df_row.at['PREDICTED_CLASS']\n",
    "    veriff_value = df_row.at['VERIFICATION']\n",
    "    \n",
    "    probs = probs_df.values.tolist()[df_index]\n",
    "    probs.reverse()\n",
    "    generate_prob_chart(y_label, y_pos, probs, df_index)\n",
    "    prob_img_cell = \"<img src='images/prob_\"+str(df_index)+\".jpg' height='400' width='400'/>\"\n",
    "    \n",
    "    if veriff_value:\n",
    "        veriff_img_cell = \"<img src='images/check_mark_green.png' height='80' width='80' style='background:transparent;'/>\"\n",
    "    else:\n",
    "        veriff_img_cell = \"<img src='images/check_mark_red.png' height='80' width='80' style='background:transparent;'/>\"\n",
    "    \n",
    "    # Concatenate the current row columns.\n",
    "    html_row = ''.join((\"<tr>\",\n",
    "        \"<td>\"+picture_img_cell+\"</td>\",\n",
    "        \"<td><strong>\"+pred_class.replace(\"_\", \" \")+\"</strong></td>\",\n",
    "        \"<td>\"+prob_img_cell+\"</td>\",\n",
    "        \"<td>\"+veriff_img_cell+\"</td>\",\n",
    "        \"</tr>\"))\n",
    "    html_table = html_table + html_row\n",
    "\n",
    "html_table = html_table+\"</table></html>\"    \n",
    "display(HTML(html_table))"
   ]
  },
  {
   "cell_type": "markdown",
   "metadata": {},
   "source": [
    "## 4. Non-Deep Learning"
   ]
  },
  {
   "cell_type": "markdown",
   "metadata": {},
   "source": [
    "Image pixels are usually saved as 32 bit integers. The RGBA colour model is formed by four channels, each represented by 8 bit (giving a range between 0 and 255). The first three channels are for colour intensity values (red, green, blue) and the last alpha channel for transparency, indicating how opaque each pixel is. Thus, each pixel values can be seen as a feature vector to describe its colour (for example without alpha channel [1,1,1] for white, [0,0,0] for black).\n",
    "\n",
    "Imagine a 3-dimensional space where each axis represents one colour channels. By adding different pixel values to the diagram, the distance between them can be calculated using the Euclidean formula. This is what the KNN algorithm does. It classifies data points by finding the most common class among the k-closest examples. Data points that are near each other are said to be neighbors.\n",
    "\n",
    "Imagine a 3-dimensional space where each axis represents one colour channel. In a simplified form where the images contain only 9 pixels and their random values, the distance calculation in KNN algorithm could be visualized in the following way. This implies that the distance between data points inside the blue and red circle are smaller than the distance between the blue and red circle and therefore classified into separate classes."
   ]
  },
  {
   "cell_type": "markdown",
   "metadata": {},
   "source": [
    "<img src=\"images/KNN_architecture.png\" width=\"1000\" align=\"left\"/>"
   ]
  },
  {
   "cell_type": "markdown",
   "metadata": {},
   "source": [
    "### 4.1. Data Preparation"
   ]
  },
  {
   "cell_type": "markdown",
   "metadata": {},
   "source": [
    "Prepare the dataset for modeling. For that construct two lists, one for images pixel values and the other for the labels, indicating into which folder the file belongs."
   ]
  },
  {
   "cell_type": "code",
   "execution_count": 9,
   "metadata": {},
   "outputs": [
    {
     "name": "stdout",
     "output_type": "stream",
     "text": [
      "[INFO] The size of images list: 7500\n",
      "[INFO] The size of labels list: 7500\n"
     ]
    }
   ],
   "source": [
    "# Define the target folder and construct a list of all files in it.\n",
    "tgt_folder = '{}\\\\{}'.format(os.getcwd(), SCRAPED_DATASET)\n",
    "\n",
    "img_paths = list(paths.list_images(tgt_folder))\n",
    "\n",
    "img_pixels_list = []\n",
    "img_labels_list = []\n",
    "\n",
    "# Loop through all the images, add image files to the 'img_pixels_list' list and their folder name as a label \n",
    "# to the 'img_labels_list' list.\n",
    "for (img_ind, img_path) in enumerate(img_paths):\n",
    "    # Read file\n",
    "    image_file = cv2.imread(img_path)\n",
    "    # Extract image label part from image file name (e.g. 'Big_Ben' from 'Big_Ben_1.jpg')\n",
    "    img_label = os.path.basename(img_path).split(\"_\")\n",
    "    img_label = img_label[0]+\"_\"+img_label[1]\n",
    "    \n",
    "    img_pixels = cv2.resize(image_file, (IMG_WIDTH, IMG_HEIGHT)).flatten()\n",
    "    img_pixels_list.append(img_pixels)\n",
    "    img_labels_list.append(img_label)\n",
    "\n",
    "print('[INFO] The size of images list: {}'.format(len(img_pixels_list)))\n",
    "print('[INFO] The size of labels list: {}'.format(len(img_labels_list)))"
   ]
  },
  {
   "cell_type": "markdown",
   "metadata": {},
   "source": [
    "### 4.2. Data Splitting"
   ]
  },
  {
   "cell_type": "markdown",
   "metadata": {},
   "source": [
    "Split the dataset into training and testing parts."
   ]
  },
  {
   "cell_type": "code",
   "execution_count": 10,
   "metadata": {},
   "outputs": [],
   "source": [
    "x_train, x_test, y_train, y_test = train_test_split(img_pixels_list,\n",
    "                                                    img_labels_list,\n",
    "                                                    test_size=1-TRAIN_PROPORTION,\n",
    "                                                    random_state=10)"
   ]
  },
  {
   "cell_type": "markdown",
   "metadata": {},
   "source": [
    "### 4.3. Model Training and Evaluation"
   ]
  },
  {
   "cell_type": "markdown",
   "metadata": {},
   "source": [
    "Define the helper function required for finding the best accuracy score."
   ]
  },
  {
   "cell_type": "code",
   "execution_count": 11,
   "metadata": {},
   "outputs": [],
   "source": [
    "def find_best_accuracy_score(x_train, x_test, y_train, y_test, max_k_value):\n",
    "    \"\"\"\n",
    "    Find the k-value which corresponds to the best accuracy score.\n",
    "    \n",
    "    :param x_train: List of train dataset x-values.\n",
    "    :param x_test: List of test dataset x-values.\n",
    "    :param y_train: List of train dataset y-values.\n",
    "    :param y_test: List of test dataset y-values.\n",
    "    :param max_k_value: Integer to specify max k-value.\n",
    "    :return: Ndarray of accuracy scores.\n",
    "    \"\"\"\n",
    "    accuracy_scores = np.zeros((max_k_value-1))\n",
    "    \n",
    "    for n in range(1, max_k_value):\n",
    "        neigh = KNeighborsClassifier(n_neighbors = n, n_jobs=-1).fit(x_train, y_train)\n",
    "        y_test_pred = neigh.predict(x_test)\n",
    "        accuracy_scores[n-1] = round(metrics.accuracy_score(y_test, y_test_pred), 6)\n",
    "    return accuracy_scores"
   ]
  },
  {
   "cell_type": "markdown",
   "metadata": {},
   "source": [
    "Train and evaluate a KNN-classifier on the raw pixels and visualize the result."
   ]
  },
  {
   "cell_type": "code",
   "execution_count": 12,
   "metadata": {},
   "outputs": [
    {
     "name": "stdout",
     "output_type": "stream",
     "text": [
      "[INFO] Calculating accuracy scores...\n",
      "[INFO] Accuracy scores: [0.580667 0.594667 0.566    0.558    0.563333 0.544    0.548667 0.547333\n",
      " 0.538    0.533333]\n",
      "[INFO] KNN model best accuracy score is 56.60% for K-value 2.\n",
      "[INFO] Time elapsed: 2317.61 seconds\n"
     ]
    },
    {
     "data": {
      "image/png": "[encoded data removed]",
      "text/plain": [
       "<Figure size 432x288 with 1 Axes>"
      ]
     },
     "metadata": {
      "needs_background": "light"
     },
     "output_type": "display_data"
    }
   ],
   "source": [
    "start_time = time.time()\n",
    "\n",
    "print(\"[INFO] Calculating accuracy scores...\")\n",
    "\n",
    "max_k_value = 11\n",
    "knn_accuracy_scores = find_best_accuracy_score(x_train, x_test, y_train, y_test, max_k_value)\n",
    "best_k_value = np.argmax(knn_accuracy_scores)+1\n",
    "\n",
    "print('[INFO] Accuracy scores: '+'{}'.format(knn_accuracy_scores))\n",
    "print(\"[INFO] KNN model best accuracy score is {:.2f}% for K-value {}\".\n",
    "      format(knn_accuracy_scores[best_k_value]*100, best_k_value)+'.')\n",
    "\n",
    "end_time = time.time()\n",
    "print(\"[INFO] Time elapsed: {:.2f} seconds\".format(end_time-start_time))\n",
    "\n",
    "ax = plt.subplot(111)\n",
    "ax.plot(range(1, max_k_value), knn_accuracy_scores, marker=\"o\", color='steelblue', label=\"accuracy score\")\n",
    "ax.set_title('Accuracy scores for different K-values')\n",
    "ax.set_ylabel('Accuracy')\n",
    "ax.set_xlabel('Number of Neighbors (K)')\n",
    "\n",
    "# Hide the right and top spines\n",
    "ax.spines['right'].set_visible(False)\n",
    "ax.spines['top'].set_visible(False)\n",
    "\n",
    "# Only show ticks on the left and bottom spines\n",
    "ax.yaxis.set_ticks_position('left')\n",
    "ax.xaxis.set_ticks_position('bottom')\n",
    "\n",
    "plt.show()"
   ]
  },
  {
   "cell_type": "markdown",
   "metadata": {},
   "source": [
    "As we can see, the accuracy score for the Non-Deep Learning model is much worse than it was using the Deep Learning."
   ]
  },
  {
   "cell_type": "markdown",
   "metadata": {},
   "source": [
    "## 5. Conclusions"
   ]
  },
  {
   "cell_type": "markdown",
   "metadata": {},
   "source": [
    "- Data Preparation - Creating a high-quality dataset is time and labor intensive. In future developments if the model contains more data, more automated techniques could be considered as an alternative.\n",
    "- Model Complexity - The more classes in the model, the more data they need to be trained to distinguish different details.\n",
    "- Training Time: The Deep Learning model training time (05:03:41) exceeded the Non-Deep Learning model (00:38:38) quite a lot.\n",
    "- Prediction Accuracy: The Deep Learning model prediction accuracy (92%) outperformed Non-Deep Learning (57%) quite a lot. This is because in Non-Deep Learning even small changes in image rotation, translation or scale can significantly influence the feature representation.\n",
    "- Model Optimization: Dropout rate proved to be effective hyperparameter to avoid overfitting and increase the model's generalization power. With initial 0.3 dropout rate, the model faced overfitting. In model tuning, the dropout was increased to 0.5 and that lowered the spread between the training and validation accuracies.\n",
    "- Overall Assessment: Despite rather small dataset the achieved prediction accuracy can be considered as a good result."
   ]
  },
  {
   "cell_type": "markdown",
   "metadata": {},
   "source": [
    "## 6. Proposals for Further Developments"
   ]
  },
  {
   "cell_type": "markdown",
   "metadata": {},
   "source": [
    "- Use Case: Increase Complexity (add more data and increase number of classes), implement image recognition on video files, objects counting etc.\n",
    "- Data Preparation: Use pretrained model or partial manual control to reduce the time for data cleaning.\n",
    "- Model Definition: Try different architecture or transfer learning.\n",
    "- Model Training: Add GPU support to reduce the training time. This requires Nvidia GPU, as Keras doesn't work with AMD GPU yet.\n",
    "- Model Tuning: Try different optimization and activation functions."
   ]
  }
 ],
 "metadata": {
  "kernelspec": {
   "display_name": "Python 3",
   "language": "python",
   "name": "python3"
  },
  "language_info": {
   "codemirror_mode": {
    "name": "ipython",
    "version": 3
   },
   "file_extension": ".py",
   "mimetype": "text/x-python",
   "name": "python",
   "nbconvert_exporter": "python",
   "pygments_lexer": "ipython3",
   "version": "3.7.3"
  }
 },
 "nbformat": 4,
 "nbformat_minor": 2
}
