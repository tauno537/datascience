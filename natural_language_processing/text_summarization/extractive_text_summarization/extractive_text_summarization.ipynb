{
 "cells": [
  {
   "cell_type": "markdown",
   "metadata": {},
   "source": [
    "# <center>Extractive Text Summarization Using Python and Gensim</center>"
   ]
  },
  {
   "cell_type": "markdown",
   "metadata": {},
   "source": [
    "__<center>by Tauno Tanilas - 2020</center>__"
   ]
  },
  {
   "cell_type": "markdown",
   "metadata": {},
   "source": [
    "## 1. Introduction"
   ]
  },
  {
   "cell_type": "markdown",
   "metadata": {},
   "source": [
    "This is the Capstone Project for [Advanced Data Science with IBM Specialization Certificate](https://www.coursera.org/specializations/advanced-data-science-ibm?fbclid=IwAR3p2ZthalkKNP1kcyK3VfxRBKyrRnOWeowrrus5UQt1IL3O8tB7jRWkc4E) course. The use case of this project is to recognize well-known landmarks captured on photos. The task can be classified as a Multi-Class Classification problem where each sample is assigned to one and only one label. The task will be accomplished using both the Deep and Non-Deep Learning.\n",
    "\n",
    "__Importance of Text Summarization:__\n",
    "- 1\n",
    "- 2\n",
    "- 3\n",
    "\n",
    "__Use case:__\n",
    "- Automate the prediction of landmark labels directly from image pixels to help people organize their photo collections.\n",
    "\n",
    "__Main goals:__\n",
    "- Collect the dataset containing landmark pictures of three different classes.\n",
    "- Explore the dataset and its quality for modeling.\n",
    "- Create a Deep Learning model, evaluate it and measure its accuracy on test dataset.\n",
    "- Create a Non-Deep Learning model, evaluate it and measure its accuracy on test dataset.\n",
    "- Compare the results between Deep and Non-Deep Learning accuracies.\n",
    "\n",
    "__Implemented algorithms:__\n",
    "- TextRank\n",
    "\n",
    "__Main technological components:__\n",
    "- Anaconda Jupyter Notebook for editing and running the notebook project.\n",
    "- Python 3.7.3 as a programming language.\n",
    "- Keras as a higher-level (capable of running on top of TensorFlow, CNTK or Theano) neural networks library for implementing Deep Learning functionality.\n",
    "- Laptop Dell Inspiron 3541: AMD 1.80 GHz, RAM 8.00 GB, AMD Radeon(TM) R4 Graphics."
   ]
  },
  {
   "cell_type": "markdown",
   "metadata": {},
   "source": [
    "Works for english."
   ]
  },
  {
   "cell_type": "markdown",
   "metadata": {},
   "source": [
    "<img src=\"https://st2.ning.com/topology/rest/1.0/file/get/502818197?profile=original\" width=\"500\" align=\"left\">"
   ]
  },
  {
   "cell_type": "markdown",
   "metadata": {},
   "source": [
    "## 2. Types of Text Summarization"
   ]
  },
  {
   "cell_type": "markdown",
   "metadata": {},
   "source": [
    "Meaning of Extractive Text Summarization"
   ]
  },
  {
   "cell_type": "markdown",
   "metadata": {},
   "source": [
    "## 3. TextRank algorithm working principles"
   ]
  },
  {
   "cell_type": "markdown",
   "metadata": {},
   "source": [
    "### 2.2. Applying TextRank Algorithm"
   ]
  },
  {
   "cell_type": "markdown",
   "metadata": {},
   "source": []
  },
  {
   "cell_type": "markdown",
   "metadata": {},
   "source": [
    "<img src=\"https://st2.ning.com/topology/rest/1.0/file/get/502818197?profile=original\" width=\"500\" align=\"left\">"
   ]
  },
  {
   "cell_type": "markdown",
   "metadata": {},
   "source": [
    "### 2.1. Data Acquiring"
   ]
  },
  {
   "cell_type": "markdown",
   "metadata": {},
   "source": [
    "Install missing libraries."
   ]
  },
  {
   "cell_type": "code",
   "execution_count": null,
   "metadata": {},
   "outputs": [],
   "source": [
    "#!pip install gensim\n",
    "#!pip install texthero"
   ]
  },
  {
   "cell_type": "markdown",
   "metadata": {},
   "source": [
    "Import required libraries."
   ]
  },
  {
   "cell_type": "code",
   "execution_count": 1,
   "metadata": {},
   "outputs": [],
   "source": [
    "# data downloading\n",
    "import urllib.request as ur\n",
    "import bs4 as bs\n",
    "\n",
    "# data preprocessing\n",
    "import texthero as hero\n",
    "from texthero import stopwords\n",
    "import pandas as pd\n",
    "import re\n",
    "\n",
    "# modeling\n",
    "import gensim\n",
    "from gensim.summarization import keywords, summarize\n",
    "\n",
    "# data visualization\n",
    "import matplotlib.pyplot as plt\n",
    "import ipywidgets as widgets"
   ]
  },
  {
   "cell_type": "markdown",
   "metadata": {},
   "source": [
    "Define helper functions."
   ]
  },
  {
   "cell_type": "code",
   "execution_count": 2,
   "metadata": {},
   "outputs": [],
   "source": [
    "def scrape_data(url):\n",
    "    \"\"\"\n",
    "    Take input url and return it's article text.\n",
    "    \n",
    "    :param url: String to specify web address.\n",
    "    :return: String of article text.\n",
    "    \"\"\"\n",
    "    scraped_data = ur.urlopen(url)\n",
    "    article = scraped_data.read()\n",
    "    \n",
    "    parsed_article = bs.BeautifulSoup(article,'lxml')\n",
    "    paragraphs = parsed_article.find_all('p')\n",
    "    \n",
    "    article_text = \"\"\n",
    "    \n",
    "    for p in paragraphs:\n",
    "        article_text += p.text\n",
    "    return article_text"
   ]
  },
  {
   "cell_type": "code",
   "execution_count": 3,
   "metadata": {},
   "outputs": [],
   "source": [
    "def remove_brackets(input_txt):\n",
    "    \"\"\"\n",
    "    Take input text and remove all symbols containing square brackets and the text inside it.\n",
    "    \n",
    "    :param input_txt: String to specify input text.\n",
    "    :return: String of output text.\n",
    "    \"\"\"\n",
    "    output_txt = re.sub(\"\\[[0-9a-zA-Z]+]\", \"\", input_txt)\n",
    "    return output_txt"
   ]
  },
  {
   "cell_type": "code",
   "execution_count": 4,
   "metadata": {},
   "outputs": [],
   "source": [
    "def create_text_example(b):\n",
    "    \"\"\"\n",
    "    Take input Textarea object and attribute example text into it.\n",
    "    \n",
    "    :param b: ipywidgets.widgets.widget_button.Button class to specify input event.\n",
    "    \"\"\"\n",
    "    input_w_text.value = example_text"
   ]
  },
  {
   "cell_type": "code",
   "execution_count": 5,
   "metadata": {},
   "outputs": [],
   "source": [
    "def delete_text(b):\n",
    "    \"\"\"\n",
    "    Take input Textarea object and delete inserted text from it.\n",
    "    \n",
    "    :param b: ipywidgets.widgets.widget_button.Button class to specify input event.\n",
    "    \"\"\"\n",
    "    input_w_text.value = \"\"\n",
    "    summary_w_output_text.value = \"\""
   ]
  },
  {
   "cell_type": "code",
   "execution_count": 6,
   "metadata": {},
   "outputs": [],
   "source": [
    "def create_summary(b):\n",
    "    \"\"\"\n",
    "    Take inserted text and create a summary from it.\n",
    "    \n",
    "    :param b: ipywidgets.widgets.widget_button.Button class to specify input event.\n",
    "    \"\"\"\n",
    "    if (len(input_w_text.value) == 0) or (input_w_text.value == default_text):\n",
    "        summary_w_output_text.value = \"Your text of article is missing or is too short!\"\n",
    "        summary_w_info_label.value = \"\"\n",
    "    else:\n",
    "        # Use gensim library to summarize text.\n",
    "        summary_w_output_text.value = summarize(input_w_text.value, summary_w_slider.value/100)\n",
    "        summary_w_info_label.value = \"Text reduced to \"+str(summary_w_slider.value)+\"% (\" \\\n",
    "            +str(len(summary_w_output_text.value.split()))+ \" words of \" \\\n",
    "            +str(len(input_w_text.value.split()))+\")\""
   ]
  },
  {
   "cell_type": "code",
   "execution_count": 7,
   "metadata": {},
   "outputs": [],
   "source": [
    "def keyword_suggestions(b):\n",
    "    \"\"\"\n",
    "    Take inserted text and create keyword suggestions from it.\n",
    "    \n",
    "    :param b: ipywidgets.widgets.widget_button.Button class to specify input event.\n",
    "    \"\"\"\n",
    "    if (len(input_w_text.value) == 0) or (input_w_text.value == default_text):\n",
    "        keywords_w_output_text.value = \"Your text of article is missing or is too short!\"\n",
    "    else: \n",
    "        keywords_w_output_text.value = \"\"\n",
    "        # Use gensim library to extract keywords.\n",
    "        kw_suggestions = keywords(input_w_text.value, words = 10, scores = False, split = True, lemmatize = True)\n",
    "        # Convert list to string and uppercase each word.\n",
    "        kw_suggestions = (', '.join(map(str, kw_suggestions))).title()\n",
    "        keywords_w_input_text.value = kw_suggestions"
   ]
  },
  {
   "cell_type": "code",
   "execution_count": 8,
   "metadata": {},
   "outputs": [],
   "source": [
    "def extract_keyword_sentences(b):\n",
    "    \"\"\"\n",
    "    Take inserted keywords and extract sentences containing these keywords.\n",
    "    \n",
    "    :param b: ipywidgets.widgets.widget_button.Button class to specify input event.\n",
    "    \"\"\"\n",
    "    if len(keywords_w_input_text.value) == 0:\n",
    "        keywords_w_output_text.value = \"Keywords are missing!\"\n",
    "    elif input_w_text.value == default_text:\n",
    "        keywords_w_output_text.value = \"Your text of article is missing or is too short!\"\n",
    "    else:\n",
    "        user_keywords = keywords_w_input_text.value.replace(\" \", \"\").split(\",\")\n",
    "        input_sentences = input_w_text.value.split(\".\")\n",
    "        extracted_sentences = \"\"\n",
    "\n",
    "        for kw_ind, kw_value in enumerate(user_keywords):\n",
    "            for st_ind, st_value in enumerate(input_sentences):\n",
    "                if kw_value.lower() in st_value.lower():\n",
    "                    extracted_sentences += remove_brackets(st_value).replace(\"\\n\", \"\").strip()+\".\\n\\n\"\n",
    "                    \n",
    "        keywords_w_output_text.value = extracted_sentences.strip()"
   ]
  },
  {
   "cell_type": "code",
   "execution_count": 9,
   "metadata": {},
   "outputs": [],
   "source": [
    "def create_top_words(b):\n",
    "    \"\"\"\n",
    "    Take inserted text and show top words statistics.\n",
    "    \n",
    "    :param b: ipywidgets.widgets.widget_button.Button class to specify input event.\n",
    "    \"\"\"\n",
    "    topwords_w_image.value = open(\"images/default_top_words.png\", \"rb\").read()\n",
    "    \n",
    "    if (len(input_w_text.value) == 0) or (input_w_text.value == default_text):\n",
    "        topwords_w_info_label.value = \"Your text of article is missing or is too short!\"\n",
    "        \n",
    "    else:\n",
    "        topwords_w_info_label.value = \"Starting to generate the Top Words...\"\n",
    "        \n",
    "        # Split text to sentences and create a dataframe containing sentences and cleaned sentences columns.\n",
    "        sentences_list = input_w_text.value.split(\".\")\n",
    "        sentences_df = pd.DataFrame(sentences_list, columns = [\"sentence\"])\n",
    "        sentences_df[\"clean_sentence\"] = hero.clean(sentences_df[\"sentence\"])\n",
    "        \n",
    "        # Get default stopwords.\n",
    "        default_stopwords = stopwords.DEFAULT\n",
    "        # add a list of estonian stopwords to the stopwords\n",
    "        estonian_stopwords =  set(open('stopwords/estonian-stopwords-lemmas.txt', encoding='utf-8').read().split())\n",
    "        custom_stopwords = default_stopwords.union(estonian_stopwords)\n",
    "        sentences_df['clean_sentence'] = hero.remove_stopwords(sentences_df['clean_sentence'], custom_stopwords)\n",
    "        \n",
    "        # Generate top words.\n",
    "        tw_vis = hero.visualization.top_words(sentences_df[\"clean_sentence\"]).head(10)\n",
    "        \n",
    "        # Create dataframe for chart annotation.\n",
    "        tw_vis_list = tw_vis.tolist()\n",
    "        tw_vis_df = tw_vis.to_frame()\n",
    "        tw_vis_df.rename(columns={'clean_sentence':'kw_value'}, inplace=True)\n",
    "        tw_vis_df.index.name = 'kw_name'\n",
    "        tw_vis_df.reset_index(drop=False, inplace=True)\n",
    "        \n",
    "        bar_x = list(range(1, 11))\n",
    "        bar_height = tw_vis_list\n",
    "        bar_tick_label = tw_vis_df['kw_name'].tolist()\n",
    "        bar_label = tw_vis_list\n",
    "        \n",
    "        fig, ax = plt.subplots(figsize=(20, 7))\n",
    "        bar_plot = plt.bar(bar_x, bar_height, tick_label=bar_tick_label)\n",
    "        axes_font = {'fontname':'Arial', 'size':'15'}\n",
    "        bars_font = {'fontname':'Arial', 'size':'15', 'color':'white'}\n",
    "        \n",
    "        annotate_labels(bar_plot, ax, bar_label, bars_font)\n",
    "        \n",
    "        plt.xlabel('Words', **axes_font)\n",
    "        plt.ylabel('Value', **axes_font)\n",
    "        plt.xticks(rotation=0, ha='center', **axes_font)\n",
    "        plt.savefig(\"images/top_words.png\", bbox_inches='tight')\n",
    "        plt.close(fig)\n",
    "        \n",
    "        # display top words\n",
    "        topwords_w_image.value = open(\"images/top_words.png\", \"rb\").read()\n",
    "        \n",
    "        topwords_w_info_label.value = \"\""
   ]
  },
  {
   "cell_type": "code",
   "execution_count": 10,
   "metadata": {},
   "outputs": [],
   "source": [
    "def annotate_labels(b_plots, ax, bar_label, bars_font):\n",
    "    \"\"\"\n",
    "    Take inserted text and create keyword suggestions from it.\n",
    "    \n",
    "    :param b_plots: matplotlib.container.BarContainer class.\n",
    "    :param ax: matplotlib.axes._subplots.AxesSubplot class.\n",
    "    :param bar_label: list to contain bars labels values.\n",
    "    :param bars_font: dictionary to determine bars font style.\n",
    "    \"\"\"\n",
    "    for idx, b_plot in enumerate(b_plots):\n",
    "        height = b_plot.get_height()\n",
    "        ax.text(b_plot.get_x() + b_plot.get_width()/2., 0.5*height,\n",
    "                bar_label[idx], ha='center', va='center', **bars_font)"
   ]
  },
  {
   "cell_type": "markdown",
   "metadata": {},
   "source": [
    "Download example summarization text."
   ]
  },
  {
   "cell_type": "code",
   "execution_count": 11,
   "metadata": {},
   "outputs": [],
   "source": [
    "default_text = \"Copy and paste here your text of article.\"\n",
    "example_text = scrape_data('https://en.wikipedia.org/wiki/Bill_Gates')\n",
    "example_text = example_text.strip()"
   ]
  },
  {
   "cell_type": "markdown",
   "metadata": {},
   "source": [
    "Create user interface widgets."
   ]
  },
  {
   "cell_type": "code",
   "execution_count": 12,
   "metadata": {},
   "outputs": [],
   "source": [
    "# Create input widgets\n",
    "input_w_text = widgets.Textarea(value=default_text, layout={'height': '300px', 'width': '100%'})\n",
    "\n",
    "input_w_example_button = widgets.Button(description='Text example',\n",
    "                                        button_style='info',\n",
    "                                        tooltip='Text example')\n",
    "\n",
    "input_w_delete_button = widgets.Button(description='Delete text',\n",
    "                                       button_style='info',\n",
    "                                       tooltip='Delete text')"
   ]
  },
  {
   "cell_type": "code",
   "execution_count": 13,
   "metadata": {},
   "outputs": [],
   "source": [
    "# Create summary widgets\n",
    "summary_w_slider_label = widgets.HTML(value=\"Choose the size of summary (%):\")\n",
    "summary_w_slider = widgets.FloatSlider(min=1.0, max=100.0, step=1.0, value=50.0)\n",
    "summary_w_submit_button = widgets.Button(description='Create Summary', button_style='info', tooltip='Create Summary')\n",
    "summary_w_info_label = widgets.HTML(value=\"\")\n",
    "summary_w_output_text = widgets.Textarea(value=\"\", layout={'height': '300px', 'width': '100%'})\n",
    "summary_w_hbox = widgets.HBox([summary_w_slider_label, summary_w_slider])\n",
    "\n",
    "summary_w_gbox = widgets.GridBox(children=[summary_w_hbox, \n",
    "                                           summary_w_submit_button, \n",
    "                                           summary_w_info_label, \n",
    "                                           summary_w_output_text],\n",
    "                                 layout=widgets.Layout(grid_template_columns='99%'))"
   ]
  },
  {
   "cell_type": "code",
   "execution_count": 14,
   "metadata": {},
   "outputs": [],
   "source": [
    "# Create keywords widgets\n",
    "keywords_w_header_label = widgets.Label(value=\"Enter the keywords you want to keep in your text separated by commas.\")\n",
    "keywords_w_sug_button = widgets.Button(description=\"Keyword suggestions\", button_style='info', tooltip='Keyword suggestions')\n",
    "keywords_w_submit_button = widgets.Button(description='Extract Sentences', button_style='info', tooltip='Extract Sentences')\n",
    "keywords_w_hbox = widgets.HBox([keywords_w_sug_button, keywords_w_submit_button])\n",
    "keywords_w_input_text = widgets.Text(value=\"\", layout={'height': '30px', 'width': '100%'})\n",
    "keywords_w_output_text = widgets.Textarea(value=\"\", layout={'height': '300px', 'width': '100%'})\n",
    "\n",
    "keywords_w_gbox = widgets.GridBox(children=[keywords_w_header_label,\n",
    "                                            keywords_w_hbox,\n",
    "                                            keywords_w_input_text, \n",
    "                                            keywords_w_output_text],\n",
    "                                  layout=widgets.Layout(grid_template_columns='99%'))"
   ]
  },
  {
   "cell_type": "code",
   "execution_count": 15,
   "metadata": {},
   "outputs": [],
   "source": [
    "# Create top words widgets\n",
    "topwords_w_submit_button = widgets.Button(description='Create Top Words', button_style='info', tooltip='Create Top Words')\n",
    "topwords_w_info_label = widgets.HTML(value=\"\")\n",
    "topwords_w_image = widgets.Image(value=open(\"images/default_top_words.png\", \"rb\").read())\n",
    "\n",
    "topwords_w_gbox = widgets.GridBox(children=[topwords_w_submit_button,\n",
    "                                             topwords_w_info_label,\n",
    "                                             topwords_w_image],\n",
    "                                   layout=widgets.Layout(grid_template_columns='99%'))"
   ]
  },
  {
   "cell_type": "markdown",
   "metadata": {},
   "source": [
    "Create CSS to set font style for Textarea widget."
   ]
  },
  {
   "cell_type": "code",
   "execution_count": 16,
   "metadata": {},
   "outputs": [
    {
     "data": {
      "text/html": [
       "<style>\n",
       "textarea, input {\n",
       "    font-family: monospace;\n",
       "    font-size: 20px;\n",
       "}\n",
       "</style>\n"
      ],
      "text/plain": [
       "<IPython.core.display.HTML object>"
      ]
     },
     "metadata": {},
     "output_type": "display_data"
    }
   ],
   "source": [
    "%%html\n",
    "<style>\n",
    "textarea, input {\n",
    "    font-family: monospace;\n",
    "    font-size: 20px;\n",
    "}\n",
    "</style>"
   ]
  },
  {
   "cell_type": "markdown",
   "metadata": {},
   "source": [
    "Declare widget events to handle user commands."
   ]
  },
  {
   "cell_type": "code",
   "execution_count": 17,
   "metadata": {},
   "outputs": [],
   "source": [
    "# Handle input widgets events\n",
    "input_w_example_button.on_click(create_text_example)\n",
    "input_w_delete_button.on_click(delete_text)\n",
    "\n",
    "# Handle summary widgets events\n",
    "summary_w_submit_button.on_click(create_summary)\n",
    "\n",
    "# Handle keyword widgets events\n",
    "keywords_w_sug_button.on_click(keyword_suggestions)\n",
    "keywords_w_submit_button.on_click(extract_keyword_sentences)\n",
    "\n",
    "# Handle word cloud widgets events\n",
    "topwords_w_submit_button.on_click(create_top_words)"
   ]
  },
  {
   "cell_type": "markdown",
   "metadata": {},
   "source": [
    "Display input widgets."
   ]
  },
  {
   "cell_type": "code",
   "execution_count": 18,
   "metadata": {},
   "outputs": [
    {
     "data": {
      "application/vnd.jupyter.widget-view+json": {
       "model_id": "0cd76ea7538d46969eb16732207ab36e",
       "version_major": 2,
       "version_minor": 0
      },
      "text/plain": [
       "GridBox(children=(HBox(children=(Button(button_style='info', description='Text example', style=ButtonStyle(), …"
      ]
     },
     "metadata": {},
     "output_type": "display_data"
    }
   ],
   "source": [
    "input_w_hbox = widgets.HBox([input_w_example_button, input_w_delete_button])\n",
    "widgets.GridBox(children=[input_w_hbox, input_w_text], layout=widgets.Layout(grid_template_columns='99%'))"
   ]
  },
  {
   "cell_type": "markdown",
   "metadata": {},
   "source": [
    "Display output widgets."
   ]
  },
  {
   "cell_type": "code",
   "execution_count": 19,
   "metadata": {},
   "outputs": [
    {
     "data": {
      "application/vnd.jupyter.widget-view+json": {
       "model_id": "3929a7628f1442a2a57a6e892245d784",
       "version_major": 2,
       "version_minor": 0
      },
      "text/plain": [
       "Tab(children=(GridBox(children=(HBox(children=(HTML(value='Choose the size of summary (%):'), FloatSlider(valu…"
      ]
     },
     "metadata": {},
     "output_type": "display_data"
    }
   ],
   "source": [
    "tab_names = ['Summary', 'Keywords', 'Top Words']\n",
    "tab = widgets.Tab()\n",
    "tab.children = [summary_w_gbox, keywords_w_gbox, topwords_w_gbox]\n",
    "\n",
    "for i in range(len(tab_names)):\n",
    "    tab.set_title(i, tab_names[i])\n",
    "tab"
   ]
  },
  {
   "cell_type": "markdown",
   "metadata": {},
   "source": [
    "## 5. Conclusions"
   ]
  },
  {
   "cell_type": "markdown",
   "metadata": {},
   "source": [
    "- Use Case: Increase Complexity (add more data and increase number of classes), implement image recognition on video files, objects counting etc.\n",
    "- Data Preparation: Use pretrained model or partial manual control to reduce the time for data cleaning.\n",
    "- Model Definition: Try different architecture or transfer learning.\n",
    "- Model Training: Add GPU support to reduce the training time. This requires Nvidia GPU, as Keras doesn't work with AMD GPU yet.\n",
    "- Model Tuning: Try different optimization and activation functions."
   ]
  },
  {
   "cell_type": "markdown",
   "metadata": {},
   "source": [
    "## 6. Proposals for Further Developments"
   ]
  },
  {
   "cell_type": "markdown",
   "metadata": {},
   "source": [
    "- Use Case: Increase Complexity (add more data and increase number of classes), implement image recognition on video files, objects counting etc.\n",
    "- Data Preparation: Use pretrained model or partial manual control to reduce the time for data cleaning.\n",
    "- Model Definition: Try different architecture or transfer learning.\n",
    "- Model Training: Add GPU support to reduce the training time. This requires Nvidia GPU, as Keras doesn't work with AMD GPU yet.\n",
    "- Model Tuning: Try different optimization and activation functions."
   ]
  }
 ],
 "metadata": {
  "kernelspec": {
   "display_name": "Python 3",
   "language": "python",
   "name": "python3"
  },
  "language_info": {
   "codemirror_mode": {
    "name": "ipython",
    "version": 3
   },
   "file_extension": ".py",
   "mimetype": "text/x-python",
   "name": "python",
   "nbconvert_exporter": "python",
   "pygments_lexer": "ipython3",
   "version": "3.7.3"
  }
 },
 "nbformat": 4,
 "nbformat_minor": 2
}
