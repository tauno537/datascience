{
 "cells": [
  {
   "cell_type": "markdown",
   "metadata": {},
   "source": [
    "# <center>Extractive Text Summarization Using Python and Gensim</center>"
   ]
  },
  {
   "cell_type": "markdown",
   "metadata": {},
   "source": [
    "__<center>by Tauno Tanilas - 2020</center>__"
   ]
  },
  {
   "cell_type": "markdown",
   "metadata": {},
   "source": [
    "## 1. Introduction"
   ]
  },
  {
   "cell_type": "markdown",
   "metadata": {},
   "source": [
    "__Main goals:__\n",
    "- Create the user interface for input and output data.\n",
    "- Create the summary of text the user has inserted in input field.\n",
    "- Find the keywords of text the user has inserted in input field and by using these keywords extract sentences.\n",
    "- Prior extracting stopwords and lemmatizing text, find top 10 words and display them in a bar chart.\n",
    "\n",
    "__Implemented algorithms:__\n",
    "- TextRank\n",
    "\n",
    "__Main technological components:__\n",
    "- Anaconda Jupyter Notebook - as for editing and running the notebook project.\n",
    "- MyBinder - as for opening notebooks in an executable environment, making the code reproducible by anyone.\n",
    "- Python 3.7.3 - as a programming language.\n",
    "- Gensim 3.8.3 - as an open-source library for unsupervised topic modeling and natural language processing, using statistical machine learning.\n",
    "- Ipywidgets 7.5.1 - as an automatic user interface control for exploring code and data interactively."
   ]
  },
  {
   "cell_type": "markdown",
   "metadata": {},
   "source": [
    "## 2. The Importance of Automatic Text Summarization"
   ]
  },
  {
   "cell_type": "markdown",
   "metadata": {},
   "source": [
    "In a book titled [\"Automatic Text summarization\"](https://onlinelibrary.wiley.com/doi/book/10.1002/9781119004752?signUpSource=www.google.com/) data scientist Juan Manuel Torres Moreno has provided 6 reasons why we need automatic text summarization tools:\n",
    "\n",
    "- Summaries reduce reading time.\n",
    "- When researching documents, summaries make the selection process easier.\n",
    "- Automatic summarization improves the effectiveness of indexing.\n",
    "- Automatic summarization algorithms are less biased than human summarizers.\n",
    "- Personalized summaries are useful in question-answering systems as they provide personalized information.\n",
    "- Using automatic or semi-automatic summarization systems enables commercial abstract services to increase the number of texts they are able to process."
   ]
  },
  {
   "cell_type": "markdown",
   "metadata": {},
   "source": [
    "## 3. What is Automatic Text Summarization?"
   ]
  },
  {
   "cell_type": "markdown",
   "metadata": {},
   "source": [
    "<img src=\"images/text_summarization.jpg\" width=\"500\" align=\"left\">"
   ]
  },
  {
   "cell_type": "markdown",
   "metadata": {},
   "source": [
    "Summarization is the task of shorten a piece of text to a smaller version, reducing the size of the initial text while at the same time the key informational elements and the meaning of content are preserved. Compared to manual text summarization the automatization of the task is much time-saving and less laborious. Therefore it is gaining increasing popularity and i softeh used in academic research.\n",
    "\n",
    "Text summarization can be applied in many NLP related tasks such as text classification, question answering, legal texts summarization, news summarization, headline generation etc. In the book [\"Advances in Automatic Text Summarization\"](https://www.amazon.com/Advances-Automatic-Text-Summarization-Press/dp/0262133598/ref=as_li_ss_tl?ie=UTF8&qid=1503872626&sr=8-1&keywords=text+summarization&linkCode=sl1&tag=inspiredalgor-20&linkId=75d9f8d62261d17bdddf5c5c0f43881a), the authors has provided a list of every-day examples of text summarization.\n",
    "\n",
    "- headlines (from around the world)\n",
    "- outlines (notes for students)\n",
    "- minutes (of a meeting)\n",
    "- previews (of movies)\n",
    "- synopses (soap opera listings)\n",
    "- reviews (of a book, CD, movie, etc.)\n",
    "- digests (TV guide)\n",
    "- biography (resumes, obituaries)\n",
    "- abridgments (Shakespeare for children)\n",
    "- bulletins (weather forecasts/stock market reports)\n",
    "- sound bites (politicians on a current issue)\n",
    "- histories (chronologies of salient events)"
   ]
  },
  {
   "cell_type": "markdown",
   "metadata": {},
   "source": [
    "## 4. Types of Automatic Text Summarization"
   ]
  },
  {
   "cell_type": "markdown",
   "metadata": {},
   "source": [
    "Depending on the use case and the type of documents, text summarization can be divided into  two main approaches:"
   ]
  },
  {
   "cell_type": "markdown",
   "metadata": {},
   "source": [
    "### 4.1. Extractive Methods"
   ]
  },
  {
   "cell_type": "markdown",
   "metadata": {},
   "source": [
    "Involves the selection of phrases and sentences from the source document to make up the new summary. Extractive methods are using an unsupervised learning technique to find the sentences similarity and rank them. The benefit of it is that there is no need to train and build a model prior starting to use it.\n",
    "\n",
    "#### Input document => Sentences similarity => Weight sentences => Select sentences with higher rank"
   ]
  },
  {
   "cell_type": "markdown",
   "metadata": {},
   "source": [
    "### 4.2. Abstractive Methods"
   ]
  },
  {
   "cell_type": "markdown",
   "metadata": {},
   "source": [
    "Involves generating entirely new phrases and sentences to capture the meaning of the source document. Extractive methods give often better results compared to automatic approach because abstractive methods have to overcome problems like semantic representation, inference and natural language generation which are more sophisticated than data-driven approaches such as sentence extraction.\n",
    "\n",
    "#### Input document => Understand context => Semantics =>Create own summary"
   ]
  },
  {
   "cell_type": "markdown",
   "metadata": {},
   "source": [
    "## 5. The working principles of TextRank algorithm"
   ]
  },
  {
   "cell_type": "markdown",
   "metadata": {},
   "source": [
    "<img src=\"images/textrank.png\" width=\"500\" align=\"left\">"
   ]
  },
  {
   "cell_type": "markdown",
   "metadata": {},
   "source": [
    "1. Integrate all the articles into text data.\n",
    "2. Split the text into individual sentences.\n",
    "3. Find a vector representation (word vector) for each sentence.\n",
    "4. Calculate the similarity between sentence vectors and store them in the matrix.\n",
    "5. Transform the similarity matrix into a graph structure with sentences as nodes and similarity scores as edges.\n",
    "6. Choose a certain number of the highest ranked sentences that form the final summary."
   ]
  },
  {
   "cell_type": "markdown",
   "metadata": {},
   "source": [
    "## 6. The implementation of TextRank algorithm"
   ]
  },
  {
   "cell_type": "markdown",
   "metadata": {},
   "source": [
    "To better understand how the implementation of TextRank algorithm works, run the following cells. For that select the cell and choose the 'Run' command in the above menu. It works better for english language."
   ]
  },
  {
   "cell_type": "markdown",
   "metadata": {},
   "source": [
    "Install missing libraries."
   ]
  },
  {
   "cell_type": "code",
   "execution_count": 2,
   "metadata": {},
   "outputs": [],
   "source": [
    "#!pip install gensim\n",
    "#!pip install texthero\n",
    "#!pip install regex\n",
    "#!pip install spaCy"
   ]
  },
  {
   "cell_type": "markdown",
   "metadata": {},
   "source": [
    "Import required libraries."
   ]
  },
  {
   "cell_type": "code",
   "execution_count": null,
   "metadata": {},
   "outputs": [],
   "source": [
    "# data downloading\n",
    "import urllib.request as ur\n",
    "import bs4 as bs\n",
    "\n",
    "# data preprocessing\n",
    "import texthero as hero\n",
    "from texthero import stopwords\n",
    "import pandas as pd\n",
    "import regex as rx\n",
    "\n",
    "# modeling\n",
    "import gensim\n",
    "from gensim.summarization import keywords, summarize\n",
    "import spaCy as sp\n",
    "\n",
    "# data visualization\n",
    "import matplotlib.pyplot as plt\n",
    "import ipywidgets as widgets"
   ]
  },
  {
   "cell_type": "markdown",
   "metadata": {},
   "source": [
    "Define helper functions."
   ]
  },
  {
   "cell_type": "code",
   "execution_count": 45,
   "metadata": {},
   "outputs": [],
   "source": [
    "def scrape_data(url):\n",
    "    \"\"\"\n",
    "    Take input url and return it's article text.\n",
    "    \n",
    "    :param url: String to specify web address.\n",
    "    :return: String of article text.\n",
    "    \"\"\"\n",
    "    scraped_data = ur.urlopen(url)\n",
    "    article = scraped_data.read()\n",
    "    \n",
    "    parsed_article = bs.BeautifulSoup(article, 'html.parser')\n",
    "    paragraphs = parsed_article.find_all('p')\n",
    "    \n",
    "    article_text = \"\"\n",
    "    \n",
    "    for p in paragraphs:\n",
    "        article_text += p.text\n",
    "    return article_text"
   ]
  },
  {
   "cell_type": "code",
   "execution_count": 46,
   "metadata": {},
   "outputs": [],
   "source": [
    "def remove_brackets(input_txt):\n",
    "    \"\"\"\n",
    "    Take input text and remove all symbols containing square brackets and the text inside it.\n",
    "    \n",
    "    :param input_txt: String to specify input text.\n",
    "    :return: String of output text.\n",
    "    \"\"\"\n",
    "    output_txt = rx.sub(\"\\[[0-9a-zA-Z]+]\", \"\", input_txt)\n",
    "    return output_txt"
   ]
  },
  {
   "cell_type": "code",
   "execution_count": 47,
   "metadata": {},
   "outputs": [],
   "source": [
    "def create_text_example(b):\n",
    "    \"\"\"\n",
    "    Take input Textarea object and attribute example text into it.\n",
    "    \n",
    "    :param b: ipywidgets.widgets.widget_button.Button class to specify input event.\n",
    "    \"\"\"\n",
    "    input_w_text.value = example_text"
   ]
  },
  {
   "cell_type": "code",
   "execution_count": 48,
   "metadata": {},
   "outputs": [],
   "source": [
    "def delete_text(b):\n",
    "    \"\"\"\n",
    "    Take input Textarea object and delete inserted text from it.\n",
    "    \n",
    "    :param b: ipywidgets.widgets.widget_button.Button class to specify input event.\n",
    "    \"\"\"\n",
    "    input_w_text.value = \"\"\n",
    "    summary_w_output_text.value = \"\""
   ]
  },
  {
   "cell_type": "code",
   "execution_count": 49,
   "metadata": {},
   "outputs": [],
   "source": [
    "def create_summary(b):\n",
    "    \"\"\"\n",
    "    Take inserted text and create a summary from it.\n",
    "    \n",
    "    :param b: ipywidgets.widgets.widget_button.Button class to specify input event.\n",
    "    \"\"\"\n",
    "    if (len(input_w_text.value) == 0) or (input_w_text.value == default_text):\n",
    "        summary_w_output_text.value = \"Your text of article is missing or is too short!\"\n",
    "        summary_w_info_label.value = \"\"\n",
    "    else:\n",
    "        # Use gensim library to summarize text.\n",
    "        summary_w_output_text.value = summarize(input_w_text.value, summary_w_slider.value/100)\n",
    "        summary_w_info_label.value = \"Text reduced to \"+str(summary_w_slider.value)+\"% (\" \\\n",
    "            +str(len(summary_w_output_text.value.split()))+ \" words of \" \\\n",
    "            +str(len(input_w_text.value.split()))+\")\""
   ]
  },
  {
   "cell_type": "code",
   "execution_count": 50,
   "metadata": {},
   "outputs": [],
   "source": [
    "def keyword_suggestions(b):\n",
    "    \"\"\"\n",
    "    Take inserted text and create keyword suggestions from it.\n",
    "    \n",
    "    :param b: ipywidgets.widgets.widget_button.Button class to specify input event.\n",
    "    \"\"\"\n",
    "    if (len(input_w_text.value) == 0) or (input_w_text.value == default_text):\n",
    "        keywords_w_output_text.value = \"Your text of article is missing or is too short!\"\n",
    "    else: \n",
    "        keywords_w_input_text.value = \"Searching keywords...\"\n",
    "        keywords_w_output_text.value = \"\"\n",
    "        # Use gensim library to extract keywords.\n",
    "        kw_suggestions = keywords(input_w_text.value, words = 10, scores = False, split = True, lemmatize = True)\n",
    "        # Convert list to string and uppercase each word.\n",
    "        kw_suggestions = (', '.join(map(str, kw_suggestions))).title()\n",
    "        keywords_w_input_text.value = kw_suggestions"
   ]
  },
  {
   "cell_type": "code",
   "execution_count": 51,
   "metadata": {},
   "outputs": [],
   "source": [
    "def extract_keyword_sentences(b):\n",
    "    \"\"\"\n",
    "    Take inserted keywords and extract sentences containing these keywords.\n",
    "    \n",
    "    :param b: ipywidgets.widgets.widget_button.Button class to specify input event.\n",
    "    \"\"\"\n",
    "    if len(keywords_w_input_text.value) == 0:\n",
    "        keywords_w_output_text.value = \"Keywords are missing!\"\n",
    "    elif (len(input_w_text.value) == 0) or (input_w_text.value == default_text):\n",
    "        keywords_w_output_text.value = \"Your text of article is missing or is too short!\"\n",
    "    else:\n",
    "        keywords_w_output_text.value = \"Extracting sentences...\"\n",
    "        user_keywords = keywords_w_input_text.value.replace(\" \", \"\").split(\",\")\n",
    "        input_sentences = input_w_text.value.split(\".\")\n",
    "        extracted_sentences = \"\"\n",
    "\n",
    "        for kw_ind, kw_value in enumerate(user_keywords):\n",
    "            for st_ind, st_value in enumerate(input_sentences):\n",
    "                if kw_value.lower() in st_value.lower():\n",
    "                    extracted_sentences += remove_brackets(st_value).replace(\"\\n\", \"\").strip()+\".\\n\\n\"\n",
    "                    \n",
    "        keywords_w_output_text.value = extracted_sentences.strip()"
   ]
  },
  {
   "cell_type": "code",
   "execution_count": 66,
   "metadata": {},
   "outputs": [],
   "source": [
    "def create_top_words(b):\n",
    "    \"\"\"\n",
    "    Take inserted text and show top words statistics.\n",
    "    \n",
    "    :param b: ipywidgets.widgets.widget_button.Button class to specify input event.\n",
    "    \"\"\"\n",
    "    topwords_w_image.value = open(\"images/default_top_words.png\", \"rb\").read()\n",
    "    \n",
    "    if (len(input_w_text.value) == 0) or (input_w_text.value == default_text):\n",
    "        topwords_w_info_label.value = \"Your text of article is missing or is too short!\"\n",
    "        \n",
    "    else:\n",
    "        topwords_w_info_label.value = \"Starting to generate the Top Words...\"\n",
    "        \n",
    "        # Split text to sentences and create a dataframe containing sentences and cleaned sentences columns.\n",
    "        sentences_list = input_w_text.value.split(\".\")\n",
    "        sentences_df = pd.DataFrame(sentences_list, columns = [\"sentence\"])\n",
    "        sentences_df[\"clean_sentence\"] = hero.clean(sentences_df[\"sentence\"])\n",
    "        \n",
    "        # Get default stopwords.\n",
    "        default_stopwords = stopwords.DEFAULT\n",
    "        # add a list of estonian stopwords to the stopwords\n",
    "        estonian_stopwords =  set(open('stopwords/estonian-stopwords-lemmas.txt', encoding='utf-8').read().split())\n",
    "        custom_stopwords = default_stopwords.union(estonian_stopwords)\n",
    "        sentences_df['clean_sentence'] = hero.remove_stopwords(sentences_df['clean_sentence'], custom_stopwords)\n",
    "        \n",
    "        # Generate top words.\n",
    "        tw_vis = hero.visualization.top_words(sentences_df[\"clean_sentence\"]).head(10)\n",
    "        \n",
    "        # Create dataframe for chart annotation.\n",
    "        tw_vis_list = tw_vis.tolist()\n",
    "        tw_vis_df = tw_vis.to_frame()\n",
    "        tw_vis_df.rename(columns={'clean_sentence':'kw_value'}, inplace=True)\n",
    "        tw_vis_df.index.name = 'kw_name'\n",
    "        tw_vis_df.reset_index(drop=False, inplace=True)\n",
    "        \n",
    "        bar_x = list(range(1, 11))\n",
    "        bar_height = tw_vis_list\n",
    "        bar_tick_label = tw_vis_df['kw_name'].tolist()\n",
    "        bar_label = tw_vis_list\n",
    "        \n",
    "        fig, ax = plt.subplots(figsize=(20, 7))\n",
    "        bar_plot = plt.bar(bar_x, bar_height, tick_label=bar_tick_label)\n",
    "        annotate_labels(bar_plot, ax, bar_label)\n",
    "        \n",
    "        plt.xlabel('Words')\n",
    "        plt.ylabel('Value')\n",
    "        plt.xticks(rotation=0, ha='center')\n",
    "        plt.savefig(\"images/top_words.png\", bbox_inches='tight')\n",
    "        plt.close(fig)\n",
    "        \n",
    "        # display top words\n",
    "        topwords_w_image.value = open(\"images/top_words.png\", \"rb\").read()\n",
    "        \n",
    "        topwords_w_info_label.value = \"\""
   ]
  },
  {
   "cell_type": "code",
   "execution_count": 64,
   "metadata": {},
   "outputs": [],
   "source": [
    "def annotate_labels(b_plots, ax, bar_label):\n",
    "    \"\"\"\n",
    "    Take inserted text and create keyword suggestions from it.\n",
    "    \n",
    "    :param b_plots: matplotlib.container.BarContainer class.\n",
    "    :param ax: matplotlib.axes._subplots.AxesSubplot class.\n",
    "    :param bar_label: list to contain bars labels values.\n",
    "    :param bars_font: dictionary to determine bars font style.\n",
    "    \"\"\"\n",
    "    for idx, b_plot in enumerate(b_plots):\n",
    "        height = b_plot.get_height()\n",
    "        ax.text(b_plot.get_x() + b_plot.get_width()/2., 0.5*height, bar_label[idx], ha='center', va='center')"
   ]
  },
  {
   "cell_type": "markdown",
   "metadata": {},
   "source": [
    "Download example summarization text."
   ]
  },
  {
   "cell_type": "code",
   "execution_count": 54,
   "metadata": {},
   "outputs": [],
   "source": [
    "default_text = \"Copy and paste here your text of article.\"\n",
    "example_text = scrape_data('https://en.wikipedia.org/wiki/Bill_Gates')\n",
    "example_text = example_text.strip()"
   ]
  },
  {
   "cell_type": "markdown",
   "metadata": {},
   "source": [
    "Create user interface widgets."
   ]
  },
  {
   "cell_type": "code",
   "execution_count": 55,
   "metadata": {},
   "outputs": [],
   "source": [
    "# Create input widgets\n",
    "input_w_text = widgets.Textarea(value=default_text, layout={'height': '300px', 'width': '100%'})\n",
    "\n",
    "input_w_example_button = widgets.Button(description='Text example',\n",
    "                                        button_style='info',\n",
    "                                        tooltip='Text example')\n",
    "\n",
    "input_w_delete_button = widgets.Button(description='Delete text',\n",
    "                                       button_style='info',\n",
    "                                       tooltip='Delete text')"
   ]
  },
  {
   "cell_type": "code",
   "execution_count": 56,
   "metadata": {},
   "outputs": [],
   "source": [
    "# Create summary widgets\n",
    "summary_w_slider_label = widgets.HTML(value=\"Choose the size of summary (%):\")\n",
    "summary_w_slider = widgets.FloatSlider(min=1.0, max=100.0, step=1.0, value=50.0)\n",
    "summary_w_submit_button = widgets.Button(description='Create Summary', button_style='info', tooltip='Create Summary')\n",
    "summary_w_info_label = widgets.HTML(value=\"\")\n",
    "summary_w_output_text = widgets.Textarea(value=\"\", layout={'height': '300px', 'width': '100%'})\n",
    "summary_w_hbox = widgets.HBox([summary_w_slider_label, summary_w_slider])\n",
    "\n",
    "summary_w_gbox = widgets.GridBox(children=[summary_w_hbox, \n",
    "                                           summary_w_submit_button, \n",
    "                                           summary_w_info_label, \n",
    "                                           summary_w_output_text],\n",
    "                                 layout=widgets.Layout(grid_template_columns='99%'))"
   ]
  },
  {
   "cell_type": "code",
   "execution_count": 57,
   "metadata": {},
   "outputs": [],
   "source": [
    "# Create keywords widgets\n",
    "keywords_w_header_label = widgets.Label(value=\"Enter the keywords you want to keep in your text separated by commas.\")\n",
    "keywords_w_sug_button = widgets.Button(description=\"Keyword suggestions\", button_style='info', tooltip='Keyword suggestions')\n",
    "keywords_w_submit_button = widgets.Button(description='Extract Sentences', button_style='info', tooltip='Extract Sentences')\n",
    "keywords_w_hbox = widgets.HBox([keywords_w_sug_button, keywords_w_submit_button])\n",
    "keywords_w_input_text = widgets.Text(value=\"\", layout={'height': '30px', 'width': '100%'})\n",
    "keywords_w_output_text = widgets.Textarea(value=\"\", layout={'height': '300px', 'width': '100%'})\n",
    "\n",
    "keywords_w_gbox = widgets.GridBox(children=[keywords_w_header_label,\n",
    "                                            keywords_w_hbox,\n",
    "                                            keywords_w_input_text, \n",
    "                                            keywords_w_output_text],\n",
    "                                  layout=widgets.Layout(grid_template_columns='99%'))"
   ]
  },
  {
   "cell_type": "code",
   "execution_count": 58,
   "metadata": {},
   "outputs": [],
   "source": [
    "# Create top words widgets\n",
    "topwords_w_submit_button = widgets.Button(description='Create Top Words', button_style='info', tooltip='Create Top Words')\n",
    "topwords_w_info_label = widgets.HTML(value=\"\")\n",
    "topwords_w_image = widgets.Image(value=open(\"images/default_top_words.png\", \"rb\").read())\n",
    "\n",
    "topwords_w_gbox = widgets.GridBox(children=[topwords_w_submit_button,\n",
    "                                             topwords_w_info_label,\n",
    "                                             topwords_w_image],\n",
    "                                   layout=widgets.Layout(grid_template_columns='99%'))"
   ]
  },
  {
   "cell_type": "markdown",
   "metadata": {},
   "source": [
    "Create CSS to set font style for Textarea widgets."
   ]
  },
  {
   "cell_type": "code",
   "execution_count": 59,
   "metadata": {},
   "outputs": [
    {
     "data": {
      "text/html": [
       "<style>\n",
       "textarea, input {\n",
       "    font-family: monospace;\n",
       "    font-size: 20px;\n",
       "}\n",
       "</style>\n"
      ],
      "text/plain": [
       "<IPython.core.display.HTML object>"
      ]
     },
     "metadata": {},
     "output_type": "display_data"
    }
   ],
   "source": [
    "%%html\n",
    "<style>\n",
    "textarea, input {\n",
    "    font-family: monospace;\n",
    "    font-size: 20px;\n",
    "}\n",
    "</style>"
   ]
  },
  {
   "cell_type": "markdown",
   "metadata": {},
   "source": [
    "Declare widget events to handle user commands."
   ]
  },
  {
   "cell_type": "code",
   "execution_count": 60,
   "metadata": {},
   "outputs": [],
   "source": [
    "# Handle input widgets events\n",
    "input_w_example_button.on_click(create_text_example)\n",
    "input_w_delete_button.on_click(delete_text)\n",
    "\n",
    "# Handle summary widgets events\n",
    "summary_w_submit_button.on_click(create_summary)\n",
    "\n",
    "# Handle keyword widgets events\n",
    "keywords_w_sug_button.on_click(keyword_suggestions)\n",
    "keywords_w_submit_button.on_click(extract_keyword_sentences)\n",
    "\n",
    "# Handle word cloud widgets events\n",
    "topwords_w_submit_button.on_click(create_top_words)"
   ]
  },
  {
   "cell_type": "markdown",
   "metadata": {},
   "source": [
    "Display input widgets."
   ]
  },
  {
   "cell_type": "code",
   "execution_count": 61,
   "metadata": {},
   "outputs": [
    {
     "data": {
      "application/vnd.jupyter.widget-view+json": {
       "model_id": "cbf995d71fe64dd2b4b0b9f877bc0b53",
       "version_major": 2,
       "version_minor": 0
      },
      "text/plain": [
       "GridBox(children=(HBox(children=(Button(button_style='info', description='Text example', style=ButtonStyle(), …"
      ]
     },
     "metadata": {},
     "output_type": "display_data"
    }
   ],
   "source": [
    "input_w_hbox = widgets.HBox([input_w_example_button, input_w_delete_button])\n",
    "widgets.GridBox(children=[input_w_hbox, input_w_text], layout=widgets.Layout(grid_template_columns='99%'))"
   ]
  },
  {
   "cell_type": "markdown",
   "metadata": {},
   "source": [
    "Display output widgets."
   ]
  },
  {
   "cell_type": "code",
   "execution_count": 62,
   "metadata": {},
   "outputs": [
    {
     "data": {
      "application/vnd.jupyter.widget-view+json": {
       "model_id": "51bd1b5dd6164cf48ef83876fd75be32",
       "version_major": 2,
       "version_minor": 0
      },
      "text/plain": [
       "Tab(children=(GridBox(children=(HBox(children=(HTML(value='Choose the size of summary (%):'), FloatSlider(valu…"
      ]
     },
     "metadata": {},
     "output_type": "display_data"
    }
   ],
   "source": [
    "tab_names = ['Summary', 'Keywords', 'Top Words']\n",
    "tab = widgets.Tab()\n",
    "tab.children = [summary_w_gbox, keywords_w_gbox, topwords_w_gbox]\n",
    "\n",
    "for i in range(len(tab_names)):\n",
    "    tab.set_title(i, tab_names[i])\n",
    "tab"
   ]
  },
  {
   "cell_type": "markdown",
   "metadata": {},
   "source": [
    "## 7. Proposals for Further Developments"
   ]
  },
  {
   "cell_type": "markdown",
   "metadata": {},
   "source": [
    "Automatic Text Summarization is a broad topic and in current article only a tiny part of it was covered. There are many tasks that could be explored in further developments and here are some ideas of it:\n",
    "\n",
    "- Multiple domain text summarization\n",
    "- Cross-language text summarization\n",
    "- Text summarization using various algorithms like RNNs, LSTM and Reinforcement Learning\n",
    "- Abstractive summarization where Deep Learning plays a big role."
   ]
  }
 ],
 "metadata": {
  "kernelspec": {
   "display_name": "Python 3",
   "language": "python",
   "name": "python3"
  },
  "language_info": {
   "codemirror_mode": {
    "name": "ipython",
    "version": 3
   },
   "file_extension": ".py",
   "mimetype": "text/x-python",
   "name": "python",
   "nbconvert_exporter": "python",
   "pygments_lexer": "ipython3",
   "version": "3.7.3"
  }
 },
 "nbformat": 4,
 "nbformat_minor": 2
}
