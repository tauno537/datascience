{
 "cells": [
  {
   "cell_type": "markdown",
   "metadata": {},
   "source": [
    "# <center>Extractive Text Summarization Using Python and Gensim</center>"
   ]
  },
  {
   "cell_type": "markdown",
   "metadata": {},
   "source": [
    "__<center>by Tauno Tanilas - 2020</center>__"
   ]
  },
  {
   "cell_type": "markdown",
   "metadata": {},
   "source": [
    "## 1. Introduction"
   ]
  },
  {
   "cell_type": "markdown",
   "metadata": {},
   "source": [
    "<img src=\"https://st2.ning.com/topology/rest/1.0/file/get/502818197?profile=original\" width=\"500\" align=\"left\">"
   ]
  },
  {
   "cell_type": "markdown",
   "metadata": {},
   "source": [
    "## 2. Data"
   ]
  },
  {
   "cell_type": "markdown",
   "metadata": {},
   "source": []
  },
  {
   "cell_type": "markdown",
   "metadata": {},
   "source": [
    "### 2.1. Data Acquiring"
   ]
  },
  {
   "cell_type": "markdown",
   "metadata": {},
   "source": [
    "Import Required Libraries."
   ]
  },
  {
   "cell_type": "code",
   "execution_count": null,
   "metadata": {},
   "outputs": [],
   "source": [
    "!wget http://nlp.stanford.edu/data/glove.6B.zip\n",
    "!unzip glove*.zip"
   ]
  },
  {
   "cell_type": "code",
   "execution_count": 7,
   "metadata": {},
   "outputs": [],
   "source": [
    "#!pip install gensim"
   ]
  },
  {
   "cell_type": "code",
   "execution_count": 6,
   "metadata": {},
   "outputs": [],
   "source": [
    "import urllib.request as ur\n",
    "import bs4 as bs\n",
    "import pandas as pd\n",
    "import nltk\n",
    "import re\n",
    "import gensim\n",
    "from gensim.summarization import summarize\n",
    "\n",
    "#nltk.download('punkt') # one time execution\n",
    "#nltk.download('stopwords')"
   ]
  },
  {
   "cell_type": "markdown",
   "metadata": {},
   "source": [
    "Read the Data"
   ]
  },
  {
   "cell_type": "code",
   "execution_count": 9,
   "metadata": {},
   "outputs": [],
   "source": [
    "def scrape_data(url):\n",
    "    scraped_data = ur.urlopen(url)\n",
    "    article = scraped_data.read()\n",
    "    \n",
    "    parsed_article = bs.BeautifulSoup(article,'lxml')\n",
    "    paragraphs = parsed_article.find_all('p')\n",
    "    \n",
    "    article_text = \"\"\n",
    "    \n",
    "    for p in paragraphs:\n",
    "        article_text += p.text\n",
    "    return article_text"
   ]
  },
  {
   "cell_type": "code",
   "execution_count": 10,
   "metadata": {},
   "outputs": [
    {
     "data": {
      "text/html": [
       "<div>\n",
       "<style scoped>\n",
       "    .dataframe tbody tr th:only-of-type {\n",
       "        vertical-align: middle;\n",
       "    }\n",
       "\n",
       "    .dataframe tbody tr th {\n",
       "        vertical-align: top;\n",
       "    }\n",
       "\n",
       "    .dataframe thead th {\n",
       "        text-align: right;\n",
       "    }\n",
       "</style>\n",
       "<table border=\"1\" class=\"dataframe\">\n",
       "  <thead>\n",
       "    <tr style=\"text-align: right;\">\n",
       "      <th></th>\n",
       "      <th>article_topic</th>\n",
       "      <th>article_text</th>\n",
       "      <th>article_url</th>\n",
       "    </tr>\n",
       "  </thead>\n",
       "  <tbody>\n",
       "    <tr>\n",
       "      <th>0</th>\n",
       "      <td>Bill_Gates</td>\n",
       "      <td>\\nWilliam Henry Gates III  (born October 28, 1...</td>\n",
       "      <td>https://en.wikipedia.org/wiki/Bill_Gates</td>\n",
       "    </tr>\n",
       "    <tr>\n",
       "      <th>1</th>\n",
       "      <td>Steve_Jobs</td>\n",
       "      <td>\\n\\nSteven Paul Jobs (/dʒɒbz/; February 24, 19...</td>\n",
       "      <td>https://en.wikipedia.org/wiki/Steve_jobs</td>\n",
       "    </tr>\n",
       "    <tr>\n",
       "      <th>2</th>\n",
       "      <td>Jeff_Bezos</td>\n",
       "      <td>\\nJeffrey Preston Bezos (/ˈbeɪzoʊs/;[a][2] né ...</td>\n",
       "      <td>https://en.wikipedia.org/wiki/Jeff_Bezos</td>\n",
       "    </tr>\n",
       "  </tbody>\n",
       "</table>\n",
       "</div>"
      ],
      "text/plain": [
       "  article_topic                                       article_text  \\\n",
       "0    Bill_Gates  \\nWilliam Henry Gates III  (born October 28, 1...   \n",
       "1    Steve_Jobs  \\n\\nSteven Paul Jobs (/dʒɒbz/; February 24, 19...   \n",
       "2    Jeff_Bezos  \\nJeffrey Preston Bezos (/ˈbeɪzoʊs/;[a][2] né ...   \n",
       "\n",
       "                                article_url  \n",
       "0  https://en.wikipedia.org/wiki/Bill_Gates  \n",
       "1  https://en.wikipedia.org/wiki/Steve_jobs  \n",
       "2  https://en.wikipedia.org/wiki/Jeff_Bezos  "
      ]
     },
     "execution_count": 10,
     "metadata": {},
     "output_type": "execute_result"
    }
   ],
   "source": [
    "article_topic = ['Bill_Gates', 'Steve_Jobs', 'Jeff_Bezos']\n",
    "article_url = ['https://en.wikipedia.org/wiki/Bill_Gates',\n",
    "               'https://en.wikipedia.org/wiki/Steve_jobs',\n",
    "               'https://en.wikipedia.org/wiki/Jeff_Bezos']\n",
    "\n",
    "article_df_cn = ['article_topic', 'article_text', 'article_url']\n",
    "article_df = pd.DataFrame(columns=article_df_cn)\n",
    "\n",
    "for u_idx, art_url in enumerate(article_url):\n",
    "    article_df.at[u_idx, article_df_cn[0]] = article_topic[u_idx]\n",
    "    article_df.at[u_idx, article_df_cn[1]] = scrape_data(art_url)\n",
    "    article_df.at[u_idx, article_df_cn[2]] = article_url[u_idx]\n",
    "\n",
    "article_df"
   ]
  },
  {
   "cell_type": "markdown",
   "metadata": {},
   "source": [
    "Inspect the Data"
   ]
  },
  {
   "cell_type": "code",
   "execution_count": 12,
   "metadata": {},
   "outputs": [
    {
     "data": {
      "text/plain": [
       "'\\nWilliam Henry Gates III  (born October 28, 1955) is an American business magnate, software developer, investor, and philanthropist. He is best known as the co-founder of Microsoft Corporation.[2][3] During his career at Microsoft, Gates held the positions of chairman, chief executive officer (CEO), president and chief software architect, while also being the largest individual shareholder until May 2014. He is one of the best-known entrepreneurs and pioneers of the microcomputer revolution of the 1970s and 1980s.\\nBorn and raised in Seattle, Washington, Gates co-founded Microsoft with childhood friend Paul Allen in 1975, in Albuquerque, New Mexico; it went on to become the world\\'s largest personal computer software company.[4][a] Gates led the company as chairman and CEO until stepping down as CEO in January 2000, but he remained chairman and became chief software architect.[7] During the late 1990s, Gates had been criticized for his business tactics, which have been considered anti-competitive. This opinion has been upheld by numerous court rulings.[8] In June 2006, Gates announced that he would be transitioning to a part-time role at Microsoft and full-time work at the Bill & Melinda Gates Foundation, the private charitable foundation that he and his wife, Melinda Gates, established in 2000.[9] He gradually transferred his duties to Ray Ozzie and Craig Mundie.[10] He stepped down as chairman of Microsoft in February 2014 and assumed a new post as technology adviser to support the newly appointed CEO Satya Nadella.[11]\\nSince 1987, he has been included in the Forbes list of the world\\'s wealthiest people.[12][13] From 1995 to 2017, he held the Forbes title of the richest person in the world all but four of those years.[1] In October 2017, he was surpassed by Amazon founder and CEO Jeff Bezos, who had an estimated net worth of US$90.6\\xa0billion compared to Gates\\' net worth of US$89.9\\xa0billion at the time.[14] As of November\\xa02019[update], Gates had an estimated net worth of US$107.1\\xa0billion, making him the second-wealthiest person in the world, behind Bezos.[b]\\nLater in his career and since leaving day-to-day operations at Microsoft in 2008, Gates pursued a number of philanthropic endeavors. He donated large amounts of money to various charitable organizations and scientific research programs through the Bill & Melinda Gates Foundation, reported to be the world\\'s largest private charity.[16] In 2009, Gates and Warren Buffett founded The Giving Pledge, whereby they and other billionaires pledge to give at least half of their wealth to philanthropy.[17] The foundation says that it works to save lives and improve global health, and is working with Rotary International to eliminate polio.[18]\\nGates was born in Seattle, Washington, on October 28, 1955.[3] He is the son of William H. Gates Sr.[c] (b. 1925) and Mary Maxwell Gates (1929–1994).[19] His ancestry includes English, German, and Irish/Scots-Irish.[citation needed] His father was a prominent lawyer, and his mother served on the board of directors for First Interstate BancSystem and the United Way of America.[citation needed] Gates\\' maternal grandfather was J. W. Maxwell, a national bank president. Gates has an older sister Kristi (Kristianne) and a younger sister Libby.[citation needed] He is the fourth of his name in his family but is known as William Gates III or \"Trey\" (i.e., three) because his father had the \"II\" suffix.[20][21] The family lived in the Sand Point area of Seattle in a home that was damaged by a rare tornado when Gates was seven years old.[22]\\nEarly in his life, Gates observed that his parents wanted him to pursue a law career.[23] When he was young, his family regularly attended a church of the Congregational Christian Churches, a Protestant Reformed denomination.[24][25][26] Gates was small for his age and was bullied as a child.[21] The family encouraged competition; one visitor reported that \"it didn\\'t matter whether it was hearts or pickleball or swimming to the dock; there was always a reward for winning and there was always a penalty for losing\".[27]\\nAt 13, he enrolled in the private Lakeside prep school,[28][29] where he wrote his first software program.[30] When he was in the eighth grade, the Mothers\\' Club at the school used proceeds from Lakeside School\\'s rummage sale to buy a Teletype Model 33 ASR terminal and a block of computer time on a General Electric (GE) computer for the students.[31] Gates took an interest in programming the GE system in BASIC, and he was excused from math classes to pursue his interest. He wrote his first computer program on this machine, an implementation of tic-tac-toe that allowed users to play games against the computer. Gates was fascinated by the machine and how it would always execute software code perfectly.[32] After the Mothers Club donation was exhausted, Gates and other students sought time on systems including DEC PDP minicomputers. One of these systems was a PDP-10 belonging to Computer Center Corporation (CCC) which banned for the summer Gates, Paul Allen, Ric Weiland, and Gates\\' best friend and first business partner Kent Evans, after it caught them exploiting bugs in the operating system to obtain free computer time.[33][21]\\nThe four students formed the Lakeside Programmers Club to make money.[21] At the end of the ban, they offered to find bugs in CCC\\'s software in exchange for extra computer time. Rather than use the system remotely via Teletype, Gates went to CCC\\'s offices and studied source code for various programs that ran on the system, including Fortran, Lisp, and machine language. The arrangement with CCC continued until 1970 when the company went out of business. \\nThe following year, a Lakeside teacher enlisted Gates and Evans to automate the school\\'s class-scheduling system, providing them computer time and royalties in return. The duo worked diligently in order to have the program ready for their senior year. Towards the end of their junior year, Evans was killed in a mountain climbing accident, which Gates has described as one of the saddest days of his life. Gates then turned to Allen who helped him finish the system for Lakeside.[21]\\nAt 17, Gates formed a venture with Allen called Traf-O-Data to make traffic counters based on the Intel 8008 processor.[34] In 1972, he served as a congressional page in the House of Representatives.[35][36] He was a National Merit Scholar when he graduated from Lakeside School in 1973.[37] He scored 1590 out of 1600 on the Scholastic Aptitude Tests (SAT) and enrolled at Harvard College in the autumn of 1973.[38][39] He chose a pre-law major but took mathematics and graduate level computer science courses.[40] While at Harvard, he met fellow student Steve Ballmer. Gates left Harvard after two years while Ballmer stayed and graduated magna cum laude. Years later, Ballmer succeeded Gates as Microsoft\\'s CEO and maintained that position from 2000 until his resignation in 2014.[41][42]\\nGates devised an algorithm for pancake sorting as a solution to one of a series of unsolved problems[43] presented in a combinatorics class by professor Harry Lewis. His solution held the record as the fastest version for over 30 years, and its successor is faster by only 2%.[43][44] His solution was formalized and published in collaboration with Harvard computer scientist Christos Papadimitriou.[45]\\nGates remained in contact with Paul Allen and joined him at Honeywell during the summer of 1974.[46] In 1975, the MITS Altair 8800 was released based on the Intel 8080 CPU, and Gates and Allen saw the opportunity to start their own computer software company.[47] Gates dropped out of Harvard that same year. His parents were supportive of him after seeing how much he wanted to start his own company.[48] He explained his decision to leave Harvard: \"if things hadn\\'t worked out, I could always go back to school. I was officially on leave.\"[49]\\nGates read the January 1975 issue of Popular Electronics which demonstrated the Altair 8800, and he contacted Micro Instrumentation and Telemetry Systems (MITS) to inform them that he and others were working on a BASIC interpreter for the platform.[50] In reality, Gates and Allen did not have an Altair and had not written code for it; they merely wanted to gauge MITS\\'s interest. MITS president Ed Roberts agreed to meet them for a demonstration, and over the course of a few weeks they developed an Altair emulator that ran on a minicomputer, and then the BASIC interpreter. The demonstration was held at MITS\\'s offices in Albuquerque, New Mexico; it was a success and resulted in a deal with MITS to distribute the interpreter as Altair BASIC. MITS hired Allen,[51] and Gates took a leave of absence from Harvard to work with him at MITS in November 1975. Allen named their partnership \"Micro-Soft\", a combination of \"microcomputer\" and \"software\", and their first office was in Albuquerque. The first employee Gates and Allen hired was their high school collaborator Ric Weiland.[51] They dropped the hyphen within a year and officially registered the trade name \"Microsoft\" with the Secretary of the State of New Mexico on November 26, 1976.[51] Gates never returned to Harvard to complete his studies.\\nMicrosoft\\'s Altair BASIC was popular with computer hobbyists, but Gates discovered that a pre-market copy had leaked out and was being widely copied and distributed. In February 1976, he wrote an Open Letter to Hobbyists in the MITS newsletter in which he asserted that more than 90% of the users of Microsoft Altair BASIC had not paid Microsoft for it and the Altair \"hobby market\" was in danger of eliminating the incentive for any professional developers to produce, distribute, and maintain high-quality software.[52] This letter was unpopular with many computer hobbyists, but Gates persisted in his belief that software developers should be able to demand payment. Microsoft became independent of MITS in late 1976, and it continued to develop programming language software for various systems.[51] The company moved from Albuquerque to Bellevue, Washington on January 1, 1979.[50]\\nGates said that he personally reviewed and often rewrote every line of code that the company produced in its first five years. As the company grew he transitioned to a manager role, then an executive.[53]\\nIBM, the leading supplier of computer equipment to commercial enterprises at the time, approached Microsoft in July 1980 concerning software for its upcoming personal computer, the IBM PC.[54] IBM first proposed that Microsoft write the BASIC interpreter. IBM\\'s representatives also mentioned that they needed an operating system, and Gates referred them to Digital Research (DRI), makers of the widely used CP/M operating system.[55] IBM\\'s discussions with Digital Research went poorly, however, and they did not reach a licensing agreement. IBM representative Jack Sams mentioned the licensing difficulties during a subsequent meeting with Gates and asked if Microsoft could provide an operating system. A few weeks later, Gates and Allen proposed using 86-DOS, an operating system similar to CP/M, that Tim Paterson of Seattle Computer Products (SCP) had made for hardware similar to the PC.[56] Microsoft made a deal with SCP to be the exclusive licensing agent of 86-DOS, and later the full owner. Microsoft employed Paterson to adapt the operating system for the PC[57] and delivered it to IBM as PC DOS for a one-time fee of $50,000.[58]\\nRather than the contract itself, which earned Microsoft a relatively small fee, the prestige brought to Microsoft by IBM\\'s adoption of their operating system was the origin of Microsoft\\'s transformation from a small business to the World\\'s leading software company. Gates had not offered to transfer the copyright on the operating system to IBM because he believed that other personal computer makers would clone IBM\\'s PC hardware.[58] They did, making the IBM-compatible PC, running DOS, a de facto standard. The sales of MS-DOS (the version of DOS sold to customers other than IBM) made Microsoft a major player in the industry.[59] The press quickly identified Microsoft as being very influential on the IBM PC. PC Magazine asked if Gates was \"the man behind the machine?\".[54]\\nGates oversaw Microsoft\\'s company restructuring on June 25, 1981, which re-incorporated the company in Washington state and made Gates the president and chairman of the board, with Paul Allen as vice president and vice chairman. In early 1983, Allen left the company after receiving a Hodgkin lymphoma diagnosis, effectively ending the formal business partnership between Gates and Allen, which had been strained months prior due to a contentious dispute over Microsoft equity.[50][60] Later in the decade, Gates repaired his relationship with Allen and together the two donated millions to their childhood school Lakeside.[21] They remained friends until Allen\\'s death in October 2018.[61]\\nMicrosoft launched its first retail version of Microsoft Windows on November 20, 1985. In August of the following year, the company struck a deal with IBM to develop a separate operating system called OS/2. Although the two companies successfully developed the first version of the new system, the partnership deteriorated due to mounting creative differences.[62]\\nGates had primary responsibility for Microsoft\\'s product strategy from the company\\'s founding in 1975 until 2006. He gained a reputation for being distant from others; an industry executive complained in 1981 that \"Gates is notorious for not being reachable by phone and for not returning phone calls.\"[63] An Atari executive recalled that he showed Gates a game and defeated him 35 of 37 times. When they met again a month later, Gates \"won or tied every game. He had studied the game until he solved it. That is a competitor\".[64]\\nGates met regularly with Microsoft\\'s senior managers and program managers, and the managers described him as being verbally combative. He also berated them for perceived holes in their business strategies or proposals that placed the company\\'s long-term interests at risk.[65][66] He interrupted presentations with such comments as \"that\\'s the stupidest thing I\\'ve ever heard\"[67] and \"why don\\'t you just give up your options and join the Peace Corps?\"[68] The target of his outburst would then have to defend the proposal in detail until Gates was fully convinced.[67] When subordinates appeared to be procrastinating, he was known to remark sarcastically, \"I\\'ll do it over the weekend.\"[69][70][71]\\nDuring Microsoft\\'s early years, Gates was an active software developer, particularly in the company\\'s programming language products, but his primary role in most of the company\\'s history was as a manager and executive. He has not officially been on a development team since working on the TRS-80 Model 100,[72] but he wrote code that shipped with the company\\'s products as late as 1989.[70] Jerry Pournelle wrote in 1985 when Gates announced Microsoft Excel: \"Bill Gates likes the program, not because it\\'s going to make him a lot of money (although I\\'m sure it will do that), but because it\\'s a neat hack.\"[73]\\nOn June 15, 2006, Gates announced that he would transition out of his role at Microsoft to dedicate more time to philanthropy. He divided his responsibilities between two successors when he placed Ray Ozzie in charge of management and Craig Mundie in charge of long-term product strategy.[74]\\nGates approved of many decisions that led to antitrust litigation over Microsoft\\'s business practices. In the 1998 United States v. Microsoft case, Gates gave deposition testimony that several journalists characterized as evasive. He argued with examiner David Boies over the contextual meaning of words such as \"compete\", \"concerned\", and \"we\". Later in the year, when portions of the videotaped deposition were played back in court, the judge was seen laughing and shaking his head.[75] BusinessWeek reported:\\nEarly rounds of his deposition show him offering obfuscatory answers and saying \"I don\\'t recall\" so many times that even the presiding judge had to chuckle. Worse, many of the technology chief\\'s denials and pleas of ignorance were directly refuted by prosecutors with snippets of e-mail that Gates both sent and received.[76]Gates later said that he had simply resisted attempts by Boies to mischaracterize his words and actions. \"Did I fence with Boies? … I plead guilty… rudeness to Boies in the first degree.\"[77] Despite Gates\\' denials, the judge ruled that Microsoft had committed monopolization, tying and blocking competition, each in violation of the Sherman Antitrust Act.[77]\\nSince leaving day-to-day operations at Microsoft, Gates has continued his philanthropy and works on other projects.\\nAccording to the Bloomberg Billionaires Index, Gates was the world\\'s highest-earning billionaire in 2013, as his net worth increased by US$15.8\\xa0billion to US$78.5\\xa0billion. As of January\\xa02014[update], most of Gates\\' assets are held in Cascade Investment LLC, an entity through which he owns stakes in numerous businesses, including Four Seasons Hotels and Resorts, and Corbis Corp.[78] On February 4, 2014, Gates stepped down as chairman of Microsoft to become \"technology advisor\" alongside CEO Satya Nadella.[11][79]\\nGates provided his perspective on a range of issues in a substantial interview that was published in the March 27, 2014 issue of Rolling Stone magazine. In the interview, Gates provided his perspective on climate change, his charitable activities, various tech companies and people involved in them, and the state of America. In response to a question about his greatest fear when he looks 50 years into the future, Gates stated: \"...\\xa0there\\'ll be some really bad things that\\'ll happen in the next 50 or 100 years, but hopefully none of them on the scale of, say, a million people that you didn\\'t expect to die from a pandemic, or nuclear or bioterrorism.\" Gates also identified innovation as the \"real driver of progress\" and pronounced that \"America\\'s way better today than it\\'s ever been.\"[80]\\nGates has expressed concern about the potential harms of superintelligence; in a Reddit \"ask me anything\", he stated that:\\nFirst the machines will do a lot of jobs for us and not be super intelligent. That should be positive if we manage it well. A few decades after that though the intelligence is strong enough to be a concern. I agree with Elon Musk and some others on this and don\\'t understand why some people are not concerned.[81][82][83][84]In an interview that was held at the TED conference in March 2015, with Baidu\\'s CEO, Robin Li, Gates said he would \"highly recommend\" Nick Bostrom\\'s recent work, Superintelligence: Paths, Dangers, Strategies.[85] During the conference, Gates warned that the world was not prepared for the next pandemic, a situation that would come to pass in late 2019 when the COVID-19 pandemic began.[86][failed verification] In March 2018, Gates met at his home in Seattle with Mohammed bin Salman, the reformist crown prince and de facto ruler of Saudi Arabia to discuss investment opportunities for Saudi Vision 2030.[87][88] In June 2019, Gates admitted that losing the mobile operating system race to Android was his biggest mistake. He stated that it was within their skill set of being the dominant player, but partially blames the antitrust litigation during the time.[89] That same year, Gates became an Advisory Board Member of the Bloomberg New Economy Forum.[90]\\nOn March 13, 2020, Microsoft announced Gates would be leaving his board positions at Berkshire Hathaway and Microsoft to dedicate his efforts in philanthropic endeavors such as climate change, global health and development, and education.[91]\\nGates studied the work of Andrew Carnegie and John D. Rockefeller, and donated some of his Microsoft stock in 1994 to create the \"William H. Gates Foundation.\" In 2000, Gates and his wife combined three family foundations and Gates donated stock valued at $5\\xa0billion to create the charitable Bill & Melinda Gates Foundation, which was identified by the Funds for NGOs company in 2013, as the world\\'s wealthiest charitable foundation, with assets reportedly valued at more than $34.6\\xa0billion.[92][93] The foundation allows benefactors to access information that shows how its money is being spent, unlike other major charitable organizations such as the Wellcome Trust.[94][95] Gates, through his foundation, also donated $20\\xa0million to Carnegie Mellon University for a new building to be named Gates Center for Computer Science which opened in 2009.[96][97]\\nGates has credited the generosity and extensive philanthropy of David Rockefeller as a major influence. Gates and his father met with Rockefeller several times, and their charity work is partly modeled on the Rockefeller family\\'s philanthropic focus, whereby they are interested in tackling the global problems that are ignored by governments and other organizations.[98] As of 2007[update], Bill and Melinda Gates were the second-most generous philanthropists in America, having given over $28\\xa0billion to charity;[99] the couple plan to eventually donate 95% of their wealth to charity.[100]\\nThe foundation is organized into four program areas: Global Development Division, Global Health Division, United States Division, and Global Policy & Advocacy Division.[101] The foundation supports the use of genetically modified organisms in agricultural development. Specifically, the foundation is supporting the International Rice Research Institute in developing Golden Rice, a genetically modified rice variant used to combat vitamin A deficiency.[102] The goal of the foundation is to provide 120\\xa0million women and girls, in the poorest countries, with high-quality contraceptive information and services, with the longer-term goal of universal access to voluntary family planning.[103] In 2007, the Los Angeles Times criticized the foundation for investing its assets in companies that have been accused of worsening poverty, pollution and pharmaceutical firms that do not sell to developing countries.[104] Although the foundation announced a review of its investments to assess social responsibility,[105] it was subsequently canceled and upheld its policy of investing for maximum return, while using voting rights to influence company practices.[106] In 2014, protests in Vancouver occurred when Gates decided to donate $50\\xa0million to UNAIDS through the Foundation for the purpose of mass circumcision in Zambia and Swaziland.[107][108]\\nMelinda Gates suggested that people should emulate the philanthropic efforts of the Salwen family, who sold their home and gave away half of its value, as detailed in their book, The Power of Half.[109] Gates and his wife invited Joan Salwen to Seattle to speak about what the family had done, and on December 9, 2010, Bill and Melinda Gates and investor Warren Buffett each signed a commitment they called the \"Giving Pledge\", which is a commitment by all three to donate at least half of their wealth, over the course of time, to charity.[110][111][112]\\nGates has also provided personal donations to educational institutions. In 1999, Gates donated $20\\xa0million to the Massachusetts Institute of Technology for the construction of a computer laboratory named the \"William H. Gates Building\" that was designed by architect Frank Gehry. While Microsoft had previously given financial support to the institution, this was the first personal donation received from Gates.[113]\\nThe Maxwell Dworkin Laboratory of the Harvard John A. Paulson School of Engineering and Applied Sciences is named after the mothers of both Gates and Microsoft President Steven A. Ballmer, both of whom were students (Ballmer was a member of the School\\'s graduating class of 1977, while Gates left his studies for Microsoft), and donated funds for the laboratory\\'s construction.[114] Gates also donated $6\\xa0million to the construction of the Gates Computer Science Building, completed in January 1996, on the campus of Stanford University. The building contains the Computer Science Department and the Computer Systems Laboratory (CSL) of Stanford\\'s Engineering department.[115]\\nSince 2005, Gates and his foundation have taken an interest in solving global sanitation problems. For example, they announced the \"Reinvent the Toilet Challenge\", which has received considerable media interest.[116] To raise awareness for the topic of sanitation and possible solutions, Gates drank water that was \"produced from human feces\" in 2014\\xa0– in fact it was produced from a sewage sludge treatment process called the Omni Processor.[117][118] In early 2015, he also appeared with Jimmy Fallon on The Tonight Show and challenged him to see if he could taste the difference between this reclaimed water or bottled water.[119]\\nIn November 2017, Gates said he would give $50\\xa0million to the Dementia Discovery Fund, a venture capital that seeks treatment for Alzheimer\\'s disease. He also pledged an additional $50\\xa0million to start-up ventures working in Alzheimer\\'s research.[120] Bill and Melinda Gates have said that they intend to leave their three children $10\\xa0million each as their inheritance. With only $30\\xa0million kept in the family, they are expected to give away about 99.96% of their wealth.[121] On August 25, 2018, Gates distributed $600,000 through his foundation via UNICEF which is helping flood affected victims in Kerala, India.[122]\\nOn April 29, 2017, Gates partnered with Swiss tennis legend Roger Federer in play in the Match for Africa 4, a noncompetitive tennis match at a sold-out Key Arena in Seattle. The event was in support of Roger Federer Foundation\\'s charity efforts in Africa.[123] Federer and Gates played against John Isner, the top-ranked American player for much of this decade, and Mike McCready, the lead guitarist for Pearl Jam. The pair won the match 6 to 4. Overall, they raised $2\\xa0million for children in Africa.[124] The following year, Gates and Federer returned to play in the Match for Africa 5 on March 5, 2018, at San Jose\\'s SAP Center. Their opponents were Jack Sock, one of the top American players and a grand slam winner in doubles, and Savannah Guthrie, a co-anchor for NBC\\'s Today show. Gates and Federer recorded their second match victory together by a score of 6–3 and the event raised over $2.5\\xa0million.[125]\\nGates married Melinda French on a golf course on the Hawaiian island of Lanai on January 1, 1994. They have three children. The family resides in Xanadu 2.0, an earth-sheltered mansion in the side of a hill overlooking Lake Washington in Medina, Washington. In 2009, property taxes on the mansion were reported to be US$1.063\\xa0million, on a total assessed value of US$147.5\\xa0million.[157] The 66,000-square-foot (6,100\\xa0m2) estate has a 60-foot (18\\xa0m) swimming pool with an underwater music system, as well as a 2,500-square-foot (230\\xa0m2) gym and a 1,000-square-foot (93\\xa0m2) dining room.[158]\\nIn an interview with Rolling Stone, Gates stated in regard to his faith: \"The moral systems of religion, I think, are super important. We\\'ve raised our kids in a religious way; they\\'ve gone to the Catholic church that Melinda goes to and I participate in. I\\'ve been very lucky, and therefore I owe it to try and reduce the inequity in the world. And that\\'s kind of a religious belief. I mean, it\\'s at least a moral belief.\"[159]\\nGates also said: \"I agree with people like Richard Dawkins that mankind felt the need for creation myths. Before we really began to understand disease and the weather and things like that, we sought false explanations for them. Now science has filled in some of the realm\\xa0– not all\\xa0– that religion used to fill. But the mystery and the beauty of the world is overwhelmingly amazing, and there\\'s no scientific explanation of how it came about. To say that it was generated by random numbers, that does seem, you know, sort of an uncharitable view [laughs]. I think it makes sense to believe in God, but exactly what decision in your life you make differently because of it, I don\\'t know.\"[159]\\nGates purchased the Codex Leicester, a collection of scientific writings by Leonardo da Vinci, for US$30.8\\xa0million at an auction in 1994.[160] Gates is an avid reader, and the ceiling of his large home library is engraved with a quotation from The Great Gatsby.[161] He also enjoys playing bridge, tennis, and golf.[162][163] Gates\\' days are planned for him on a minute-by-minute basis, similar to the U.S. President\\'s schedule.[164] Despite his wealth and extensive business travel, Gates flew coach in commercial aircraft until 1997, when he bought a private jet.\\nIn 1999, his wealth briefly surpassed US$101\\xa0billion.[165][166] Since 2000, the nominal value of his Microsoft holdings has declined due to a fall in Microsoft\\'s stock price after the dot-com bubble burst and the multi-billion dollar donations he has made to his charitable foundations. In May 2006, Gates remarked that he wished that he were not the richest man in the world because he disliked the attention it brought.[167] In March 2010, Gates was the second wealthiest person behind Carlos Slim, but regained the top position in 2013, according to the Bloomberg Billionaires List.[168][169] Slim retook the position again in June 2014[170][171] (but then lost the top position back to Gates). Between 2009 and 2014, his wealth doubled from US$40\\xa0billion to more than US$82\\xa0billion.[172] In October 2017, Gates was surpassed by Amazon founder Jeff Bezos as the richest person in the world.[14] On November 15, 2019, he once again became the richest person in the world after a 48% increase in Microsoft shares, surpassing Bezos.[173] Gates told the BBC, \"I\\'ve paid more tax than any individual ever, and gladly so\\xa0... I\\'ve paid over $6 billion in taxes.\"[174] He is a proponent of higher taxes, particularly for the rich.[175]\\nGates has held the top spot on the list of The World\\'s Billionaires for 18 out of the past 23 years.[176] Gates has several investments outside Microsoft, which in 2006 paid him a salary of US$616,667 and US$350,000 bonus totalling US$966,667.[177] In 1989, he founded Corbis, a digital imaging company. In 2004, he became a director of Berkshire Hathaway, the investment company headed by long-time friend Warren Buffett.[178]\\nIn 2016, he revealed that he is color-blind.[179]\\nGates has a multi-billion dollar investment portfolio with stake in various sectors[180] and has participated in several entrepreneurial ventures beyond Microsoft, including:\\nGates has written three books:\\nGates was the guest on BBC Radio 4\\'s Desert Island Discs on January 31, 2016, in which he talks about his relationships with his father and Steve Jobs, meeting Melinda Ann French, the start of Microsoft and some of his habits (for example reading The Economist \"from cover to cover every week\"). His choice of things to take on a desert island were, for music: \"Blue Skies\" by Willie Nelson; book: The Better Angels of Our Nature by Steven Pinker; and luxury item: a DVD Collection of Lectures from The Teaching Company.[187]\\nGates made a guest appearance as himself on the Emmy Award winning TV show, The Big Bang Theory. The episode on which he appeared was appropriately entitled, \"The Gates Excitation.\"[188] He also appeared in a cameo role in 2019 on the series finale of Silicon Valley.[189]\\nBill Gates has featured in conspiracy theories involving the novel coronavirus. Demonstrators have chanted \"arrest Bill Gates\" at demonstrations in Melbourne and Austin, Texas. The origin of this chant has been attributed to far-right radio-show host and conspiracy theorist Alex Jones.[190][191]\\n\\n'"
      ]
     },
     "execution_count": 12,
     "metadata": {},
     "output_type": "execute_result"
    }
   ],
   "source": [
    "article_df['article_text'][0]"
   ]
  },
  {
   "cell_type": "markdown",
   "metadata": {},
   "source": [
    "### 2.2. Data Cleaning and Preparation"
   ]
  },
  {
   "cell_type": "markdown",
   "metadata": {},
   "source": [
    "Split Text into Sentences."
   ]
  },
  {
   "cell_type": "code",
   "execution_count": 13,
   "metadata": {},
   "outputs": [],
   "source": [
    "from nltk.tokenize import sent_tokenize\n",
    "sentences = []\n",
    "for s in article_df['article_text']:\n",
    "    sentences.append(sent_tokenize(s))\n",
    "\n",
    "sentences = [y for x in sentences for y in x] # flatten list"
   ]
  },
  {
   "cell_type": "code",
   "execution_count": 14,
   "metadata": {},
   "outputs": [
    {
     "data": {
      "text/plain": [
       "['\\nWilliam Henry Gates III  (born October 28, 1955) is an American business magnate, software developer, investor, and philanthropist.',\n",
       " 'He is best known as the co-founder of Microsoft Corporation.',\n",
       " '[2][3] During his career at Microsoft, Gates held the positions of chairman, chief executive officer (CEO), president and chief software architect, while also being the largest individual shareholder until May 2014.',\n",
       " 'He is one of the best-known entrepreneurs and pioneers of the microcomputer revolution of the 1970s and 1980s.',\n",
       " \"Born and raised in Seattle, Washington, Gates co-founded Microsoft with childhood friend Paul Allen in 1975, in Albuquerque, New Mexico; it went on to become the world's largest personal computer software company.\"]"
      ]
     },
     "execution_count": 14,
     "metadata": {},
     "output_type": "execute_result"
    }
   ],
   "source": [
    "sentences[:5]"
   ]
  },
  {
   "cell_type": "code",
   "execution_count": 15,
   "metadata": {},
   "outputs": [],
   "source": [
    "# remove punctuations, numbers and special characters\n",
    "clean_sentences = pd.Series(sentences).str.replace(\"[^a-zA-Z]\", \" \")\n",
    "\n",
    "# make alphabets lowercase\n",
    "clean_sentences = [s.lower() for s in clean_sentences]"
   ]
  },
  {
   "cell_type": "code",
   "execution_count": 16,
   "metadata": {},
   "outputs": [
    {
     "data": {
      "text/plain": [
       "[' william henry gates iii   born october           is an american business magnate  software developer  investor  and philanthropist ',\n",
       " 'he is best known as the co founder of microsoft corporation ',\n",
       " '       during his career at microsoft  gates held the positions of chairman  chief executive officer  ceo   president and chief software architect  while also being the largest individual shareholder until may      ',\n",
       " 'he is one of the best known entrepreneurs and pioneers of the microcomputer revolution of the     s and     s ',\n",
       " 'born and raised in seattle  washington  gates co founded microsoft with childhood friend paul allen in       in albuquerque  new mexico  it went on to become the world s largest personal computer software company ']"
      ]
     },
     "execution_count": 16,
     "metadata": {},
     "output_type": "execute_result"
    }
   ],
   "source": [
    "clean_sentences[:5]"
   ]
  },
  {
   "cell_type": "code",
   "execution_count": 17,
   "metadata": {},
   "outputs": [],
   "source": [
    "from nltk.corpus import stopwords\n",
    "stop_words = stopwords.words('english')"
   ]
  },
  {
   "cell_type": "code",
   "execution_count": 18,
   "metadata": {},
   "outputs": [],
   "source": [
    "# function to remove stopwords\n",
    "def remove_stopwords(sen):\n",
    "    sen_new = \" \".join([i for i in sen if i not in stop_words])\n",
    "    return sen_new"
   ]
  },
  {
   "cell_type": "code",
   "execution_count": 19,
   "metadata": {},
   "outputs": [],
   "source": [
    "# remove stopwords from the sentences\n",
    "clean_sentences = [remove_stopwords(r.split()) for r in clean_sentences]"
   ]
  },
  {
   "cell_type": "code",
   "execution_count": 20,
   "metadata": {},
   "outputs": [
    {
     "data": {
      "text/plain": [
       "['william henry gates iii born october american business magnate software developer investor philanthropist',\n",
       " 'best known co founder microsoft corporation',\n",
       " 'career microsoft gates held positions chairman chief executive officer ceo president chief software architect also largest individual shareholder may',\n",
       " 'one best known entrepreneurs pioneers microcomputer revolution',\n",
       " 'born raised seattle washington gates co founded microsoft childhood friend paul allen albuquerque new mexico went become world largest personal computer software company']"
      ]
     },
     "execution_count": 20,
     "metadata": {},
     "output_type": "execute_result"
    }
   ],
   "source": [
    "clean_sentences[:5]"
   ]
  },
  {
   "cell_type": "markdown",
   "metadata": {},
   "source": [
    "## 3. TextRank Algorithm"
   ]
  },
  {
   "cell_type": "markdown",
   "metadata": {},
   "source": [
    "### 3.1. Vector Representation of Sentences"
   ]
  },
  {
   "cell_type": "code",
   "execution_count": 97,
   "metadata": {},
   "outputs": [
    {
     "ename": "FileNotFoundError",
     "evalue": "[Errno 2] No such file or directory: 'glove.6B.100d.txt'",
     "output_type": "error",
     "traceback": [
      "\u001b[1;31m---------------------------------------------------------------------------\u001b[0m",
      "\u001b[1;31mFileNotFoundError\u001b[0m                         Traceback (most recent call last)",
      "\u001b[1;32m<ipython-input-97-b21443a5409c>\u001b[0m in \u001b[0;36m<module>\u001b[1;34m\u001b[0m\n\u001b[0;32m      1\u001b[0m \u001b[1;31m# Extract word vectors\u001b[0m\u001b[1;33m\u001b[0m\u001b[1;33m\u001b[0m\u001b[1;33m\u001b[0m\u001b[0m\n\u001b[0;32m      2\u001b[0m \u001b[0mword_embeddings\u001b[0m \u001b[1;33m=\u001b[0m \u001b[1;33m{\u001b[0m\u001b[1;33m}\u001b[0m\u001b[1;33m\u001b[0m\u001b[1;33m\u001b[0m\u001b[0m\n\u001b[1;32m----> 3\u001b[1;33m \u001b[0mf\u001b[0m \u001b[1;33m=\u001b[0m \u001b[0mopen\u001b[0m\u001b[1;33m(\u001b[0m\u001b[1;34m'glove.6B.100d.txt'\u001b[0m\u001b[1;33m,\u001b[0m \u001b[0mencoding\u001b[0m\u001b[1;33m=\u001b[0m\u001b[1;34m'utf-8'\u001b[0m\u001b[1;33m)\u001b[0m\u001b[1;33m\u001b[0m\u001b[1;33m\u001b[0m\u001b[0m\n\u001b[0m\u001b[0;32m      4\u001b[0m \u001b[1;32mfor\u001b[0m \u001b[0mline\u001b[0m \u001b[1;32min\u001b[0m \u001b[0mf\u001b[0m\u001b[1;33m:\u001b[0m\u001b[1;33m\u001b[0m\u001b[1;33m\u001b[0m\u001b[0m\n\u001b[0;32m      5\u001b[0m     \u001b[0mvalues\u001b[0m \u001b[1;33m=\u001b[0m \u001b[0mline\u001b[0m\u001b[1;33m.\u001b[0m\u001b[0msplit\u001b[0m\u001b[1;33m(\u001b[0m\u001b[1;33m)\u001b[0m\u001b[1;33m\u001b[0m\u001b[1;33m\u001b[0m\u001b[0m\n",
      "\u001b[1;31mFileNotFoundError\u001b[0m: [Errno 2] No such file or directory: 'glove.6B.100d.txt'"
     ]
    }
   ],
   "source": [
    "# Extract word vectors\n",
    "word_embeddings = {}\n",
    "f = open('glove.6B.100d.txt', encoding='utf-8')\n",
    "for line in f:\n",
    "    values = line.split()\n",
    "    word = values[0]\n",
    "    coefs = np.asarray(values[1:], dtype='float32')\n",
    "    word_embeddings[word] = coefs\n",
    "f.close()"
   ]
  },
  {
   "cell_type": "code",
   "execution_count": null,
   "metadata": {},
   "outputs": [],
   "source": [
    "sentence_vectors = []\n",
    "for i in clean_sentences:\n",
    "    if len(i) != 0:\n",
    "        v = sum([word_embeddings.get(w, np.zeros((100,))) for w in i.split()])/(len(i.split())+0.001)\n",
    "    else:\n",
    "        v = np.zeros((100,))\n",
    "    sentence_vectors.append(v)"
   ]
  },
  {
   "cell_type": "markdown",
   "metadata": {},
   "source": [
    "### 3.2. Similarity Matrix Preparation"
   ]
  },
  {
   "cell_type": "code",
   "execution_count": null,
   "metadata": {},
   "outputs": [],
   "source": [
    "# similarity matrix\n",
    "sim_mat = np.zeros([len(sentences), len(sentences)])"
   ]
  },
  {
   "cell_type": "code",
   "execution_count": null,
   "metadata": {},
   "outputs": [],
   "source": [
    "from sklearn.metrics.pairwise import cosine_similarity"
   ]
  },
  {
   "cell_type": "code",
   "execution_count": null,
   "metadata": {},
   "outputs": [],
   "source": [
    "for i in range(len(sentences)):\n",
    "    for j in range(len(sentences)):\n",
    "        if i != j:\n",
    "            sim_mat[i][j] = cosine_similarity(sentence_vectors[i].reshape(1,100), sentence_vectors[j].reshape(1,100))[0,0]"
   ]
  },
  {
   "cell_type": "markdown",
   "metadata": {},
   "source": [
    "### 3.3. Applying PageRank Algorithm"
   ]
  },
  {
   "cell_type": "code",
   "execution_count": null,
   "metadata": {},
   "outputs": [],
   "source": [
    "import networkx as nx\n",
    "\n",
    "nx_graph = nx.from_numpy_array(sim_mat)\n",
    "scores = nx.pagerank(nx_graph)"
   ]
  },
  {
   "cell_type": "markdown",
   "metadata": {},
   "source": [
    "### 3.4. Summary Extraction"
   ]
  },
  {
   "cell_type": "code",
   "execution_count": null,
   "metadata": {},
   "outputs": [],
   "source": [
    "ranked_sentences = sorted(((scores[i],s) for i,s in enumerate(sentences)), reverse=True)"
   ]
  },
  {
   "cell_type": "code",
   "execution_count": null,
   "metadata": {},
   "outputs": [],
   "source": [
    "# Extract top 10 sentences as the summary\n",
    "for i in range(10):\n",
    "    print(ranked_sentences[i][1])"
   ]
  },
  {
   "cell_type": "code",
   "execution_count": null,
   "metadata": {},
   "outputs": [],
   "source": []
  },
  {
   "cell_type": "markdown",
   "metadata": {},
   "source": [
    "Gensim"
   ]
  },
  {
   "cell_type": "code",
   "execution_count": 24,
   "metadata": {},
   "outputs": [],
   "source": [
    "summary = summarize(article_df['article_text'][0], ratio=0.1)"
   ]
  },
  {
   "cell_type": "code",
   "execution_count": 25,
   "metadata": {},
   "outputs": [
    {
     "data": {
      "text/plain": [
       "'William Henry Gates III  (born October 28, 1955) is an American business magnate, software developer, investor, and philanthropist.\\nHe is best known as the co-founder of Microsoft Corporation.[2][3] During his career at Microsoft, Gates held the positions of chairman, chief executive officer (CEO), president and chief software architect, while also being the largest individual shareholder until May 2014.\\nBorn and raised in Seattle, Washington, Gates co-founded Microsoft with childhood friend Paul Allen in 1975, in Albuquerque, New Mexico; it went on to become the world\\'s largest personal computer software company.[4][a] Gates led the company as chairman and CEO until stepping down as CEO in January 2000, but he remained chairman and became chief software architect.[7] During the late 1990s, Gates had been criticized for his business tactics, which have been considered anti-competitive.\\nThis opinion has been upheld by numerous court rulings.[8] In June 2006, Gates announced that he would be transitioning to a part-time role at Microsoft and full-time work at the Bill & Melinda Gates Foundation, the private charitable foundation that he and his wife, Melinda Gates, established in 2000.[9] He gradually transferred his duties to Ray Ozzie and Craig Mundie.[10] He stepped down as chairman of Microsoft in February 2014 and assumed a new post as technology adviser to support the newly appointed CEO Satya Nadella.[11]\\nSince 1987, he has been included in the Forbes list of the world\\'s wealthiest people.[12][13] From 1995 to 2017, he held the Forbes title of the richest person in the world all but four of those years.[1] In October 2017, he was surpassed by Amazon founder and CEO Jeff Bezos, who had an estimated net worth of US$90.6\\xa0billion compared to Gates\\' net worth of US$89.9\\xa0billion at the time.[14] As of November\\xa02019[update], Gates had an estimated net worth of US$107.1\\xa0billion, making him the second-wealthiest person in the world, behind Bezos.[b]\\nLater in his career and since leaving day-to-day operations at Microsoft in 2008, Gates pursued a number of philanthropic endeavors.\\nHe donated large amounts of money to various charitable organizations and scientific research programs through the Bill & Melinda Gates Foundation, reported to be the world\\'s largest private charity.[16] In 2009, Gates and Warren Buffett founded The Giving Pledge, whereby they and other billionaires pledge to give at least half of their wealth to philanthropy.[17] The foundation says that it works to save lives and improve global health, and is working with Rotary International to eliminate polio.[18]\\n1925) and Mary Maxwell Gates (1929–1994).[19] His ancestry includes English, German, and Irish/Scots-Irish.[citation needed] His father was a prominent lawyer, and his mother served on the board of directors for First Interstate BancSystem and the United Way of America.[citation needed] Gates\\' maternal grandfather was J.\\nGates has an older sister Kristi (Kristianne) and a younger sister Libby.[citation needed] He is the fourth of his name in his family but is known as William Gates III or \"Trey\" (i.e., three) because his father had the \"II\" suffix.[20][21] The family lived in the Sand Point area of Seattle in a home that was damaged by a rare tornado when Gates was seven years old.[22]\\nEarly in his life, Gates observed that his parents wanted him to pursue a law career.[23] When he was young, his family regularly attended a church of the Congregational Christian Churches, a Protestant Reformed denomination.[24][25][26] Gates was small for his age and was bullied as a child.[21] The family encouraged competition; one visitor reported that \"it didn\\'t matter whether it was hearts or pickleball or swimming to the dock; there was always a reward for winning and there was always a penalty for losing\".[27]\\nAt 13, he enrolled in the private Lakeside prep school,[28][29] where he wrote his first software program.[30] When he was in the eighth grade, the Mothers\\' Club at the school used proceeds from Lakeside School\\'s rummage sale to buy a Teletype Model 33 ASR terminal and a block of computer time on a General Electric (GE) computer for the students.[31] Gates took an interest in programming the GE system in BASIC, and he was excused from math classes to pursue his interest.\\nGates was fascinated by the machine and how it would always execute software code perfectly.[32] After the Mothers Club donation was exhausted, Gates and other students sought time on systems including DEC PDP minicomputers.\\nOne of these systems was a PDP-10 belonging to Computer Center Corporation (CCC) which banned for the summer Gates, Paul Allen, Ric Weiland, and Gates\\' best friend and first business partner Kent Evans, after it caught them exploiting bugs in the operating system to obtain free computer time.[33][21]\\nThe four students formed the Lakeside Programmers Club to make money.[21] At the end of the ban, they offered to find bugs in CCC\\'s software in exchange for extra computer time.\\nRather than use the system remotely via Teletype, Gates went to CCC\\'s offices and studied source code for various programs that ran on the system, including Fortran, Lisp, and machine language.\\nThe following year, a Lakeside teacher enlisted Gates and Evans to automate the school\\'s class-scheduling system, providing them computer time and royalties in return.\\nAt 17, Gates formed a venture with Allen called Traf-O-Data to make traffic counters based on the Intel 8008 processor.[34] In 1972, he served as a congressional page in the House of Representatives.[35][36] He was a National Merit Scholar when he graduated from Lakeside School in 1973.[37] He scored 1590 out of 1600 on the Scholastic Aptitude Tests (SAT) and enrolled at Harvard College in the autumn of 1973.[38][39] He chose a pre-law major but took mathematics and graduate level computer science courses.[40] While at Harvard, he met fellow student Steve Ballmer.\\nYears later, Ballmer succeeded Gates as Microsoft\\'s CEO and maintained that position from 2000 until his resignation in 2014.[41][42]\\nGates remained in contact with Paul Allen and joined him at Honeywell during the summer of 1974.[46] In 1975, the MITS Altair 8800 was released based on the Intel 8080 CPU, and Gates and Allen saw the opportunity to start their own computer software company.[47] Gates dropped out of Harvard that same year.\\nHis parents were supportive of him after seeing how much he wanted to start his own company.[48] He explained his decision to leave Harvard: \"if things hadn\\'t worked out, I could always go back to school.\\nGates read the January 1975 issue of Popular Electronics which demonstrated the Altair 8800, and he contacted Micro Instrumentation and Telemetry Systems (MITS) to inform them that he and others were working on a BASIC interpreter for the platform.[50] In reality, Gates and Allen did not have an Altair and had not written code for it; they merely wanted to gauge MITS\\'s interest.\\nMITS president Ed Roberts agreed to meet them for a demonstration, and over the course of a few weeks they developed an Altair emulator that ran on a minicomputer, and then the BASIC interpreter.\\nThe demonstration was held at MITS\\'s offices in Albuquerque, New Mexico; it was a success and resulted in a deal with MITS to distribute the interpreter as Altair BASIC.\\nMITS hired Allen,[51] and Gates took a leave of absence from Harvard to work with him at MITS in November 1975.\\nThe first employee Gates and Allen hired was their high school collaborator Ric Weiland.[51] They dropped the hyphen within a year and officially registered the trade name \"Microsoft\" with the Secretary of the State of New Mexico on November 26, 1976.[51] Gates never returned to Harvard to complete his studies.\\nMicrosoft\\'s Altair BASIC was popular with computer hobbyists, but Gates discovered that a pre-market copy had leaked out and was being widely copied and distributed.\\nIn February 1976, he wrote an Open Letter to Hobbyists in the MITS newsletter in which he asserted that more than 90% of the users of Microsoft Altair BASIC had not paid Microsoft for it and the Altair \"hobby market\" was in danger of eliminating the incentive for any professional developers to produce, distribute, and maintain high-quality software.[52] This letter was unpopular with many computer hobbyists, but Gates persisted in his belief that software developers should be able to demand payment.\\nMicrosoft became independent of MITS in late 1976, and it continued to develop programming language software for various systems.[51] The company moved from Albuquerque to Bellevue, Washington on January 1, 1979.[50]\\nGates said that he personally reviewed and often rewrote every line of code that the company produced in its first five years.\\nIBM, the leading supplier of computer equipment to commercial enterprises at the time, approached Microsoft in July 1980 concerning software for its upcoming personal computer, the IBM PC.[54] IBM first proposed that Microsoft write the BASIC interpreter.\\nIBM representative Jack Sams mentioned the licensing difficulties during a subsequent meeting with Gates and asked if Microsoft could provide an operating system.\\nA few weeks later, Gates and Allen proposed using 86-DOS, an operating system similar to CP/M, that Tim Paterson of Seattle Computer Products (SCP) had made for hardware similar to the PC.[56] Microsoft made a deal with SCP to be the exclusive licensing agent of 86-DOS, and later the full owner.\\nMicrosoft employed Paterson to adapt the operating system for the PC[57] and delivered it to IBM as PC DOS for a one-time fee of $50,000.[58]\\nRather than the contract itself, which earned Microsoft a relatively small fee, the prestige brought to Microsoft by IBM\\'s adoption of their operating system was the origin of Microsoft\\'s transformation from a small business to the World\\'s leading software company.\\nGates oversaw Microsoft\\'s company restructuring on June 25, 1981, which re-incorporated the company in Washington state and made Gates the president and chairman of the board, with Paul Allen as vice president and vice chairman.\\nIn early 1983, Allen left the company after receiving a Hodgkin lymphoma diagnosis, effectively ending the formal business partnership between Gates and Allen, which had been strained months prior due to a contentious dispute over Microsoft equity.[50][60] Later in the decade, Gates repaired his relationship with Allen and together the two donated millions to their childhood school Lakeside.[21] They remained friends until Allen\\'s death in October 2018.[61]\\nIn August of the following year, the company struck a deal with IBM to develop a separate operating system called OS/2.\\nGates had primary responsibility for Microsoft\\'s product strategy from the company\\'s founding in 1975 until 2006.\\nGates met regularly with Microsoft\\'s senior managers and program managers, and the managers described him as being verbally combative.\\nHe also berated them for perceived holes in their business strategies or proposals that placed the company\\'s long-term interests at risk.[65][66] He interrupted presentations with such comments as \"that\\'s the stupidest thing I\\'ve ever heard\"[67] and \"why don\\'t you just give up your options and join the Peace Corps?\"[68] The target of his outburst would then have to defend the proposal in detail until Gates was fully convinced.[67] When subordinates appeared to be procrastinating, he was known to remark sarcastically, \"I\\'ll do it over the weekend.\"[69][70][71]\\nDuring Microsoft\\'s early years, Gates was an active software developer, particularly in the company\\'s programming language products, but his primary role in most of the company\\'s history was as a manager and executive.\\nHe has not officially been on a development team since working on the TRS-80 Model 100,[72] but he wrote code that shipped with the company\\'s products as late as 1989.[70] Jerry Pournelle wrote in 1985 when Gates announced Microsoft Excel: \"Bill Gates likes the program, not because it\\'s going to make him a lot of money (although I\\'m sure it will do that), but because it\\'s a neat hack.\"[73]\\nOn June 15, 2006, Gates announced that he would transition out of his role at Microsoft to dedicate more time to philanthropy.\\nGates approved of many decisions that led to antitrust litigation over Microsoft\\'s business practices.\\nLater in the year, when portions of the videotaped deposition were played back in court, the judge was seen laughing and shaking his head.[75] BusinessWeek reported:\\nWorse, many of the technology chief\\'s denials and pleas of ignorance were directly refuted by prosecutors with snippets of e-mail that Gates both sent and received.[76]Gates later said that he had simply resisted attempts by Boies to mischaracterize his words and actions.\\nSince leaving day-to-day operations at Microsoft, Gates has continued his philanthropy and works on other projects.\\nAs of January\\xa02014[update], most of Gates\\' assets are held in Cascade Investment LLC, an entity through which he owns stakes in numerous businesses, including Four Seasons Hotels and Resorts, and Corbis Corp.[78] On February 4, 2014, Gates stepped down as chairman of Microsoft to become \"technology advisor\" alongside CEO Satya Nadella.[11][79]\\nIn the interview, Gates provided his perspective on climate change, his charitable activities, various tech companies and people involved in them, and the state of America.\\nthere\\'ll be some really bad things that\\'ll happen in the next 50 or 100 years, but hopefully none of them on the scale of, say, a million people that you didn\\'t expect to die from a pandemic, or nuclear or bioterrorism.\" Gates also identified innovation as the \"real driver of progress\" and pronounced that \"America\\'s way better today than it\\'s ever been.\"[80]\\nI agree with Elon Musk and some others on this and don\\'t understand why some people are not concerned.[81][82][83][84]In an interview that was held at the TED conference in March 2015, with Baidu\\'s CEO, Robin Li, Gates said he would \"highly recommend\" Nick Bostrom\\'s recent work, Superintelligence: Paths, Dangers, Strategies.[85] During the conference, Gates warned that the world was not prepared for the next pandemic, a situation that would come to pass in late 2019 when the COVID-19 pandemic began.[86][failed verification] In March 2018, Gates met at his home in Seattle with Mohammed bin Salman, the reformist crown prince and de facto ruler of Saudi Arabia to discuss investment opportunities for Saudi Vision 2030.[87][88] In June 2019, Gates admitted that losing the mobile operating system race to Android was his biggest mistake.\\nHe stated that it was within their skill set of being the dominant player, but partially blames the antitrust litigation during the time.[89] That same year, Gates became an Advisory Board Member of the Bloomberg New Economy Forum.[90]\\nOn March 13, 2020, Microsoft announced Gates would be leaving his board positions at Berkshire Hathaway and Microsoft to dedicate his efforts in philanthropic endeavors such as climate change, global health and development, and education.[91]\\nRockefeller, and donated some of his Microsoft stock in 1994 to create the \"William H.\\nGates Foundation.\" In 2000, Gates and his wife combined three family foundations and Gates donated stock valued at $5\\xa0billion to create the charitable Bill & Melinda Gates Foundation, which was identified by the Funds for NGOs company in 2013, as the world\\'s wealthiest charitable foundation, with assets reportedly valued at more than $34.6\\xa0billion.[92][93] The foundation allows benefactors to access information that shows how its money is being spent, unlike other major charitable organizations such as the Wellcome Trust.[94][95] Gates, through his foundation, also donated $20\\xa0million to Carnegie Mellon University for a new building to be named Gates Center for Computer Science which opened in 2009.[96][97]\\nGates and his father met with Rockefeller several times, and their charity work is partly modeled on the Rockefeller family\\'s philanthropic focus, whereby they are interested in tackling the global problems that are ignored by governments and other organizations.[98] As of 2007[update], Bill and Melinda Gates were the second-most generous philanthropists in America, having given over $28\\xa0billion to charity;[99] the couple plan to eventually donate 95% of their wealth to charity.[100]\\nSpecifically, the foundation is supporting the International Rice Research Institute in developing Golden Rice, a genetically modified rice variant used to combat vitamin A deficiency.[102] The goal of the foundation is to provide 120\\xa0million women and girls, in the poorest countries, with high-quality contraceptive information and services, with the longer-term goal of universal access to voluntary family planning.[103] In 2007, the Los Angeles Times criticized the foundation for investing its assets in companies that have been accused of worsening poverty, pollution and pharmaceutical firms that do not sell to developing countries.[104] Although the foundation announced a review of its investments to assess social responsibility,[105] it was subsequently canceled and upheld its policy of investing for maximum return, while using voting rights to influence company practices.[106] In 2014, protests in Vancouver occurred when Gates decided to donate $50\\xa0million to UNAIDS through the Foundation for the purpose of mass circumcision in Zambia and Swaziland.[107][108]\\nMelinda Gates suggested that people should emulate the philanthropic efforts of the Salwen family, who sold their home and gave away half of its value, as detailed in their book, The Power of Half.[109] Gates and his wife invited Joan Salwen to Seattle to speak about what the family had done, and on December 9, 2010, Bill and Melinda Gates and investor Warren Buffett each signed a commitment they called the \"Giving Pledge\", which is a commitment by all three to donate at least half of their wealth, over the course of time, to charity.[110][111][112]\\nGates has also provided personal donations to educational institutions.\\nIn 1999, Gates donated $20\\xa0million to the Massachusetts Institute of Technology for the construction of a computer laboratory named the \"William H.\\nWhile Microsoft had previously given financial support to the institution, this was the first personal donation received from Gates.[113]\\nPaulson School of Engineering and Applied Sciences is named after the mothers of both Gates and Microsoft President Steven A.\\nBallmer, both of whom were students (Ballmer was a member of the School\\'s graduating class of 1977, while Gates left his studies for Microsoft), and donated funds for the laboratory\\'s construction.[114] Gates also donated $6\\xa0million to the construction of the Gates Computer Science Building, completed in January 1996, on the campus of Stanford University.\\nIn November 2017, Gates said he would give $50\\xa0million to the Dementia Discovery Fund, a venture capital that seeks treatment for Alzheimer\\'s disease.\\nHe also pledged an additional $50\\xa0million to start-up ventures working in Alzheimer\\'s research.[120] Bill and Melinda Gates have said that they intend to leave their three children $10\\xa0million each as their inheritance.\\nThe event was in support of Roger Federer Foundation\\'s charity efforts in Africa.[123] Federer and Gates played against John Isner, the top-ranked American player for much of this decade, and Mike McCready, the lead guitarist for Pearl Jam. The pair won the match 6 to 4.\\nOverall, they raised $2\\xa0million for children in Africa.[124] The following year, Gates and Federer returned to play in the Match for Africa 5 on March 5, 2018, at San Jose\\'s SAP Center.\\nIn an interview with Rolling Stone, Gates stated in regard to his faith: \"The moral systems of religion, I think, are super important.\\nIn 1999, his wealth briefly surpassed US$101\\xa0billion.[165][166] Since 2000, the nominal value of his Microsoft holdings has declined due to a fall in Microsoft\\'s stock price after the dot-com bubble burst and the multi-billion dollar donations he has made to his charitable foundations.\\nIn May 2006, Gates remarked that he wished that he were not the richest man in the world because he disliked the attention it brought.[167] In March 2010, Gates was the second wealthiest person behind Carlos Slim, but regained the top position in 2013, according to the Bloomberg Billionaires List.[168][169] Slim retook the position again in June 2014[170][171] (but then lost the top position back to Gates).\\nBetween 2009 and 2014, his wealth doubled from US$40\\xa0billion to more than US$82\\xa0billion.[172] In October 2017, Gates was surpassed by Amazon founder Jeff Bezos as the richest person in the world.[14] On November 15, 2019, he once again became the richest person in the world after a 48% increase in Microsoft shares, surpassing Bezos.[173] Gates told the BBC, \"I\\'ve paid more tax than any individual ever, and gladly so\\xa0...\\nGates has held the top spot on the list of The World\\'s Billionaires for 18 out of the past 23 years.[176] Gates has several investments outside Microsoft, which in 2006 paid him a salary of US$616,667 and US$350,000 bonus totalling US$966,667.[177] In 1989, he founded Corbis, a digital imaging company.\\nIn 2004, he became a director of Berkshire Hathaway, the investment company headed by long-time friend Warren Buffett.[178]\\nGates has a multi-billion dollar investment portfolio with stake in various sectors[180] and has participated in several entrepreneurial ventures beyond Microsoft, including:\\nGates was the guest on BBC Radio 4\\'s Desert Island Discs on January 31, 2016, in which he talks about his relationships with his father and Steve Jobs, meeting Melinda Ann French, the start of Microsoft and some of his habits (for example reading The Economist \"from cover to cover every week\").'"
      ]
     },
     "execution_count": 25,
     "metadata": {},
     "output_type": "execute_result"
    }
   ],
   "source": [
    "summary"
   ]
  },
  {
   "cell_type": "code",
   "execution_count": null,
   "metadata": {},
   "outputs": [],
   "source": []
  }
 ],
 "metadata": {
  "kernelspec": {
   "display_name": "Python 3",
   "language": "python",
   "name": "python3"
  },
  "language_info": {
   "codemirror_mode": {
    "name": "ipython",
    "version": 3
   },
   "file_extension": ".py",
   "mimetype": "text/x-python",
   "name": "python",
   "nbconvert_exporter": "python",
   "pygments_lexer": "ipython3",
   "version": "3.7.3"
  }
 },
 "nbformat": 4,
 "nbformat_minor": 2
}
