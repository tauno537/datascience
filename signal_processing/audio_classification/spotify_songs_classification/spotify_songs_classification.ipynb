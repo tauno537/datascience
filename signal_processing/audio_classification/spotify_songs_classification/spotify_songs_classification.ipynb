{
 "cells": [
  {
   "cell_type": "markdown",
   "metadata": {},
   "source": [
    "# <center>Classifying Songs in Spotify Playlists</center>"
   ]
  },
  {
   "cell_type": "markdown",
   "metadata": {},
   "source": [
    "__<center>Capstone Project for IBM Data Science Professional Certificate Specialization</center>__"
   ]
  },
  {
   "cell_type": "markdown",
   "metadata": {},
   "source": [
    "__<center>by Tauno Tanilas - 2019</center>__"
   ]
  },
  {
   "cell_type": "markdown",
   "metadata": {},
   "source": [
    "## 1. Introduction"
   ]
  },
  {
   "cell_type": "markdown",
   "metadata": {},
   "source": [
    "This is the Capstone Project for [IBM Data Science Professional Certificate](https://www.coursera.org/specializations/ibm-data-science-professional-certificate?recoOrder=4&utm_medium=email&utm_source=recommendations&utm_campaign=recommendationsEmail~recs_email~2019-01-07) course. The subject of final project in this course is left to the author's choice. I decided to apply my acquired knowledge into the field of Data Classification and implement it on the data available in Spotify platform.\n",
    "\n",
    "__Business problem__\n",
    "- Understand the user's needs and preferences in evaluating musical tracks.\n",
    "- Knowing these characteristics, provide better services.\n",
    "\n",
    "__Target audience__\n",
    "- Audio streaming providers.\n",
    "- Any person willing to get insights about using classification modeling in solving machine learning problems.\n",
    "\n",
    "__Main goals__\n",
    "- Determine characteristics that define the user's musical taste.\n",
    "- Using these characteristics compare the music user likes or dislikes.\n",
    "- Create a predictive model on whether user likes or dislikes a song.\n",
    "- Determine the main musical genres that are in user’s preferences.  \n",
    "- Using Foursquare API, construct a map of accommodation options in one of the selected concert places."
   ]
  },
  {
   "cell_type": "markdown",
   "metadata": {},
   "source": [
    "## 2. Data"
   ]
  },
  {
   "cell_type": "markdown",
   "metadata": {},
   "source": [
    "The data set is constructed from the Spotify playlists that I have created for myself. There are 80 playlists in total - 45 liked and 25 disliked for training and 10 for evaluation. Liked playlists are labeled as 'GOOD' and disliked as 'BAD'. For later evaluation purposes a separate file is for ten different musical genres that contain tracks that were not used in training stage."
   ]
  },
  {
   "cell_type": "markdown",
   "metadata": {},
   "source": [
    "To get the info of playlists tracks and the audio features of them, I used the Spotipy API. The data used for modeling is described by the following ten audio features:"
   ]
  },
  {
   "cell_type": "markdown",
   "metadata": {},
   "source": [
    "- __Acousticness:__ A measure from 0.0 to 1.0 of whether the track is acoustic.  \n",
    "- __Energy:__ A measure from 0.0 to 1.0 and represents a perceptual measure of intensity and activity. Typically, energetic tracks feel fast, loud, and noisy.  \n",
    "- __Danceability:__ Describes how suitable a track is for dancing based on a combination of musical elements including tempo, rhythm stability, beat strength and overall regularity. A value of 0.0 is least danceable and 1.0 is most danceable.  \n",
    "- __Instrumentalness:__ Predicts whether a track contains no vocals. The closer the instrumentalness value is to 1.0, the greater likelihood the track contains no vocal content.  \n",
    "- __Liveness:__ Detects the presence of an audience in the recording. Higher liveness values represent an increased probability that the track was performed live.  \n",
    "- __Loudness:__ The overall loudness of a track in decibels (dB). Loudness values are averaged across the entire track. Values typical range between -60 and 0 db.  \n",
    "- __Speechiness:__ Detects the presence of spoken words in a track. The more exclusively speech-like the recording (e.g. talkshow, audio book, poetry), the closer to 1.0 the attribute value.  \n",
    "- __Tempo:__ The overall estimated tempo of a track in beats per minute (BPM). In musical terminology, tempo is the speed or pace of a given piece and derives directly from the average beat duration.  \n",
    "- __Valence:__ A measure from 0.0 to 1.0 describing the musical positiveness conveyed by a track. Tracks with high valence sound more positive (e.g. happy, cheerful, euphoric), while tracks with low valence sound more negative (e.g. sad, depressed, angry).  \n",
    "- __Duration:__ The duration of the track in milliseconds.  "
   ]
  },
  {
   "cell_type": "markdown",
   "metadata": {},
   "source": [
    "### 2.1. Data Acquiring"
   ]
  },
  {
   "cell_type": "markdown",
   "metadata": {},
   "source": [
    "[Spotipy](https://spotipy.readthedocs.io/en/latest/#installation) is a lightweight Python library for the Spotify Web API. With Spotipy you get full access to all of the music data provided by the Spotify platform."
   ]
  },
  {
   "cell_type": "markdown",
   "metadata": {},
   "source": [
    "Install missing libraries."
   ]
  },
  {
   "cell_type": "code",
   "execution_count": null,
   "metadata": {},
   "outputs": [],
   "source": [
    "# uncomment for execution\n",
    "#!pip install spotipy\n",
    "#!pip install scikit-plot\n",
    "#!pip install styleframe\n",
    "#!conda install -c conda-forge geopy --yes"
   ]
  },
  {
   "cell_type": "markdown",
   "metadata": {},
   "source": [
    "Import required libraries."
   ]
  },
  {
   "cell_type": "code",
   "execution_count": 1,
   "metadata": {},
   "outputs": [],
   "source": [
    "# data downloading\n",
    "import spotipy\n",
    "import spotipy.util as util\n",
    "import json\n",
    "import requests\n",
    "\n",
    "# data preprocessing\n",
    "import pandas as pd\n",
    "from pandas.io.json import json_normalize\n",
    "import numpy as np\n",
    "\n",
    "# data visualization\n",
    "import matplotlib as mpl\n",
    "import matplotlib.cm as cm\n",
    "import matplotlib.pyplot as plt\n",
    "import matplotlib.colors as colors\n",
    "\n",
    "from matplotlib.ticker import PercentFormatter\n",
    "import seaborn as sns\n",
    "import scikitplot as skplt\n",
    "import folium\n",
    "from geopy.geocoders import Nominatim\n",
    "\n",
    "# data normalization and splitting\n",
    "from sklearn import preprocessing\n",
    "from sklearn.model_selection import train_test_split\n",
    "from sklearn.preprocessing import StandardScaler\n",
    "from sklearn.model_selection import GridSearchCV\n",
    "\n",
    "# metrics\n",
    "from sklearn import metrics\n",
    "from sklearn.metrics import precision_score\n",
    "from sklearn.metrics import recall_score\n",
    "from sklearn.metrics import roc_curve, auc\n",
    "\n",
    "# algorithms\n",
    "from sklearn.neighbors import KNeighborsClassifier\n",
    "from sklearn.linear_model import LogisticRegression\n",
    "from sklearn import svm\n",
    "from sklearn.svm import SVC"
   ]
  },
  {
   "cell_type": "markdown",
   "metadata": {},
   "source": [
    "Declare the functions that are needed for getting the user's Spotify data via Spotipy API."
   ]
  },
  {
   "cell_type": "code",
   "execution_count": 16,
   "metadata": {},
   "outputs": [],
   "source": [
    "def get_spotipy_authorization_tokens():\n",
    "    \"\"\"Read from file authorization tokens needed for making connection to the Spotipy API.\"\"\"\n",
    "    with open('datasets/spotify_authorization.json', 'r') as f:\n",
    "        sp_authorization_tokens = json.load(f)\n",
    "    return sp_authorization_tokens"
   ]
  },
  {
   "cell_type": "code",
   "execution_count": 17,
   "metadata": {},
   "outputs": [],
   "source": [
    "def create_spotipy_connection(authorization_tokens):\n",
    "    \"\"\"\n",
    "    Create connection to Spotipy API.\n",
    "    \n",
    "    :param authorization_tokens: authorization tokens needed for creating connection.\n",
    "    :return: Connection token.\n",
    "    \"\"\"\n",
    "    try:\n",
    "        token = util.prompt_for_user_token(authorization_tokens.get('username'), \n",
    "                                           authorization_tokens.get('scope'),\n",
    "                                           client_id = authorization_tokens.get('client_id'),\n",
    "                                           client_secret = authorization_tokens.get('client_secret'),\n",
    "                                           redirect_uri = authorization_tokens.get('redirect_uri'))\n",
    "        return token\n",
    "    except:\n",
    "        return (\"\")"
   ]
  },
  {
   "cell_type": "code",
   "execution_count": 18,
   "metadata": {},
   "outputs": [],
   "source": [
    "def get_selected_playlists(rating):\n",
    "    \"\"\"\n",
    "    Read playlist names from specified file.\n",
    "    \n",
    "    :param rating: String to distinguish if playlist names are read from liked, disliked or genres playlist files.\n",
    "    :return: List of playlist names.\n",
    "    \"\"\"\n",
    "    if rating == 'GOOD':\n",
    "        selected_playlist = pd.read_csv(\"datasets/liked_playlists.csv\", encoding='utf-8', sep=\"\\t\")    \n",
    "    else:\n",
    "        selected_playlist = pd.read_csv(\"datasets/disliked_playlists.csv\", encoding='utf-8', sep=\"\\t\")\n",
    "    return list(selected_playlist['PLAYLIST_TITLE'])"
   ]
  },
  {
   "cell_type": "code",
   "execution_count": 19,
   "metadata": {},
   "outputs": [],
   "source": [
    "def get_user_playlists():\n",
    "    \"\"\"Returns all playlists for a user who created connection.\"\"\"\n",
    "    total_limit = 100\n",
    "    chunk_limit = 50\n",
    "    offset_ind = 0\n",
    "    user_playlists_dict = {}\n",
    "    \n",
    "    if sp_conn_token:\n",
    "        while offset_ind <= total_limit:\n",
    "            sp = spotipy.Spotify(auth=sp_conn_token)\n",
    "            results = sp.current_user_playlists(limit=chunk_limit, offset=offset_ind)\n",
    "            \n",
    "            for item in results['items']:\n",
    "                user_playlists_dict[item['id']] = item['name']\n",
    "            offset_ind = offset_ind + chunk_limit\n",
    "    else:\n",
    "        print(\"Can't get token for\", username)\n",
    "    return user_playlists_dict"
   ]
  },
  {
   "cell_type": "code",
   "execution_count": 20,
   "metadata": {},
   "outputs": [],
   "source": [
    "def get_playlist_tracks(username, playlist_id, all_tracks):\n",
    "    \"\"\"\n",
    "    Finds musical tracks that are recorded under specified user’s playlist.\n",
    "    \n",
    "    :param username: Username of user who created connection.\n",
    "    :param playlist_id: ID of playlist.\n",
    "    :param all_tracks: Boolean to distinguish if all playlist’s tracks are returned or only the first one.\n",
    "    :return: Dictionary containing the combination of track and artist names.\n",
    "    \"\"\"\n",
    "    total_limit = 500\n",
    "    chunk_limit = 100\n",
    "    offset_ind = 0\n",
    "    playlist_tracks_dict = {}\n",
    "    \n",
    "    if sp_conn_token:\n",
    "        while offset_ind <= total_limit:\n",
    "            sp = spotipy.Spotify(auth=sp_conn_token)\n",
    "            if all_tracks==True:\n",
    "                results = sp.user_playlist_tracks(username, playlist_id, limit=chunk_limit, offset=offset_ind)\n",
    "            else:\n",
    "                results = sp.user_playlist_tracks(username, playlist_id, limit=1, offset=0)\n",
    "            for item in results['items']:\n",
    "                try:\n",
    "                    track = item['track']\n",
    "                    dict_key = track['name'] + ' - ' + track['artists'][0]['name']\n",
    "                    playlist_tracks_dict[dict_key] = {'artist': track['artists'][0]['name'], \n",
    "                                                      'title': track['name']}\n",
    "                except:\n",
    "                    continue\n",
    "            offset_ind = offset_ind + chunk_limit\n",
    "    else:\n",
    "        print(\"Can't get token for\", username)\n",
    "    return playlist_tracks_dict"
   ]
  },
  {
   "cell_type": "code",
   "execution_count": 21,
   "metadata": {},
   "outputs": [],
   "source": [
    "def get_audio_features(tracks_dict):\n",
    "    \"\"\"\n",
    "    Finds audio features that describe musical tracks.\n",
    "    \n",
    "    :param tracks_dict: Dictionary containing the combination of track and artist names.\n",
    "    :return: Dictionary containing combination of track and artist names and their audio features.\n",
    "    \"\"\"\n",
    "    sp = spotipy.Spotify(auth=sp_conn_token)\n",
    "    audio_features_df = pd.DataFrame()\n",
    "    \n",
    "    for dict_key, dict_value in tracks_dict.items():\n",
    "        artist = dict_value.get('artist')\n",
    "        title = dict_value.get('title')\n",
    "        \n",
    "        # find track's URI\n",
    "        tids = []\n",
    "        results = sp.search(q=dict_key, limit=1, offset=0)\n",
    "        for i, t in enumerate(results['tracks']['items']):\n",
    "            tids.append(t['uri'])\n",
    "        \n",
    "        if len(tids) > 0:\n",
    "            # find track's audio features (by track's URI)\n",
    "            a_features = sp.audio_features(tids[0])\n",
    "\n",
    "            # add track's audio features into dataframe\n",
    "            for a_feature in a_features:\n",
    "                tr_df_ind = audio_features_df.shape[0]\n",
    "                audio_features_df = audio_features_df.append(a_feature, ignore_index=True)\n",
    "                audio_features_df.at[tr_df_ind, 'artist'] = artist\n",
    "                audio_features_df.at[tr_df_ind, 'title'] = title\n",
    "    return audio_features_df"
   ]
  },
  {
   "cell_type": "markdown",
   "metadata": {},
   "source": [
    "Create Spotify connection."
   ]
  },
  {
   "cell_type": "code",
   "execution_count": 84,
   "metadata": {},
   "outputs": [
    {
     "name": "stdout",
     "output_type": "stream",
     "text": [
      "Connection created.\n"
     ]
    }
   ],
   "source": [
    "# get authorization tokens\n",
    "sp_authorization_tokens = get_spotipy_authorization_tokens()\n",
    "\n",
    "# create connection\n",
    "sp_conn_token = create_spotipy_connection(sp_authorization_tokens)\n",
    "\n",
    "if len(sp_conn_token) > 0:\n",
    "    print(\"Connection created.\")\n",
    "else:\n",
    "    print(\"No connection found.\")"
   ]
  },
  {
   "cell_type": "markdown",
   "metadata": {},
   "source": [
    "Get all playlists of connected user."
   ]
  },
  {
   "cell_type": "code",
   "execution_count": 312,
   "metadata": {},
   "outputs": [
    {
     "name": "stdout",
     "output_type": "stream",
     "text": [
      "Found 80 playlists.\n"
     ]
    }
   ],
   "source": [
    "# get user's liked and disliked playlist names\n",
    "liked_playlist_names = get_selected_playlists('GOOD')\n",
    "disliked_playlist_names = get_selected_playlists('BAD')\n",
    "\n",
    "# get user's all playlists saved in Spotify\n",
    "user_playlists = get_user_playlists()\n",
    "print('Found '+'{}'.format(len(user_playlists))+' playlists.')"
   ]
  },
  {
   "cell_type": "markdown",
   "metadata": {},
   "source": [
    "Get all tracks contained in playlists."
   ]
  },
  {
   "cell_type": "code",
   "execution_count": 313,
   "metadata": {},
   "outputs": [
    {
     "name": "stdout",
     "output_type": "stream",
     "text": [
      "Found 1656 liked and 2052 disliked songs.\n"
     ]
    }
   ],
   "source": [
    "liked_pl_df = pd.DataFrame()\n",
    "disliked_pl_df = pd.DataFrame()\n",
    "\n",
    "for playlist_id, playlist_name in user_playlists.items():\n",
    "    # check if found playlist contains in liked or disliked playlists and get it's tracks audio features\n",
    "    playlist_tracks = get_playlist_tracks(authorization_tokens.get('username'), playlist_id, True)\n",
    "    \n",
    "    if liked_playlist_names.__contains__(playlist_name):\n",
    "        liked_pl_df = liked_pl_df.append(get_audio_features(playlist_tracks), ignore_index=True, sort=False)\n",
    "    elif disliked_playlist_names.__contains__(playlist_name):\n",
    "        disliked_pl_df = disliked_pl_df.append(get_audio_features(playlist_tracks), ignore_index=True, sort=False)\n",
    "    else:\n",
    "        continue\n",
    "\n",
    "print('Found '+'{}'.format(liked_pl_df.shape[0])+' liked and '+\n",
    "      '{}'.format(disliked_pl_df.shape[0])+' disliked songs.')"
   ]
  },
  {
   "cell_type": "markdown",
   "metadata": {},
   "source": [
    "Label encoding - add 'rating' column to distinguish if a track belongs to a 'GOOD' or a 'BAD' category."
   ]
  },
  {
   "cell_type": "code",
   "execution_count": 314,
   "metadata": {},
   "outputs": [],
   "source": [
    "liked_pl_df['rating'] = \"GOOD\"\n",
    "disliked_pl_df['rating'] = \"BAD\"\n",
    "all_pl_df = pd.DataFrame(liked_pl_df.append(disliked_pl_df))"
   ]
  },
  {
   "cell_type": "markdown",
   "metadata": {},
   "source": [
    "Write the result to a separate file for later use."
   ]
  },
  {
   "cell_type": "code",
   "execution_count": 315,
   "metadata": {},
   "outputs": [
    {
     "name": "stdout",
     "output_type": "stream",
     "text": [
      "3708 rows written into file.\n"
     ]
    },
    {
     "data": {
      "text/html": [
       "<div>\n",
       "<style scoped>\n",
       "    .dataframe tbody tr th:only-of-type {\n",
       "        vertical-align: middle;\n",
       "    }\n",
       "\n",
       "    .dataframe tbody tr th {\n",
       "        vertical-align: top;\n",
       "    }\n",
       "\n",
       "    .dataframe thead th {\n",
       "        text-align: right;\n",
       "    }\n",
       "</style>\n",
       "<table border=\"1\" class=\"dataframe\">\n",
       "  <thead>\n",
       "    <tr style=\"text-align: right;\">\n",
       "      <th></th>\n",
       "      <th>acousticness</th>\n",
       "      <th>analysis_url</th>\n",
       "      <th>danceability</th>\n",
       "      <th>duration_ms</th>\n",
       "      <th>energy</th>\n",
       "      <th>id</th>\n",
       "      <th>instrumentalness</th>\n",
       "      <th>key</th>\n",
       "      <th>liveness</th>\n",
       "      <th>loudness</th>\n",
       "      <th>...</th>\n",
       "      <th>speechiness</th>\n",
       "      <th>tempo</th>\n",
       "      <th>time_signature</th>\n",
       "      <th>track_href</th>\n",
       "      <th>type</th>\n",
       "      <th>uri</th>\n",
       "      <th>valence</th>\n",
       "      <th>artist</th>\n",
       "      <th>title</th>\n",
       "      <th>rating</th>\n",
       "    </tr>\n",
       "  </thead>\n",
       "  <tbody>\n",
       "    <tr>\n",
       "      <th>0</th>\n",
       "      <td>0.962</td>\n",
       "      <td>https://api.spotify.com/v1/audio-analysis/5Z0y...</td>\n",
       "      <td>0.802</td>\n",
       "      <td>220507.0</td>\n",
       "      <td>0.101</td>\n",
       "      <td>5Z0yP7nqSVpedq48IqLZC2</td>\n",
       "      <td>0.0</td>\n",
       "      <td>9.0</td>\n",
       "      <td>0.103</td>\n",
       "      <td>-13.208</td>\n",
       "      <td>...</td>\n",
       "      <td>0.0407</td>\n",
       "      <td>109.029</td>\n",
       "      <td>4.0</td>\n",
       "      <td>https://api.spotify.com/v1/tracks/5Z0yP7nqSVpe...</td>\n",
       "      <td>audio_features</td>\n",
       "      <td>spotify:track:5Z0yP7nqSVpedq48IqLZC2</td>\n",
       "      <td>0.370</td>\n",
       "      <td>Adele</td>\n",
       "      <td>Daydreamer</td>\n",
       "      <td>GOOD</td>\n",
       "    </tr>\n",
       "    <tr>\n",
       "      <th>1</th>\n",
       "      <td>0.675</td>\n",
       "      <td>https://api.spotify.com/v1/audio-analysis/0oaJ...</td>\n",
       "      <td>0.577</td>\n",
       "      <td>258507.0</td>\n",
       "      <td>0.317</td>\n",
       "      <td>0oaJJUIvKpy7xHPEPr5q7Y</td>\n",
       "      <td>0.0</td>\n",
       "      <td>4.0</td>\n",
       "      <td>0.107</td>\n",
       "      <td>-10.935</td>\n",
       "      <td>...</td>\n",
       "      <td>0.2800</td>\n",
       "      <td>92.184</td>\n",
       "      <td>4.0</td>\n",
       "      <td>https://api.spotify.com/v1/tracks/0oaJJUIvKpy7...</td>\n",
       "      <td>audio_features</td>\n",
       "      <td>spotify:track:0oaJJUIvKpy7xHPEPr5q7Y</td>\n",
       "      <td>0.602</td>\n",
       "      <td>Adele</td>\n",
       "      <td>Best for Last</td>\n",
       "      <td>GOOD</td>\n",
       "    </tr>\n",
       "    <tr>\n",
       "      <th>2</th>\n",
       "      <td>0.318</td>\n",
       "      <td>https://api.spotify.com/v1/audio-analysis/2OuN...</td>\n",
       "      <td>0.614</td>\n",
       "      <td>210507.0</td>\n",
       "      <td>0.471</td>\n",
       "      <td>2OuNgtXKeCSORKqdl0MxKk</td>\n",
       "      <td>0.0</td>\n",
       "      <td>5.0</td>\n",
       "      <td>0.110</td>\n",
       "      <td>-6.087</td>\n",
       "      <td>...</td>\n",
       "      <td>0.0256</td>\n",
       "      <td>80.024</td>\n",
       "      <td>4.0</td>\n",
       "      <td>https://api.spotify.com/v1/tracks/2OuNgtXKeCSO...</td>\n",
       "      <td>audio_features</td>\n",
       "      <td>spotify:track:2OuNgtXKeCSORKqdl0MxKk</td>\n",
       "      <td>0.320</td>\n",
       "      <td>Adele</td>\n",
       "      <td>Chasing Pavements</td>\n",
       "      <td>GOOD</td>\n",
       "    </tr>\n",
       "  </tbody>\n",
       "</table>\n",
       "<p>3 rows × 21 columns</p>\n",
       "</div>"
      ],
      "text/plain": [
       "   acousticness                                       analysis_url  \\\n",
       "0         0.962  https://api.spotify.com/v1/audio-analysis/5Z0y...   \n",
       "1         0.675  https://api.spotify.com/v1/audio-analysis/0oaJ...   \n",
       "2         0.318  https://api.spotify.com/v1/audio-analysis/2OuN...   \n",
       "\n",
       "   danceability  duration_ms  energy                      id  \\\n",
       "0         0.802     220507.0   0.101  5Z0yP7nqSVpedq48IqLZC2   \n",
       "1         0.577     258507.0   0.317  0oaJJUIvKpy7xHPEPr5q7Y   \n",
       "2         0.614     210507.0   0.471  2OuNgtXKeCSORKqdl0MxKk   \n",
       "\n",
       "   instrumentalness  key  liveness  loudness  ...  speechiness    tempo  \\\n",
       "0               0.0  9.0     0.103   -13.208  ...       0.0407  109.029   \n",
       "1               0.0  4.0     0.107   -10.935  ...       0.2800   92.184   \n",
       "2               0.0  5.0     0.110    -6.087  ...       0.0256   80.024   \n",
       "\n",
       "   time_signature                                         track_href  \\\n",
       "0             4.0  https://api.spotify.com/v1/tracks/5Z0yP7nqSVpe...   \n",
       "1             4.0  https://api.spotify.com/v1/tracks/0oaJJUIvKpy7...   \n",
       "2             4.0  https://api.spotify.com/v1/tracks/2OuNgtXKeCSO...   \n",
       "\n",
       "             type                                   uri valence  artist  \\\n",
       "0  audio_features  spotify:track:5Z0yP7nqSVpedq48IqLZC2   0.370   Adele   \n",
       "1  audio_features  spotify:track:0oaJJUIvKpy7xHPEPr5q7Y   0.602   Adele   \n",
       "2  audio_features  spotify:track:2OuNgtXKeCSORKqdl0MxKk   0.320   Adele   \n",
       "\n",
       "               title rating  \n",
       "0         Daydreamer   GOOD  \n",
       "1      Best for Last   GOOD  \n",
       "2  Chasing Pavements   GOOD  \n",
       "\n",
       "[3 rows x 21 columns]"
      ]
     },
     "metadata": {},
     "output_type": "display_data"
    }
   ],
   "source": [
    "# write result to separate file for later use\n",
    "all_pl_df.to_csv(\"datasets/sp_modeling_dataset.csv\", sep='\\t',index=False, encoding='utf-8')\n",
    "\n",
    "# display first rows of constructed dataframe\n",
    "print('{}'.format(all_pl_df.shape[0])+' rows written into file.')\n",
    "display(all_pl_df.head(3))"
   ]
  },
  {
   "cell_type": "markdown",
   "metadata": {},
   "source": [
    "### 2.2. Data Cleaning and Preparation"
   ]
  },
  {
   "cell_type": "markdown",
   "metadata": {},
   "source": [
    "Before more detailed analysis the data needs to be [cleaned](https://en.wikipedia.org/wiki/Data_cleansing) and transformed to suitable format. The process of data cleaning typically involves tasks like removing duplicate rows, checking missing values, converting data values to another format etc."
   ]
  },
  {
   "cell_type": "markdown",
   "metadata": {},
   "source": [
    "Declare the function for data cleaning."
   ]
  },
  {
   "cell_type": "code",
   "execution_count": 32,
   "metadata": {},
   "outputs": [],
   "source": [
    "def clean_df(input_df, is_evaluation_df):\n",
    "    \"\"\"\n",
    "    Detects and corrects corrupt records and redundant datafields from dataframe.\n",
    "    \n",
    "    :param input_df: Dataframe which needs to be cleaned.\n",
    "    :param is_test_df: Boolean to distinguish training and testing data sets.\n",
    "    :return: Cleaned dataframe.\n",
    "    \"\"\"\n",
    "    # remove duplicate rows\n",
    "    duplicate_rows = len(input_df[input_df.duplicated()])\n",
    "    if duplicate_rows > 0:\n",
    "        input_df = input_df[~input_df.duplicated()]\n",
    "        input_df = input_df.reset_index(drop=True)\n",
    "\n",
    "    print('{}'.format(duplicate_rows)+' duplicate rows removed.')\n",
    "    \n",
    "    # if any NA values are present, drop that row\n",
    "    input_df.dropna(how='any', axis='rows', inplace=True)\n",
    "    \n",
    "    # select only columns that are needed in analysis and show 'artist' and 'title' columns before others\n",
    "    if is_evaluation_df:\n",
    "        input_df = input_df.loc[:, ('genre', 'artist', 'title', 'acousticness', 'danceability',\n",
    "                                    'duration_ms', 'energy', 'instrumentalness', 'liveness', 'loudness',\n",
    "                                    'speechiness', 'tempo', 'valence', 'actual_rating')]\n",
    "    else:\n",
    "        input_df = input_df.loc[:, ('artist', 'title', 'acousticness', 'danceability', 'duration_ms',\n",
    "                                    'energy', 'instrumentalness', 'liveness', 'loudness', 'speechiness',\n",
    "                                    'tempo', 'valence', 'rating')]\n",
    "    \n",
    "    # convert column names to upper case\n",
    "    input_df.columns = map(str.upper, input_df.columns)\n",
    "    \n",
    "    # rename column names to more usable form\n",
    "    input_df.rename(columns={'ACOUSTICNESS':'ACOUSTIC', 'DANCEABILITY':'DANCE', 'DURATION_MS':'DURATION',\n",
    "                             'INSTRUMENTALNESS':'INSTRUMENTAL', 'LIVENESS':'LIVE', 'LOUDNESS':'LOUD', \n",
    "                             'SPEECHINESS':'SPEECH'}, inplace=True)\n",
    "    \n",
    "    # check if all rows in 'LOUD' column have negative values and if so convert them to positive (for Exploratory Data Analysis)\n",
    "    max_loud_value = max(input_df['LOUD'])\n",
    "    if max_loud_value < 0:\n",
    "        input_df['LOUD'] = abs(input_df['LOUD'])\n",
    "    \n",
    "    return input_df"
   ]
  },
  {
   "cell_type": "markdown",
   "metadata": {},
   "source": [
    "Load datafile created in previous chapter into dataframe."
   ]
  },
  {
   "cell_type": "code",
   "execution_count": 33,
   "metadata": {},
   "outputs": [
    {
     "name": "stdout",
     "output_type": "stream",
     "text": [
      "(3708, 21)\n"
     ]
    }
   ],
   "source": [
    "cleaned_df = pd.read_csv(\"datasets/sp_modeling_dataset.csv\",\n",
    "                         encoding='utf-8',\n",
    "                         sep=\"\\t\",\n",
    "                         thousands=\",\")\n",
    "print(cleaned_df.shape)"
   ]
  },
  {
   "cell_type": "markdown",
   "metadata": {},
   "source": [
    "Check if there are corrupt records and redundant datafields in dataframe."
   ]
  },
  {
   "cell_type": "code",
   "execution_count": 34,
   "metadata": {},
   "outputs": [
    {
     "name": "stdout",
     "output_type": "stream",
     "text": [
      "82 duplicate rows removed.\n"
     ]
    },
    {
     "data": {
      "text/html": [
       "<div>\n",
       "<style scoped>\n",
       "    .dataframe tbody tr th:only-of-type {\n",
       "        vertical-align: middle;\n",
       "    }\n",
       "\n",
       "    .dataframe tbody tr th {\n",
       "        vertical-align: top;\n",
       "    }\n",
       "\n",
       "    .dataframe thead th {\n",
       "        text-align: right;\n",
       "    }\n",
       "</style>\n",
       "<table border=\"1\" class=\"dataframe\">\n",
       "  <thead>\n",
       "    <tr style=\"text-align: right;\">\n",
       "      <th></th>\n",
       "      <th>ARTIST</th>\n",
       "      <th>TITLE</th>\n",
       "      <th>ACOUSTIC</th>\n",
       "      <th>DANCE</th>\n",
       "      <th>DURATION</th>\n",
       "      <th>ENERGY</th>\n",
       "      <th>INSTRUMENTAL</th>\n",
       "      <th>LIVE</th>\n",
       "      <th>LOUD</th>\n",
       "      <th>SPEECH</th>\n",
       "      <th>TEMPO</th>\n",
       "      <th>VALENCE</th>\n",
       "      <th>RATING</th>\n",
       "    </tr>\n",
       "  </thead>\n",
       "  <tbody>\n",
       "    <tr>\n",
       "      <th>0</th>\n",
       "      <td>Adele</td>\n",
       "      <td>Daydreamer</td>\n",
       "      <td>0.962</td>\n",
       "      <td>0.802</td>\n",
       "      <td>220507.0</td>\n",
       "      <td>0.101</td>\n",
       "      <td>0.0</td>\n",
       "      <td>0.103</td>\n",
       "      <td>13.208</td>\n",
       "      <td>0.0407</td>\n",
       "      <td>109.029</td>\n",
       "      <td>0.370</td>\n",
       "      <td>GOOD</td>\n",
       "    </tr>\n",
       "    <tr>\n",
       "      <th>1</th>\n",
       "      <td>Adele</td>\n",
       "      <td>Best for Last</td>\n",
       "      <td>0.675</td>\n",
       "      <td>0.577</td>\n",
       "      <td>258507.0</td>\n",
       "      <td>0.317</td>\n",
       "      <td>0.0</td>\n",
       "      <td>0.107</td>\n",
       "      <td>10.935</td>\n",
       "      <td>0.2800</td>\n",
       "      <td>92.184</td>\n",
       "      <td>0.602</td>\n",
       "      <td>GOOD</td>\n",
       "    </tr>\n",
       "    <tr>\n",
       "      <th>2</th>\n",
       "      <td>Adele</td>\n",
       "      <td>Chasing Pavements</td>\n",
       "      <td>0.318</td>\n",
       "      <td>0.614</td>\n",
       "      <td>210507.0</td>\n",
       "      <td>0.471</td>\n",
       "      <td>0.0</td>\n",
       "      <td>0.110</td>\n",
       "      <td>6.087</td>\n",
       "      <td>0.0256</td>\n",
       "      <td>80.024</td>\n",
       "      <td>0.320</td>\n",
       "      <td>GOOD</td>\n",
       "    </tr>\n",
       "  </tbody>\n",
       "</table>\n",
       "</div>"
      ],
      "text/plain": [
       "  ARTIST              TITLE  ACOUSTIC  DANCE  DURATION  ENERGY  INSTRUMENTAL  \\\n",
       "0  Adele         Daydreamer     0.962  0.802  220507.0   0.101           0.0   \n",
       "1  Adele      Best for Last     0.675  0.577  258507.0   0.317           0.0   \n",
       "2  Adele  Chasing Pavements     0.318  0.614  210507.0   0.471           0.0   \n",
       "\n",
       "    LIVE    LOUD  SPEECH    TEMPO  VALENCE RATING  \n",
       "0  0.103  13.208  0.0407  109.029    0.370   GOOD  \n",
       "1  0.107  10.935  0.2800   92.184    0.602   GOOD  \n",
       "2  0.110   6.087  0.0256   80.024    0.320   GOOD  "
      ]
     },
     "metadata": {},
     "output_type": "display_data"
    },
    {
     "data": {
      "text/plain": [
       "(3620, 13)"
      ]
     },
     "execution_count": 34,
     "metadata": {},
     "output_type": "execute_result"
    }
   ],
   "source": [
    "cleaned_df = clean_df(cleaned_df, False)\n",
    "display(cleaned_df.head(3))\n",
    "cleaned_df.shape"
   ]
  },
  {
   "cell_type": "markdown",
   "metadata": {},
   "source": [
    "Write the result to a separate file for later use."
   ]
  },
  {
   "cell_type": "code",
   "execution_count": 35,
   "metadata": {},
   "outputs": [],
   "source": [
    "cleaned_df.to_csv(\"datasets/sp_modeling_dataset_cleaned.csv\", \n",
    "                  sep='\\t', \n",
    "                  index=False,\n",
    "                  encoding='utf-8')"
   ]
  },
  {
   "cell_type": "markdown",
   "metadata": {},
   "source": [
    "## 3. Methodology"
   ]
  },
  {
   "cell_type": "markdown",
   "metadata": {},
   "source": [
    "### 3.1. Exploratory Data Analysis"
   ]
  },
  {
   "cell_type": "markdown",
   "metadata": {},
   "source": [
    "[Exploratory Data Analysis](https://en.wikipedia.org/wiki/Exploratory_data_analysis) is a good way to get more insight how data features are related to each other and which one could have more influence on the modeling result. I have chosen the part of graphical representation in EDA-s analysis techniques to compare how liked and disliked songs differ depending on user’s ratings. "
   ]
  },
  {
   "cell_type": "markdown",
   "metadata": {},
   "source": [
    "Load datafile created in previous chapter into dataframe."
   ]
  },
  {
   "cell_type": "code",
   "execution_count": 36,
   "metadata": {},
   "outputs": [],
   "source": [
    "features_df = pd.read_csv(\"datasets/sp_modeling_dataset_cleaned.csv\", \n",
    "                          encoding='utf-8',\n",
    "                          sep=\"\\t\", \n",
    "                          thousands=\",\")"
   ]
  },
  {
   "cell_type": "markdown",
   "metadata": {},
   "source": [
    "Calculate how many liked and disliked songs are there in the dataframe."
   ]
  },
  {
   "cell_type": "code",
   "execution_count": 37,
   "metadata": {},
   "outputs": [
    {
     "name": "stdout",
     "output_type": "stream",
     "text": [
      "Number of liked songs in dataframe: 1612\n",
      "Number of disliked songs in dataframe: 2008\n"
     ]
    }
   ],
   "source": [
    "liked_songs_count = features_df[features_df['RATING']=='GOOD'].shape[0]\n",
    "print('Number of liked songs in dataframe: '+'{}'.format(liked_songs_count))\n",
    "\n",
    "disliked_songs_count = features_df[features_df['RATING']=='BAD'].shape[0]\n",
    "print('Number of disliked songs in dataframe: '+'{}'.format(disliked_songs_count))"
   ]
  },
  {
   "cell_type": "markdown",
   "metadata": {},
   "source": [
    "For better understanding how liked and disliked songs differ depending on ratings, let's compare them in more detail."
   ]
  },
  {
   "cell_type": "code",
   "execution_count": 38,
   "metadata": {},
   "outputs": [
    {
     "data": {
      "image/png": "[encoded data removed]",
      "text/plain": [
       "<Figure size 432x216 with 2 Axes>"
      ]
     },
     "metadata": {},
     "output_type": "display_data"
    },
    {
     "data": {
      "image/png": "[encoded data removed]",
      "text/plain": [
       "<Figure size 432x216 with 2 Axes>"
      ]
     },
     "metadata": {},
     "output_type": "display_data"
    },
    {
     "data": {
      "image/png": "[encoded data removed]",
      "text/plain": [
       "<Figure size 432x216 with 2 Axes>"
      ]
     },
     "metadata": {},
     "output_type": "display_data"
    },
    {
     "data": {
      "image/png": "[encoded data removed]",
      "text/plain": [
       "<Figure size 432x216 with 2 Axes>"
      ]
     },
     "metadata": {},
     "output_type": "display_data"
    },
    {
     "data": {
      "image/png": "[encoded data removed]",
      "text/plain": [
       "<Figure size 432x216 with 2 Axes>"
      ]
     },
     "metadata": {},
     "output_type": "display_data"
    },
    {
     "data": {
      "image/png": "[encoded data removed]",
      "text/plain": [
       "<Figure size 432x216 with 2 Axes>"
      ]
     },
     "metadata": {},
     "output_type": "display_data"
    },
    {
     "data": {
      "image/png": "[encoded data removed]",
      "text/plain": [
       "<Figure size 432x216 with 2 Axes>"
      ]
     },
     "metadata": {},
     "output_type": "display_data"
    },
    {
     "data": {
      "image/png": "[encoded data removed]",
      "text/plain": [
       "<Figure size 432x216 with 2 Axes>"
      ]
     },
     "metadata": {},
     "output_type": "display_data"
    },
    {
     "data": {
      "image/png": "[encoded data removed]",
      "text/plain": [
       "<Figure size 432x216 with 2 Axes>"
      ]
     },
     "metadata": {},
     "output_type": "display_data"
    },
    {
     "data": {
      "image/png": "[encoded data removed]",
      "text/plain": [
       "<Figure size 432x216 with 2 Axes>"
      ]
     },
     "metadata": {},
     "output_type": "display_data"
    }
   ],
   "source": [
    "# construct Seaborn FacetGrid chart and compare how each data feature differ depending on ratings\n",
    "sns.set(style=\"darkgrid\")\n",
    "for audio_feature in ['ACOUSTIC', 'DANCE', 'DURATION', 'ENERGY', 'INSTRUMENTAL', 'LIVE', 'LOUD', 'SPEECH', 'TEMPO', 'VALENCE']:\n",
    "    count, bin_edges = np.histogram(features_df[audio_feature])\n",
    "    g = sns.FacetGrid(features_df, col='RATING')\n",
    "    g.map(plt.hist, audio_feature, color=\"steelblue\", bins=bin_edges)\n",
    "    plt.show()"
   ]
  },
  {
   "cell_type": "markdown",
   "metadata": {},
   "source": [
    "Looking at the distributions of each feature, there are clear distinctions between my liked and disliked songs, especially in the ENERGY, DANCE, LOUD, and ACOUSTIC features.\n",
    "\n",
    "- __Acoustic:__ I don’t like songs that are not acoustic at all.  \n",
    "- __Dance:__ I prefer songs that are moderately danceable.  \n",
    "- __Energy, Loud, Tempo:__ I prefer songs that are less energetic, fast and loud.  \n",
    "- __Valence:__ I don't like songs that have little valence but the distribution of values in valence rate is quite equal.  "
   ]
  },
  {
   "cell_type": "markdown",
   "metadata": {},
   "source": [
    "### 3.2. Feature Selection"
   ]
  },
  {
   "cell_type": "markdown",
   "metadata": {},
   "source": [
    "[Feature selection](https://en.wikipedia.org/wiki/Feature_selection) is the process of selecting a subset of relevant features for use in model construction. As it turned out in previous chapter some audio features differed in greater extent over ratings that others. For this reason, only these audio features should be selected for later modeling. But as it turned out in later testing it didn't have any remarkable impact for prediction accuracy. Therefore, all audio features\n",
    "are included for modeling.  \n",
    "\n",
    "Declare the function for feature extraction."
   ]
  },
  {
   "cell_type": "code",
   "execution_count": 39,
   "metadata": {},
   "outputs": [],
   "source": [
    "def extract_features(input_df):\n",
    "    \"\"\"\n",
    "    Extracts specified features from dataframe.\n",
    "    \n",
    "    :param input_df: Dataframe which needs to be extracted.\n",
    "    :return: Dataframe which contains extracted features.\n",
    "    \"\"\"\n",
    "    extracted_features_df = input_df[['ACOUSTIC', 'DANCE', 'DURATION', 'ENERGY', 'INSTRUMENTAL',\n",
    "                                      'LIVE', 'LOUD', 'SPEECH', 'TEMPO', 'VALENCE']]\n",
    "    return extracted_features_df"
   ]
  },
  {
   "cell_type": "markdown",
   "metadata": {},
   "source": [
    "Extract the independent data features for modeling."
   ]
  },
  {
   "cell_type": "code",
   "execution_count": 40,
   "metadata": {},
   "outputs": [
    {
     "data": {
      "text/html": [
       "<div>\n",
       "<style scoped>\n",
       "    .dataframe tbody tr th:only-of-type {\n",
       "        vertical-align: middle;\n",
       "    }\n",
       "\n",
       "    .dataframe tbody tr th {\n",
       "        vertical-align: top;\n",
       "    }\n",
       "\n",
       "    .dataframe thead th {\n",
       "        text-align: right;\n",
       "    }\n",
       "</style>\n",
       "<table border=\"1\" class=\"dataframe\">\n",
       "  <thead>\n",
       "    <tr style=\"text-align: right;\">\n",
       "      <th></th>\n",
       "      <th>ACOUSTIC</th>\n",
       "      <th>DANCE</th>\n",
       "      <th>DURATION</th>\n",
       "      <th>ENERGY</th>\n",
       "      <th>INSTRUMENTAL</th>\n",
       "      <th>LIVE</th>\n",
       "      <th>LOUD</th>\n",
       "      <th>SPEECH</th>\n",
       "      <th>TEMPO</th>\n",
       "      <th>VALENCE</th>\n",
       "    </tr>\n",
       "  </thead>\n",
       "  <tbody>\n",
       "    <tr>\n",
       "      <th>0</th>\n",
       "      <td>0.962</td>\n",
       "      <td>0.802</td>\n",
       "      <td>220507.0</td>\n",
       "      <td>0.101</td>\n",
       "      <td>0.0</td>\n",
       "      <td>0.103</td>\n",
       "      <td>13.208</td>\n",
       "      <td>0.0407</td>\n",
       "      <td>109.029</td>\n",
       "      <td>0.370</td>\n",
       "    </tr>\n",
       "    <tr>\n",
       "      <th>1</th>\n",
       "      <td>0.675</td>\n",
       "      <td>0.577</td>\n",
       "      <td>258507.0</td>\n",
       "      <td>0.317</td>\n",
       "      <td>0.0</td>\n",
       "      <td>0.107</td>\n",
       "      <td>10.935</td>\n",
       "      <td>0.2800</td>\n",
       "      <td>92.184</td>\n",
       "      <td>0.602</td>\n",
       "    </tr>\n",
       "    <tr>\n",
       "      <th>2</th>\n",
       "      <td>0.318</td>\n",
       "      <td>0.614</td>\n",
       "      <td>210507.0</td>\n",
       "      <td>0.471</td>\n",
       "      <td>0.0</td>\n",
       "      <td>0.110</td>\n",
       "      <td>6.087</td>\n",
       "      <td>0.0256</td>\n",
       "      <td>80.024</td>\n",
       "      <td>0.320</td>\n",
       "    </tr>\n",
       "  </tbody>\n",
       "</table>\n",
       "</div>"
      ],
      "text/plain": [
       "   ACOUSTIC  DANCE  DURATION  ENERGY  INSTRUMENTAL   LIVE    LOUD  SPEECH  \\\n",
       "0     0.962  0.802  220507.0   0.101           0.0  0.103  13.208  0.0407   \n",
       "1     0.675  0.577  258507.0   0.317           0.0  0.107  10.935  0.2800   \n",
       "2     0.318  0.614  210507.0   0.471           0.0  0.110   6.087  0.0256   \n",
       "\n",
       "     TEMPO  VALENCE  \n",
       "0  109.029    0.370  \n",
       "1   92.184    0.602  \n",
       "2   80.024    0.320  "
      ]
     },
     "execution_count": 40,
     "metadata": {},
     "output_type": "execute_result"
    }
   ],
   "source": [
    "X_features_df = extract_features(features_df)\n",
    "X_features_df.head(3)"
   ]
  },
  {
   "cell_type": "markdown",
   "metadata": {},
   "source": [
    "Extract the dependent data feature for modeling."
   ]
  },
  {
   "cell_type": "code",
   "execution_count": 41,
   "metadata": {},
   "outputs": [
    {
     "data": {
      "text/html": [
       "<div>\n",
       "<style scoped>\n",
       "    .dataframe tbody tr th:only-of-type {\n",
       "        vertical-align: middle;\n",
       "    }\n",
       "\n",
       "    .dataframe tbody tr th {\n",
       "        vertical-align: top;\n",
       "    }\n",
       "\n",
       "    .dataframe thead th {\n",
       "        text-align: right;\n",
       "    }\n",
       "</style>\n",
       "<table border=\"1\" class=\"dataframe\">\n",
       "  <thead>\n",
       "    <tr style=\"text-align: right;\">\n",
       "      <th></th>\n",
       "      <th>RATING</th>\n",
       "    </tr>\n",
       "  </thead>\n",
       "  <tbody>\n",
       "    <tr>\n",
       "      <th>0</th>\n",
       "      <td>GOOD</td>\n",
       "    </tr>\n",
       "    <tr>\n",
       "      <th>1</th>\n",
       "      <td>GOOD</td>\n",
       "    </tr>\n",
       "    <tr>\n",
       "      <th>2</th>\n",
       "      <td>GOOD</td>\n",
       "    </tr>\n",
       "  </tbody>\n",
       "</table>\n",
       "</div>"
      ],
      "text/plain": [
       "  RATING\n",
       "0   GOOD\n",
       "1   GOOD\n",
       "2   GOOD"
      ]
     },
     "execution_count": 41,
     "metadata": {},
     "output_type": "execute_result"
    }
   ],
   "source": [
    "Y_feature_df = features_df[['RATING']]\n",
    "Y_feature_df.head(3)"
   ]
  },
  {
   "cell_type": "markdown",
   "metadata": {},
   "source": [
    "### 3.3. Data Splitting and Normalization"
   ]
  },
  {
   "cell_type": "markdown",
   "metadata": {},
   "source": [
    "[Splitting the data](https://developers.google.com/machine-learning/crash-course/validation/video-lecture) into a training and test set helps to judge whether a given model will generalize well to new data."
   ]
  },
  {
   "cell_type": "markdown",
   "metadata": {},
   "source": [
    "<img src=\"images/WorkflowWithTestSet.png\" width=\"500\" align=\"left\">"
   ]
  },
  {
   "cell_type": "markdown",
   "metadata": {},
   "source": [
    "Split the data set into training and testing parts."
   ]
  },
  {
   "cell_type": "code",
   "execution_count": 42,
   "metadata": {},
   "outputs": [
    {
     "name": "stdout",
     "output_type": "stream",
     "text": [
      "Train set: (2896, 10) (2896, 1)\n",
      "Test set: (724, 10) (724, 1)\n"
     ]
    }
   ],
   "source": [
    "x_train, x_test, y_train, y_test = train_test_split(X_features_df, Y_feature_df, test_size=0.20, random_state=4)\n",
    "\n",
    "print('Train set: '+'{} {}'.format(x_train.shape, y_train.shape))\n",
    "print('Test set: '+'{} {}'.format(x_test.shape, y_test.shape))"
   ]
  },
  {
   "cell_type": "markdown",
   "metadata": {},
   "source": [
    "[Data Normalization](https://blog.umetrics.com/why-preprocesing-data-creates-better-data-analytics-models) is a process of transforming values of several variables __into a similar range__. It is needed for mathematical-based algorithms to interpret variables with different magnitudes and distributions equally. Normalization gives the data __zero mean__ and __unit variance__ and is calculated by subtracting from each datapoint their mean value and then dividing by the variance.\n",
    "\n",
    "<img src=\"images/normalization.png\" align=\"left\">"
   ]
  },
  {
   "cell_type": "markdown",
   "metadata": {},
   "source": [
    "To avoid __Data Leakage__, it is important to remember that normalization should be carried out after splitting the data into training and testing sets. Data leakage means that information from outside the training data is used to create the model. Testing data should be unseen and accessible at the training stage. If the mean and variance is calculated from the whole data set then the future information is introduced to the training variables."
   ]
  },
  {
   "cell_type": "markdown",
   "metadata": {},
   "source": [
    "In normalization, the [sklearn.preprocessing.StandardScaler](https://scikit-learn.org/stable/modules/generated/sklearn.preprocessing.StandardScaler.html) package was used. The formula by which the standard score of a sample x is calculated is the following: \n",
    "\n",
    "__z = (x - u) / s__, where u is the mean of the training samples and s is the standard deviation of the training samples."
   ]
  },
  {
   "cell_type": "markdown",
   "metadata": {},
   "source": [
    "Declare the function for data normalization."
   ]
  },
  {
   "cell_type": "code",
   "execution_count": 43,
   "metadata": {},
   "outputs": [],
   "source": [
    "def normalize_data(input_df):\n",
    "    \"\"\"\n",
    "    Normalizes all values in dataframe.\n",
    "    \n",
    "    :param input_df: Dataframe to be normalized.\n",
    "    :return: Normalized dataframe.\n",
    "    \"\"\"\n",
    "    normalized_df = pd.DataFrame(StandardScaler().fit_transform(input_df), columns = input_df.columns)\n",
    "    return normalized_df"
   ]
  },
  {
   "cell_type": "markdown",
   "metadata": {},
   "source": [
    "Normalize audio features for training data set."
   ]
  },
  {
   "cell_type": "code",
   "execution_count": 44,
   "metadata": {},
   "outputs": [
    {
     "data": {
      "text/html": [
       "<div>\n",
       "<style scoped>\n",
       "    .dataframe tbody tr th:only-of-type {\n",
       "        vertical-align: middle;\n",
       "    }\n",
       "\n",
       "    .dataframe tbody tr th {\n",
       "        vertical-align: top;\n",
       "    }\n",
       "\n",
       "    .dataframe thead th {\n",
       "        text-align: right;\n",
       "    }\n",
       "</style>\n",
       "<table border=\"1\" class=\"dataframe\">\n",
       "  <thead>\n",
       "    <tr style=\"text-align: right;\">\n",
       "      <th></th>\n",
       "      <th>ACOUSTIC</th>\n",
       "      <th>DANCE</th>\n",
       "      <th>DURATION</th>\n",
       "      <th>ENERGY</th>\n",
       "      <th>INSTRUMENTAL</th>\n",
       "      <th>LIVE</th>\n",
       "      <th>LOUD</th>\n",
       "      <th>SPEECH</th>\n",
       "      <th>TEMPO</th>\n",
       "      <th>VALENCE</th>\n",
       "    </tr>\n",
       "  </thead>\n",
       "  <tbody>\n",
       "    <tr>\n",
       "      <th>0</th>\n",
       "      <td>-0.705768</td>\n",
       "      <td>-1.983439</td>\n",
       "      <td>1.104880</td>\n",
       "      <td>0.949050</td>\n",
       "      <td>-0.393894</td>\n",
       "      <td>2.925918</td>\n",
       "      <td>-0.791645</td>\n",
       "      <td>-0.506682</td>\n",
       "      <td>-1.467003</td>\n",
       "      <td>-0.027716</td>\n",
       "    </tr>\n",
       "    <tr>\n",
       "      <th>1</th>\n",
       "      <td>0.281826</td>\n",
       "      <td>0.813724</td>\n",
       "      <td>-0.304712</td>\n",
       "      <td>-0.285565</td>\n",
       "      <td>-0.559277</td>\n",
       "      <td>-0.789725</td>\n",
       "      <td>0.790116</td>\n",
       "      <td>-0.661744</td>\n",
       "      <td>-0.104507</td>\n",
       "      <td>1.904277</td>\n",
       "    </tr>\n",
       "    <tr>\n",
       "      <th>2</th>\n",
       "      <td>2.207462</td>\n",
       "      <td>0.049768</td>\n",
       "      <td>-1.011505</td>\n",
       "      <td>-1.965888</td>\n",
       "      <td>-0.562119</td>\n",
       "      <td>0.425301</td>\n",
       "      <td>1.115622</td>\n",
       "      <td>-0.393671</td>\n",
       "      <td>1.384146</td>\n",
       "      <td>0.873340</td>\n",
       "    </tr>\n",
       "  </tbody>\n",
       "</table>\n",
       "</div>"
      ],
      "text/plain": [
       "   ACOUSTIC     DANCE  DURATION    ENERGY  INSTRUMENTAL      LIVE      LOUD  \\\n",
       "0 -0.705768 -1.983439  1.104880  0.949050     -0.393894  2.925918 -0.791645   \n",
       "1  0.281826  0.813724 -0.304712 -0.285565     -0.559277 -0.789725  0.790116   \n",
       "2  2.207462  0.049768 -1.011505 -1.965888     -0.562119  0.425301  1.115622   \n",
       "\n",
       "     SPEECH     TEMPO   VALENCE  \n",
       "0 -0.506682 -1.467003 -0.027716  \n",
       "1 -0.661744 -0.104507  1.904277  \n",
       "2 -0.393671  1.384146  0.873340  "
      ]
     },
     "execution_count": 44,
     "metadata": {},
     "output_type": "execute_result"
    }
   ],
   "source": [
    "normalized_x_train = normalize_data(x_train)\n",
    "normalized_x_train.head(3)"
   ]
  },
  {
   "cell_type": "markdown",
   "metadata": {},
   "source": [
    "Normalize audio features for testing data set."
   ]
  },
  {
   "cell_type": "code",
   "execution_count": 45,
   "metadata": {},
   "outputs": [
    {
     "data": {
      "text/html": [
       "<div>\n",
       "<style scoped>\n",
       "    .dataframe tbody tr th:only-of-type {\n",
       "        vertical-align: middle;\n",
       "    }\n",
       "\n",
       "    .dataframe tbody tr th {\n",
       "        vertical-align: top;\n",
       "    }\n",
       "\n",
       "    .dataframe thead th {\n",
       "        text-align: right;\n",
       "    }\n",
       "</style>\n",
       "<table border=\"1\" class=\"dataframe\">\n",
       "  <thead>\n",
       "    <tr style=\"text-align: right;\">\n",
       "      <th></th>\n",
       "      <th>ACOUSTIC</th>\n",
       "      <th>DANCE</th>\n",
       "      <th>DURATION</th>\n",
       "      <th>ENERGY</th>\n",
       "      <th>INSTRUMENTAL</th>\n",
       "      <th>LIVE</th>\n",
       "      <th>LOUD</th>\n",
       "      <th>SPEECH</th>\n",
       "      <th>TEMPO</th>\n",
       "      <th>VALENCE</th>\n",
       "    </tr>\n",
       "  </thead>\n",
       "  <tbody>\n",
       "    <tr>\n",
       "      <th>0</th>\n",
       "      <td>-0.725145</td>\n",
       "      <td>1.009868</td>\n",
       "      <td>-0.363918</td>\n",
       "      <td>0.651478</td>\n",
       "      <td>0.506258</td>\n",
       "      <td>-0.390273</td>\n",
       "      <td>-0.398017</td>\n",
       "      <td>-0.207204</td>\n",
       "      <td>0.160924</td>\n",
       "      <td>1.896967</td>\n",
       "    </tr>\n",
       "    <tr>\n",
       "      <th>1</th>\n",
       "      <td>-0.614260</td>\n",
       "      <td>-0.172687</td>\n",
       "      <td>-1.228097</td>\n",
       "      <td>0.743661</td>\n",
       "      <td>-0.519411</td>\n",
       "      <td>-0.163615</td>\n",
       "      <td>-0.497802</td>\n",
       "      <td>0.013100</td>\n",
       "      <td>-0.038882</td>\n",
       "      <td>1.590061</td>\n",
       "    </tr>\n",
       "    <tr>\n",
       "      <th>2</th>\n",
       "      <td>-0.675446</td>\n",
       "      <td>0.873419</td>\n",
       "      <td>0.811672</td>\n",
       "      <td>0.862183</td>\n",
       "      <td>-0.520250</td>\n",
       "      <td>2.455540</td>\n",
       "      <td>-0.819532</td>\n",
       "      <td>-0.287550</td>\n",
       "      <td>0.283417</td>\n",
       "      <td>1.144024</td>\n",
       "    </tr>\n",
       "  </tbody>\n",
       "</table>\n",
       "</div>"
      ],
      "text/plain": [
       "   ACOUSTIC     DANCE  DURATION    ENERGY  INSTRUMENTAL      LIVE      LOUD  \\\n",
       "0 -0.725145  1.009868 -0.363918  0.651478      0.506258 -0.390273 -0.398017   \n",
       "1 -0.614260 -0.172687 -1.228097  0.743661     -0.519411 -0.163615 -0.497802   \n",
       "2 -0.675446  0.873419  0.811672  0.862183     -0.520250  2.455540 -0.819532   \n",
       "\n",
       "     SPEECH     TEMPO   VALENCE  \n",
       "0 -0.207204  0.160924  1.896967  \n",
       "1  0.013100 -0.038882  1.590061  \n",
       "2 -0.287550  0.283417  1.144024  "
      ]
     },
     "execution_count": 45,
     "metadata": {},
     "output_type": "execute_result"
    }
   ],
   "source": [
    "normalized_x_test = normalize_data(x_test)\n",
    "normalized_x_test.head(3)"
   ]
  },
  {
   "cell_type": "markdown",
   "metadata": {},
   "source": [
    "### 3.4. Prediction Metrics"
   ]
  },
  {
   "cell_type": "markdown",
   "metadata": {},
   "source": [
    "There are many prediction metrics that can be used in measuring machine learning model accuracy. In this report the [Accuracy, Precision and Recall](https://medium.com/x8-the-ai-community/understanding-ml-evaluation-metrics-precision-recall-2b3fb915b666) as three well known metrics were used. "
   ]
  },
  {
   "cell_type": "markdown",
   "metadata": {},
   "source": [
    "Define the positive event that is the basis of predictions: __“Is the track listened labeled as 'GOOD'?”__"
   ]
  },
  {
   "cell_type": "markdown",
   "metadata": {},
   "source": [
    "Define four types of predictions that are the basis of formulas: \n",
    "\n",
    "- __True Positives (TP)__ — <span style=\"color:green\">model predicts the event is positive and that was correct.</span>  \n",
    "\n",
    "- __False Positives (FP)__ — <span style=\"color:red\">model predicts the event is positive but that was incorrect.</span>  \n",
    "\n",
    "- __True Negatives (TN)__ — <span style=\"color:green\">model predicts the event is negative and that was correct.</span>  \n",
    "\n",
    "- __False Negatives (FN)__ — <span style=\"color:red\">model predicts the event is negative but that was incorrect.</span>  "
   ]
  },
  {
   "cell_type": "markdown",
   "metadata": {},
   "source": [
    "- __Accuracy__ - the proportion of total number of predictions that were correctly identified  "
   ]
  },
  {
   "cell_type": "markdown",
   "metadata": {},
   "source": [
    "<img src=\"images/accuracy.JPG\"/>"
   ]
  },
  {
   "cell_type": "markdown",
   "metadata": {},
   "source": [
    "- __Precision__ - the proportion of positive cases that were correctly identified  "
   ]
  },
  {
   "cell_type": "markdown",
   "metadata": {},
   "source": [
    "<img src=\"images/precision.JPG\"/>"
   ]
  },
  {
   "cell_type": "markdown",
   "metadata": {},
   "source": [
    "- __Recall/Sensitivity__ - the proportion of actual positive cases that were correctly identified  "
   ]
  },
  {
   "cell_type": "markdown",
   "metadata": {},
   "source": [
    "<img src=\"images/recall.JPG\"/>"
   ]
  },
  {
   "cell_type": "markdown",
   "metadata": {},
   "source": [
    "### 3.5. Model Selection"
   ]
  },
  {
   "cell_type": "markdown",
   "metadata": {},
   "source": [
    "To conduct a modeling, I have chosen three well known classification algorithms - Logistic Regression, K-Nearest Neighbors and Support Vector Machines. Let's find out how they can manage on quite a small data set."
   ]
  },
  {
   "cell_type": "markdown",
   "metadata": {},
   "source": [
    "#### Logistic Regression (LR)"
   ]
  },
  {
   "cell_type": "code",
   "execution_count": 46,
   "metadata": {},
   "outputs": [
    {
     "data": {
      "text/html": [
       "<div>\n",
       "<style scoped>\n",
       "    .dataframe tbody tr th:only-of-type {\n",
       "        vertical-align: middle;\n",
       "    }\n",
       "\n",
       "    .dataframe tbody tr th {\n",
       "        vertical-align: top;\n",
       "    }\n",
       "\n",
       "    .dataframe thead th {\n",
       "        text-align: right;\n",
       "    }\n",
       "</style>\n",
       "<table border=\"1\" class=\"dataframe\">\n",
       "  <thead>\n",
       "    <tr style=\"text-align: right;\">\n",
       "      <th></th>\n",
       "      <th>ACCURACY</th>\n",
       "      <th>PRECISION</th>\n",
       "      <th>RECALL</th>\n",
       "    </tr>\n",
       "  </thead>\n",
       "  <tbody>\n",
       "    <tr>\n",
       "      <th>Train set (LR)</th>\n",
       "      <td>0.811809</td>\n",
       "      <td>0.812130</td>\n",
       "      <td>0.805372</td>\n",
       "    </tr>\n",
       "    <tr>\n",
       "      <th>Test set (LR)</th>\n",
       "      <td>0.809392</td>\n",
       "      <td>0.809279</td>\n",
       "      <td>0.804241</td>\n",
       "    </tr>\n",
       "  </tbody>\n",
       "</table>\n",
       "</div>"
      ],
      "text/plain": [
       "                ACCURACY  PRECISION    RECALL\n",
       "Train set (LR)  0.811809   0.812130  0.805372\n",
       "Test set (LR)   0.809392   0.809279  0.804241"
      ]
     },
     "metadata": {},
     "output_type": "display_data"
    }
   ],
   "source": [
    "# build model using LogisticRegression\n",
    "LR = LogisticRegression(C=0.01, solver='liblinear').fit(normalized_x_train, y_train.values.ravel())\n",
    "\n",
    "# make prediction\n",
    "y_train_pred_lr = LR.predict(normalized_x_train)\n",
    "y_test_pred_lr = LR.predict(normalized_x_test)\n",
    "\n",
    "# calculate metrics\n",
    "train_accuracy_lr = round(metrics.accuracy_score(y_train, y_train_pred_lr), 6)\n",
    "train_precision_lr = round(precision_score(y_train, y_train_pred_lr, average='macro'), 6)\n",
    "train_recall_lr = round(recall_score(y_train, y_train_pred_lr, average='macro'), 6)\n",
    "\n",
    "test_accuracy_lr = round(metrics.accuracy_score(y_test, y_test_pred_lr), 6)\n",
    "test_precision_lr = round(precision_score(y_test, y_test_pred_lr, average='macro'), 6)\n",
    "test_recall_lr = round(recall_score(y_test, y_test_pred_lr, average='macro'), 6)\n",
    "\n",
    "train_metrics_lr = {\n",
    "    'ACCURACY': train_accuracy_lr,\n",
    "    'PRECISION': train_precision_lr,\n",
    "    'RECALL': train_recall_lr\n",
    "}\n",
    "test_metrics_lr = {\n",
    "    'ACCURACY': test_accuracy_lr,\n",
    "    'PRECISION': test_precision_lr,\n",
    "    'RECALL': test_recall_lr\n",
    "}\n",
    "df_lr = pd.DataFrame(test_metrics_lr, index=['Logistic Regression'])\n",
    "\n",
    "# print the results\n",
    "display(pd.DataFrame(train_metrics_lr, index=['Train set (LR)']).\n",
    "        append(pd.DataFrame(test_metrics_lr, index=['Test set (LR)'])))"
   ]
  },
  {
   "cell_type": "markdown",
   "metadata": {},
   "source": [
    "#### K-Nearest Neighbors (KNN)"
   ]
  },
  {
   "cell_type": "markdown",
   "metadata": {},
   "source": [
    "For KNN we first need to find out what is the optimum K-value that gives the best accuracy. For that lets's scan through 15 candidates and plot the accuracy for different number of neighbors."
   ]
  },
  {
   "cell_type": "code",
   "execution_count": 47,
   "metadata": {},
   "outputs": [
    {
     "name": "stdout",
     "output_type": "stream",
     "text": [
      "Accuracy scores: [0.776243 0.783149 0.805249 0.80663  0.821823 0.809392 0.81768  0.825967\n",
      " 0.81768  0.827348 0.824586 0.825967 0.820442 0.825967 0.819061]\n",
      "Best accuracy score is for K-value 10.\n"
     ]
    },
    {
     "data": {
      "image/png": "[encoded data removed]",
      "text/plain": [
       "<Figure size 432x288 with 1 Axes>"
      ]
     },
     "metadata": {},
     "output_type": "display_data"
    }
   ],
   "source": [
    "Ks = 16\n",
    "test_acc_score_knn = np.zeros((Ks-1))\n",
    "\n",
    "for n in range(1, Ks):\n",
    "    neigh = KNeighborsClassifier(n_neighbors = n).fit(normalized_x_train, y_train.values.ravel())\n",
    "    y_test_pred_knn = neigh.predict(normalized_x_test)\n",
    "    test_acc_score_knn[n-1] = round(metrics.accuracy_score(y_test, y_test_pred_knn), 6)\n",
    "\n",
    "print('Accuracy scores: '+'{}'.format(test_acc_score_knn))\n",
    "print('Best accuracy score is for K-value '+'{}'.format(np.argmax(test_acc_score_knn)+1)+'.')\n",
    "\n",
    "plt.plot(range(1, Ks), test_acc_score_knn, marker=\"o\", color='steelblue', label=\"accuracy score\")\n",
    "plt.ylabel('Accuracy ')\n",
    "plt.xlabel('Number of Nabors (K)')\n",
    "plt.show()"
   ]
  },
  {
   "cell_type": "markdown",
   "metadata": {},
   "source": [
    "Since the best accuracy score was obtained by the K-value 10, let's use this for calculating all metrics for train and test data sets."
   ]
  },
  {
   "cell_type": "code",
   "execution_count": 48,
   "metadata": {},
   "outputs": [
    {
     "data": {
      "text/html": [
       "<div>\n",
       "<style scoped>\n",
       "    .dataframe tbody tr th:only-of-type {\n",
       "        vertical-align: middle;\n",
       "    }\n",
       "\n",
       "    .dataframe tbody tr th {\n",
       "        vertical-align: top;\n",
       "    }\n",
       "\n",
       "    .dataframe thead th {\n",
       "        text-align: right;\n",
       "    }\n",
       "</style>\n",
       "<table border=\"1\" class=\"dataframe\">\n",
       "  <thead>\n",
       "    <tr style=\"text-align: right;\">\n",
       "      <th></th>\n",
       "      <th>ACCURACY</th>\n",
       "      <th>PRECISION</th>\n",
       "      <th>RECALL</th>\n",
       "    </tr>\n",
       "  </thead>\n",
       "  <tbody>\n",
       "    <tr>\n",
       "      <th>Train set (KNN)</th>\n",
       "      <td>0.854282</td>\n",
       "      <td>0.862081</td>\n",
       "      <td>0.845072</td>\n",
       "    </tr>\n",
       "    <tr>\n",
       "      <th>Test set (KNN)</th>\n",
       "      <td>0.827348</td>\n",
       "      <td>0.832282</td>\n",
       "      <td>0.819391</td>\n",
       "    </tr>\n",
       "  </tbody>\n",
       "</table>\n",
       "</div>"
      ],
      "text/plain": [
       "                 ACCURACY  PRECISION    RECALL\n",
       "Train set (KNN)  0.854282   0.862081  0.845072\n",
       "Test set (KNN)   0.827348   0.832282  0.819391"
      ]
     },
     "metadata": {},
     "output_type": "display_data"
    }
   ],
   "source": [
    "# build model using KNN\n",
    "k = 10\n",
    "neigh = KNeighborsClassifier(n_neighbors = k).fit(normalized_x_train, y_train.values.ravel())\n",
    "y_train_pred_knn = neigh.predict(normalized_x_train)\n",
    "y_test_pred_knn = neigh.predict(normalized_x_test)\n",
    "\n",
    "# calculate metrics\n",
    "train_accuracy_knn = round(metrics.accuracy_score(y_train, y_train_pred_knn), 6)\n",
    "train_precision_knn = round(precision_score(y_train, y_train_pred_knn, average='macro'), 6)\n",
    "train_recall_knn = round(recall_score(y_train, y_train_pred_knn, average='macro'), 6)\n",
    "\n",
    "test_accuracy_knn = round(metrics.accuracy_score(y_test, y_test_pred_knn), 6)\n",
    "test_precision_knn = round(precision_score(y_test, y_test_pred_knn, average='macro'), 6)\n",
    "test_recall_knn = round(recall_score(y_test, y_test_pred_knn, average='macro'), 6)\n",
    "\n",
    "train_metrics_knn = {\n",
    "    'ACCURACY': train_accuracy_knn,\n",
    "    'PRECISION': train_precision_knn,\n",
    "    'RECALL': train_recall_knn\n",
    "}\n",
    "test_metrics_knn = {\n",
    "    'ACCURACY': test_accuracy_knn,\n",
    "    'PRECISION': test_precision_knn,\n",
    "    'RECALL': test_recall_knn\n",
    "}\n",
    "df_knn = pd.DataFrame(test_metrics_knn, index=['K-Nearest Neighbors'])\n",
    "\n",
    "# print the results\n",
    "display(pd.DataFrame(train_metrics_knn, index=['Train set (KNN)']).\n",
    "        append(pd.DataFrame(test_metrics_knn, index=['Test set (KNN)'])))"
   ]
  },
  {
   "cell_type": "markdown",
   "metadata": {},
   "source": [
    "#### Support Vector Machines (SVM)"
   ]
  },
  {
   "cell_type": "code",
   "execution_count": 49,
   "metadata": {},
   "outputs": [
    {
     "data": {
      "text/html": [
       "<div>\n",
       "<style scoped>\n",
       "    .dataframe tbody tr th:only-of-type {\n",
       "        vertical-align: middle;\n",
       "    }\n",
       "\n",
       "    .dataframe tbody tr th {\n",
       "        vertical-align: top;\n",
       "    }\n",
       "\n",
       "    .dataframe thead th {\n",
       "        text-align: right;\n",
       "    }\n",
       "</style>\n",
       "<table border=\"1\" class=\"dataframe\">\n",
       "  <thead>\n",
       "    <tr style=\"text-align: right;\">\n",
       "      <th></th>\n",
       "      <th>ACCURACY</th>\n",
       "      <th>PRECISION</th>\n",
       "      <th>RECALL</th>\n",
       "    </tr>\n",
       "  </thead>\n",
       "  <tbody>\n",
       "    <tr>\n",
       "      <th>Train set (SVM)</th>\n",
       "      <td>0.866367</td>\n",
       "      <td>0.868480</td>\n",
       "      <td>0.860691</td>\n",
       "    </tr>\n",
       "    <tr>\n",
       "      <th>Test set (SVM)</th>\n",
       "      <td>0.835635</td>\n",
       "      <td>0.834543</td>\n",
       "      <td>0.832616</td>\n",
       "    </tr>\n",
       "  </tbody>\n",
       "</table>\n",
       "</div>"
      ],
      "text/plain": [
       "                 ACCURACY  PRECISION    RECALL\n",
       "Train set (SVM)  0.866367   0.868480  0.860691\n",
       "Test set (SVM)   0.835635   0.834543  0.832616"
      ]
     },
     "metadata": {},
     "output_type": "display_data"
    }
   ],
   "source": [
    "# fit the model\n",
    "clf = svm.SVC(kernel='rbf', gamma='auto')\n",
    "clf.fit(normalized_x_train, y_train.values.ravel()) \n",
    "\n",
    "# predict new values\n",
    "y_train_pred_svm = clf.predict(normalized_x_train)\n",
    "y_test_pred_svm = clf.predict(normalized_x_test)\n",
    "\n",
    "# calculate metrics\n",
    "train_accuracy_svm = round(metrics.accuracy_score(y_train, y_train_pred_svm), 6)\n",
    "train_precision_svm = round(precision_score(y_train, y_train_pred_svm, average='macro'), 6)\n",
    "train_recall_svm = round(recall_score(y_train, y_train_pred_svm, average='macro'), 6)\n",
    "\n",
    "test_accuracy_svm = round(metrics.accuracy_score(y_test, y_test_pred_svm), 6)\n",
    "test_precision_svm = round(precision_score(y_test, y_test_pred_svm, average='macro'), 6)\n",
    "test_recall_svm = round(recall_score(y_test, y_test_pred_svm, average='macro'), 6)\n",
    "\n",
    "train_metrics_svm = {\n",
    "    'ACCURACY': train_accuracy_svm,\n",
    "    'PRECISION': train_precision_svm,\n",
    "    'RECALL': train_recall_svm\n",
    "}\n",
    "test_metrics_svm = {\n",
    "    'ACCURACY': test_accuracy_svm,\n",
    "    'PRECISION': test_precision_svm,\n",
    "    'RECALL': test_recall_svm\n",
    "}\n",
    "df_svm = pd.DataFrame(test_metrics_svm, index=['Support Vector Machines'])\n",
    "\n",
    "# print the results\n",
    "display(pd.DataFrame(train_metrics_svm, index=['Train set (SVM)']).\n",
    "        append(pd.DataFrame(test_metrics_svm, index=['Test set (SVM)'])))"
   ]
  },
  {
   "cell_type": "markdown",
   "metadata": {},
   "source": [
    "### 3.6. Model Optimization"
   ]
  },
  {
   "cell_type": "markdown",
   "metadata": {},
   "source": [
    "In Model Selection chapter model building was mostly done with default parameters. Traditional way in improving model’s performance is __Hyperparameter Optimization__ that is done via __Grid Search__ cross-validation. Grid Search works by searching exhaustively through a manually specified subset of hyperparameters. A __hyperparameter__ is a parameter whose value is set in algorithm initialization before the learning process begins.\n",
    "\n",
    "In previous work the best prediction accuracy was received by SVM algorithm. Let’s try to find out if Grid Search could improve this result. For this we first explore available Grid Search parameters for specified algorithm, define their possible value ranges and then run the Grid Search.  "
   ]
  },
  {
   "cell_type": "code",
   "execution_count": 90,
   "metadata": {},
   "outputs": [
    {
     "data": {
      "text/plain": [
       "{'C': 1.0,\n",
       " 'cache_size': 200,\n",
       " 'class_weight': None,\n",
       " 'coef0': 0.0,\n",
       " 'decision_function_shape': 'ovr',\n",
       " 'degree': 3,\n",
       " 'gamma': 'auto_deprecated',\n",
       " 'kernel': 'rbf',\n",
       " 'max_iter': -1,\n",
       " 'probability': False,\n",
       " 'random_state': None,\n",
       " 'shrinking': True,\n",
       " 'tol': 0.001,\n",
       " 'verbose': False}"
      ]
     },
     "execution_count": 90,
     "metadata": {},
     "output_type": "execute_result"
    }
   ],
   "source": [
    "# get insights which hyperparameters are available in SVC\n",
    "SVC().get_params()"
   ]
  },
  {
   "cell_type": "code",
   "execution_count": 91,
   "metadata": {},
   "outputs": [
    {
     "name": "stdout",
     "output_type": "stream",
     "text": [
      "Best parameters: {'C': 1, 'class_weight': 'balanced', 'gamma': 'scale', 'kernel': 'rbf', 'shrinking': True}\n",
      "Best score: 0.8435773480662984\n",
      "Prediction accuracy after GridSearch: 0.827348\n"
     ]
    }
   ],
   "source": [
    "# define hyperparameters\n",
    "param_grid = {'C': (0.001, 0.01, 0.1, 1, 10),\n",
    "              'kernel': ('linear', 'poly', 'rbf', 'sigmoid'),\n",
    "              'class_weight': ('balanced', None),\n",
    "              'gamma': ('scale', 'auto'),\n",
    "              'shrinking': (True, False)}\n",
    "\n",
    "# initialize GridSearch, setting 10-fold cross validation\n",
    "grid_search = GridSearchCV(svm.SVC(), param_grid, cv=10)\n",
    "# fit the model\n",
    "grid_results = grid_search.fit(normalized_x_train, y_train.values.ravel())\n",
    "\n",
    "# print the results\n",
    "print('Best parameters: '+'{}'.format(grid_results.best_params_))\n",
    "print('Best score: '+'{}'.format(grid_results.best_score_))\n",
    "\n",
    "# make prediction\n",
    "y_test_pred_GS = grid_results.best_estimator_.predict(normalized_x_test)\n",
    "print('Prediction accuracy after GridSearch: '+'{}'.format(round(metrics.accuracy_score(y_test, y_test_pred_GS), 6)))"
   ]
  },
  {
   "cell_type": "markdown",
   "metadata": {},
   "source": [
    "As seen from the result the default settings seem to be good enough and hyperparameter tuning didn't make it better."
   ]
  },
  {
   "cell_type": "markdown",
   "metadata": {},
   "source": [
    "### 3.7. Clustering Neighborhoods"
   ]
  },
  {
   "cell_type": "markdown",
   "metadata": {},
   "source": [
    "One condition in performing this certificate specialization was the usage of Foursquare API. Therefore, let's suppose we want to attend the Ed Sheeran concert at Wembley Stadium in London. In this case any suggestions about the nearby hotels would be welcome. Let's first find out the geographical coordinates of Wembley Stadium and then plot the colored circles for each hotel found in a request."
   ]
  },
  {
   "cell_type": "code",
   "execution_count": 9,
   "metadata": {},
   "outputs": [],
   "source": [
    "# find Wembley Stadium latitude and longitude\n",
    "geolocator = Nominatim(user_agent='foursquare_agent')\n",
    "travel_location = geolocator.geocode('Wembley Stadium')\n",
    "travel_location_lat = travel_location.latitude\n",
    "travel_location_lng = travel_location.longitude"
   ]
  },
  {
   "cell_type": "code",
   "execution_count": 10,
   "metadata": {},
   "outputs": [],
   "source": [
    "def get_foursquare_authorization_tokens():\n",
    "    \"\"\"Read from file authorization tokens needed for making connection to the Foursquare API.\"\"\"\n",
    "    with open('datasets/foursquare_authorization.json', 'r') as f:\n",
    "        fs_authorization_tokens = json.load(f)\n",
    "    return fs_authorization_tokens"
   ]
  },
  {
   "cell_type": "code",
   "execution_count": 11,
   "metadata": {},
   "outputs": [],
   "source": [
    "# get foursquare authorization tokens\n",
    "fs_authorization_tokens = get_foursquare_authorization_tokens()\n",
    "CLIENT_ID = fs_authorization_tokens.get('client_id')\n",
    "CLIENT_SECRET = fs_authorization_tokens.get('client_secret')\n",
    "VERSION = fs_authorization_tokens.get('version')\n",
    "LIMIT = fs_authorization_tokens.get('limit')"
   ]
  },
  {
   "cell_type": "code",
   "execution_count": 12,
   "metadata": {},
   "outputs": [],
   "source": [
    "LIMIT = 100 # limit of number of venues returned by Foursquare API\n",
    "radius = 2000 # radius to search venues for\n",
    "\n",
    "# create URL\n",
    "url = 'https://api.foursquare.com/v2/venues/explore?&client_id={}&client_secret={}&v={}&ll={},{}&radius={}&limit={}'.format(\n",
    "    CLIENT_ID, CLIENT_SECRET, VERSION, travel_location_lat, travel_location_lng, radius, LIMIT)"
   ]
  },
  {
   "cell_type": "code",
   "execution_count": 13,
   "metadata": {},
   "outputs": [],
   "source": [
    "results = requests.get(url).json()\n",
    "# to keep the code compact the output is commented out and shown only part of it as an image\n",
    "#results"
   ]
  },
  {
   "cell_type": "markdown",
   "metadata": {},
   "source": [
    "<img src=\"images/foursquare_request_response.JPG\" align=\"left\"/>"
   ]
  },
  {
   "cell_type": "code",
   "execution_count": 351,
   "metadata": {},
   "outputs": [],
   "source": [
    "# function to extract the category of the venue\n",
    "def get_category_type(row):\n",
    "    try:\n",
    "        categories_list = row['categories']\n",
    "    except:\n",
    "        categories_list = row['venue.categories']\n",
    "        \n",
    "    if len(categories_list) == 0:\n",
    "        return None\n",
    "    else:\n",
    "        return categories_list[0]['name']"
   ]
  },
  {
   "cell_type": "code",
   "execution_count": 354,
   "metadata": {},
   "outputs": [
    {
     "data": {
      "text/html": [
       "<div>\n",
       "<style scoped>\n",
       "    .dataframe tbody tr th:only-of-type {\n",
       "        vertical-align: middle;\n",
       "    }\n",
       "\n",
       "    .dataframe tbody tr th {\n",
       "        vertical-align: top;\n",
       "    }\n",
       "\n",
       "    .dataframe thead th {\n",
       "        text-align: right;\n",
       "    }\n",
       "</style>\n",
       "<table border=\"1\" class=\"dataframe\">\n",
       "  <thead>\n",
       "    <tr style=\"text-align: right;\">\n",
       "      <th></th>\n",
       "      <th>name</th>\n",
       "      <th>categories</th>\n",
       "      <th>lat</th>\n",
       "      <th>lng</th>\n",
       "    </tr>\n",
       "  </thead>\n",
       "  <tbody>\n",
       "    <tr>\n",
       "      <th>0</th>\n",
       "      <td>Hilton London Wembley</td>\n",
       "      <td>Hotel</td>\n",
       "      <td>51.557566</td>\n",
       "      <td>-0.282289</td>\n",
       "    </tr>\n",
       "    <tr>\n",
       "      <th>1</th>\n",
       "      <td>Novotel London Wembley</td>\n",
       "      <td>Hotel</td>\n",
       "      <td>51.561280</td>\n",
       "      <td>-0.279197</td>\n",
       "    </tr>\n",
       "    <tr>\n",
       "      <th>2</th>\n",
       "      <td>St. George Hotel</td>\n",
       "      <td>Hotel</td>\n",
       "      <td>51.555394</td>\n",
       "      <td>-0.286257</td>\n",
       "    </tr>\n",
       "    <tr>\n",
       "      <th>3</th>\n",
       "      <td>Premier Inn London Wembley Park</td>\n",
       "      <td>Hotel</td>\n",
       "      <td>51.562878</td>\n",
       "      <td>-0.281058</td>\n",
       "    </tr>\n",
       "    <tr>\n",
       "      <th>4</th>\n",
       "      <td>Premier Inn London Wembley Stadium</td>\n",
       "      <td>Hotel</td>\n",
       "      <td>51.557282</td>\n",
       "      <td>-0.282672</td>\n",
       "    </tr>\n",
       "    <tr>\n",
       "      <th>5</th>\n",
       "      <td>Holiday Inn London - Wembley</td>\n",
       "      <td>Hotel</td>\n",
       "      <td>51.555713</td>\n",
       "      <td>-0.285051</td>\n",
       "    </tr>\n",
       "    <tr>\n",
       "      <th>6</th>\n",
       "      <td>Ibis Hotel Wembley London</td>\n",
       "      <td>Hotel</td>\n",
       "      <td>51.555085</td>\n",
       "      <td>-0.284890</td>\n",
       "    </tr>\n",
       "  </tbody>\n",
       "</table>\n",
       "</div>"
      ],
      "text/plain": [
       "                                 name categories        lat       lng\n",
       "0               Hilton London Wembley      Hotel  51.557566 -0.282289\n",
       "1              Novotel London Wembley      Hotel  51.561280 -0.279197\n",
       "2                    St. George Hotel      Hotel  51.555394 -0.286257\n",
       "3     Premier Inn London Wembley Park      Hotel  51.562878 -0.281058\n",
       "4  Premier Inn London Wembley Stadium      Hotel  51.557282 -0.282672\n",
       "5        Holiday Inn London - Wembley      Hotel  51.555713 -0.285051\n",
       "6           Ibis Hotel Wembley London      Hotel  51.555085 -0.284890"
      ]
     },
     "metadata": {},
     "output_type": "display_data"
    },
    {
     "name": "stdout",
     "output_type": "stream",
     "text": [
      "7 hotels were returned by Foursquare.\n"
     ]
    }
   ],
   "source": [
    "# parse the results and display first 3 rows\n",
    "venues = results['response']['groups'][0]['items']\n",
    "    \n",
    "nearby_venues_df = json_normalize(venues) # flatten JSON\n",
    "\n",
    "# filter columns\n",
    "filtered_columns = ['venue.name', 'venue.categories', 'venue.location.lat', 'venue.location.lng']\n",
    "nearby_venues_df =nearby_venues_df.loc[:, filtered_columns]\n",
    "\n",
    "# filter the category for each row\n",
    "nearby_venues_df['venue.categories'] = nearby_venues_df.apply(get_category_type, axis=1)\n",
    "\n",
    "# clean columns\n",
    "nearby_venues_df.columns = [col.split(\".\")[-1] for col in nearby_venues_df.columns]\n",
    "\n",
    "nearby_venues_df = nearby_venues_df[nearby_venues_df['categories']==\"Hotel\"]\n",
    "nearby_venues_df.reset_index(drop=True, inplace=True)\n",
    "display(nearby_venues_df.head(10))\n",
    "print('{} hotels were returned by Foursquare.'.format(nearby_venues_df.shape[0]))"
   ]
  },
  {
   "cell_type": "code",
   "execution_count": 353,
   "metadata": {},
   "outputs": [
    {
     "data": {
      "text/html": [
       "<div style=\"width:100%;\"><div style=\"position:relative;width:100%;height:0;padding-bottom:60%;\"><iframe src=\"data:text/html;charset=utf-8;base64,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\" style=\"position:absolute;width:100%;height:100%;left:0;top:0;border:none !important;\" allowfullscreen webkitallowfullscreen mozallowfullscreen></iframe></div></div>"
      ],
      "text/plain": [
       "<folium.folium.Map at 0x1b98279e2b0>"
      ]
     },
     "execution_count": 353,
     "metadata": {},
     "output_type": "execute_result"
    }
   ],
   "source": [
    "# generate map centred around Wembley Stadium\n",
    "travel_map = folium.Map(location=[travel_location_lat, travel_location_lng], zoom_start=15)\n",
    "\n",
    "# set color scheme for the clusters\n",
    "x = np.arange(nearby_venues_df.shape[0])\n",
    "ys = [i + x + (i*x)**2 for i in range(nearby_venues_df.shape[0])]\n",
    "colors_array = cm.rainbow(np.linspace(0, 1, len(ys)))\n",
    "rainbow = [colors.rgb2hex(i) for i in colors_array]\n",
    "\n",
    "# add hotel's spots to the map as colored circle markers\n",
    "for lat, lng, label, venue_ind in zip(nearby_venues_df.lat, nearby_venues_df.lng, nearby_venues_df.name, nearby_venues_df.index.tolist()):\n",
    "    circle_marker = folium.CircleMarker(\n",
    "            [lat, lng],\n",
    "            radius=10,\n",
    "            popup=label,\n",
    "            fill=True,\n",
    "            color=rainbow[venue_ind],\n",
    "            fill_color=rainbow[venue_ind],\n",
    "            fill_opacity=0.6\n",
    "            ).add_to(travel_map)\n",
    "\n",
    "# display map\n",
    "travel_map"
   ]
  },
  {
   "cell_type": "markdown",
   "metadata": {},
   "source": [
    "## 4. Results"
   ]
  },
  {
   "cell_type": "markdown",
   "metadata": {},
   "source": [
    "### 4.1. Algorithms Comparison"
   ]
  },
  {
   "cell_type": "markdown",
   "metadata": {},
   "source": [
    "After summarizing prediction results of three different algorithms, the following dataframe can be constructed. The best classifier is __Support Vector Machines__, but there is very little difference with K-Nearest Neighbors. "
   ]
  },
  {
   "cell_type": "code",
   "execution_count": 50,
   "metadata": {},
   "outputs": [
    {
     "data": {
      "text/html": [
       "<style  type=\"text/css\" >\n",
       "    #T_b7debce8_a71b_11e9_ab3e_4cbb58820b5erow0_col0 {\n",
       "            color:  green;\n",
       "        }    #T_b7debce8_a71b_11e9_ab3e_4cbb58820b5erow0_col1 {\n",
       "            color:  green;\n",
       "        }    #T_b7debce8_a71b_11e9_ab3e_4cbb58820b5erow0_col2 {\n",
       "            color:  green;\n",
       "        }    #T_b7debce8_a71b_11e9_ab3e_4cbb58820b5erow1_col0 {\n",
       "            color:  orange;\n",
       "        }    #T_b7debce8_a71b_11e9_ab3e_4cbb58820b5erow1_col1 {\n",
       "            color:  orange;\n",
       "        }    #T_b7debce8_a71b_11e9_ab3e_4cbb58820b5erow1_col2 {\n",
       "            color:  orange;\n",
       "        }    #T_b7debce8_a71b_11e9_ab3e_4cbb58820b5erow2_col0 {\n",
       "            color:  red;\n",
       "        }    #T_b7debce8_a71b_11e9_ab3e_4cbb58820b5erow2_col1 {\n",
       "            color:  red;\n",
       "        }    #T_b7debce8_a71b_11e9_ab3e_4cbb58820b5erow2_col2 {\n",
       "            color:  red;\n",
       "        }</style><table id=\"T_b7debce8_a71b_11e9_ab3e_4cbb58820b5e\" ><thead>    <tr>        <th class=\"blank level0\" ></th>        <th class=\"col_heading level0 col0\" >ACCURACY</th>        <th class=\"col_heading level0 col1\" >PRECISION</th>        <th class=\"col_heading level0 col2\" >RECALL</th>    </tr></thead><tbody>\n",
       "                <tr>\n",
       "                        <th id=\"T_b7debce8_a71b_11e9_ab3e_4cbb58820b5elevel0_row0\" class=\"row_heading level0 row0\" >Support Vector Machines</th>\n",
       "                        <td id=\"T_b7debce8_a71b_11e9_ab3e_4cbb58820b5erow0_col0\" class=\"data row0 col0\" >0.835635</td>\n",
       "                        <td id=\"T_b7debce8_a71b_11e9_ab3e_4cbb58820b5erow0_col1\" class=\"data row0 col1\" >0.834543</td>\n",
       "                        <td id=\"T_b7debce8_a71b_11e9_ab3e_4cbb58820b5erow0_col2\" class=\"data row0 col2\" >0.832616</td>\n",
       "            </tr>\n",
       "            <tr>\n",
       "                        <th id=\"T_b7debce8_a71b_11e9_ab3e_4cbb58820b5elevel0_row1\" class=\"row_heading level0 row1\" >K-Nearest Neighbors</th>\n",
       "                        <td id=\"T_b7debce8_a71b_11e9_ab3e_4cbb58820b5erow1_col0\" class=\"data row1 col0\" >0.827348</td>\n",
       "                        <td id=\"T_b7debce8_a71b_11e9_ab3e_4cbb58820b5erow1_col1\" class=\"data row1 col1\" >0.832282</td>\n",
       "                        <td id=\"T_b7debce8_a71b_11e9_ab3e_4cbb58820b5erow1_col2\" class=\"data row1 col2\" >0.819391</td>\n",
       "            </tr>\n",
       "            <tr>\n",
       "                        <th id=\"T_b7debce8_a71b_11e9_ab3e_4cbb58820b5elevel0_row2\" class=\"row_heading level0 row2\" >Logistic Regression</th>\n",
       "                        <td id=\"T_b7debce8_a71b_11e9_ab3e_4cbb58820b5erow2_col0\" class=\"data row2 col0\" >0.809392</td>\n",
       "                        <td id=\"T_b7debce8_a71b_11e9_ab3e_4cbb58820b5erow2_col1\" class=\"data row2 col1\" >0.809279</td>\n",
       "                        <td id=\"T_b7debce8_a71b_11e9_ab3e_4cbb58820b5erow2_col2\" class=\"data row2 col2\" >0.804241</td>\n",
       "            </tr>\n",
       "    </tbody></table>"
      ],
      "text/plain": [
       "<pandas.io.formats.style.Styler at 0x2806831a240>"
      ]
     },
     "execution_count": 50,
     "metadata": {},
     "output_type": "execute_result"
    }
   ],
   "source": [
    "# join all three dataframes\n",
    "df_all = df_lr.append(df_knn).append(df_svm)\n",
    "# sort values, best results first\n",
    "df_all.sort_values(['ACCURACY'], ascending=False, axis=0, inplace=True)\n",
    "# highlight rows in different colours\n",
    "df_all.style.apply(lambda x: [\"color: green\" if v==x.iloc[0] \n",
    "                              else (\"color: orange\" if v==x.iloc[1] else \"color: red\")\n",
    "                              for v in x], axis=0)"
   ]
  },
  {
   "cell_type": "markdown",
   "metadata": {},
   "source": [
    "### 4.2. ROC AUC Curve"
   ]
  },
  {
   "cell_type": "markdown",
   "metadata": {},
   "source": [
    "In order to compare one model to another, the [AUC ROC](https://towardsdatascience.com/understanding-the-roc-and-auc-curves-a05b68550b69) curve needs to be constructed. __AUC__ (Area Under The Curve) __ROC__ (Receiver Operating Characteristics) __curve__ is a performance measure at various thresholds settings. ROC is a probability curve and AUC degree of separability. ROC curves are obtained by plotting the __True Positive__ rate against the __False Positive__ rate and the performance is usually measured by the area under the ROC curve. Thus, it shows the model’s capability to distinguish the difference between classes."
   ]
  },
  {
   "cell_type": "code",
   "execution_count": 51,
   "metadata": {},
   "outputs": [],
   "source": [
    "# convert categorical labels to numerical values\n",
    "y_test_rc = y_test['RATING'].apply(lambda x: 1 if x=='GOOD' else 0)\n",
    "y_pred_svm_rc = np.where(y_test_pred_svm=='GOOD', 1, 0)\n",
    "y_pred_knn_rc = np.where(y_test_pred_knn=='GOOD', 1, 0)\n",
    "y_pred_lr_rc = np.where(y_test_pred_lr=='GOOD', 1, 0)"
   ]
  },
  {
   "cell_type": "code",
   "execution_count": 52,
   "metadata": {},
   "outputs": [
    {
     "data": {
      "image/png": "[encoded data removed]",
      "text/plain": [
       "<Figure size 432x288 with 1 Axes>"
      ]
     },
     "metadata": {},
     "output_type": "display_data"
    }
   ],
   "source": [
    "# calculate 'False Positive', 'True Positive' and Threshold scores\n",
    "FP_rate_svm, TP_rate_svm, thresholds_svm = roc_curve(y_test_rc, y_pred_svm_rc)\n",
    "FP_rate_knn, TP_rate_knn, thresholds_knn = roc_curve(y_test_rc, y_pred_knn_rc)\n",
    "FP_rate_lr, TP_rate_lr, thresholds_lr = roc_curve(y_test_rc, y_pred_lr_rc)\n",
    "\n",
    "# calculate AUC scores\n",
    "roc_auc_svm = auc(FP_rate_svm, TP_rate_svm)\n",
    "roc_auc_knn = auc(FP_rate_knn, TP_rate_knn)\n",
    "roc_auc_lr = auc(FP_rate_lr, TP_rate_lr)\n",
    "\n",
    "# plot the curves\n",
    "plt.plot(FP_rate_svm, TP_rate_svm, label='{}, AUC = {:.3f}'.format('SVM', roc_auc_svm))\n",
    "plt.plot(FP_rate_knn, TP_rate_knn, label='{}, AUC = {:.3f}'.format('KNN', roc_auc_knn))\n",
    "plt.plot(FP_rate_lr, TP_rate_lr, label='{}, AUC = {:.3f}'.format('LR', roc_auc_lr))\n",
    "\n",
    "# set styling parameters\n",
    "plt.xlabel('False Positive Rate')\n",
    "plt.ylabel('True Positive Rate')\n",
    "plt.title('ROC curves for different algorithms')\n",
    "plt.legend(loc=\"lower right\")\n",
    "plt.show()"
   ]
  },
  {
   "cell_type": "markdown",
   "metadata": {},
   "source": [
    "In this case the __best AUC by SVM was 83.3%__, indicating a good level of prediction accuracy to distinguish a good musical track from bad one. Since there were only two values (GOOD or BAD) in ratings category, the ROC curve is triangle shaped."
   ]
  },
  {
   "cell_type": "markdown",
   "metadata": {},
   "source": [
    "### 4.3. Model Evaluation"
   ]
  },
  {
   "cell_type": "markdown",
   "metadata": {},
   "source": [
    "Partitioning data into the training and test sets may be insufficient when doing many rounds of testing and hyperparameter tuning. Doing many iterations where model is trained, tested, metrics observed and parameters adjusted until the best possible model is found, may result to __[overfit](https://elitedatascience.com/overfitting-in-machine-learning)__ to the peculiarities of test data."
   ]
  },
  {
   "cell_type": "markdown",
   "metadata": {},
   "source": [
    "One solution to handle this, is to create a third data set out of previous two partitions. In this way created classifier is evaluated only on this data set. I have chosen a way where data for the final test contains ten musical genres from playlists not used in training. One track from each of them is included for evaluation, a dataframe with appropriate audio features constructed and then predictions made. For data labeling, I listened to all ten tracks and rated them as a 'GOOD' or 'BAD' one."
   ]
  },
  {
   "cell_type": "code",
   "execution_count": 85,
   "metadata": {},
   "outputs": [
    {
     "data": {
      "text/html": [
       "<div>\n",
       "<style scoped>\n",
       "    .dataframe tbody tr th:only-of-type {\n",
       "        vertical-align: middle;\n",
       "    }\n",
       "\n",
       "    .dataframe tbody tr th {\n",
       "        vertical-align: top;\n",
       "    }\n",
       "\n",
       "    .dataframe thead th {\n",
       "        text-align: right;\n",
       "    }\n",
       "</style>\n",
       "<table border=\"1\" class=\"dataframe\">\n",
       "  <thead>\n",
       "    <tr style=\"text-align: right;\">\n",
       "      <th></th>\n",
       "      <th>genre</th>\n",
       "      <th>artist</th>\n",
       "      <th>title</th>\n",
       "      <th>actual_rating</th>\n",
       "    </tr>\n",
       "  </thead>\n",
       "  <tbody>\n",
       "    <tr>\n",
       "      <th>0</th>\n",
       "      <td>Afro</td>\n",
       "      <td>Juliana</td>\n",
       "      <td>Tony Okoroji</td>\n",
       "      <td>GOOD</td>\n",
       "    </tr>\n",
       "    <tr>\n",
       "      <th>1</th>\n",
       "      <td>Country</td>\n",
       "      <td>Keith Whitley</td>\n",
       "      <td>It Ain't Nothin'</td>\n",
       "      <td>GOOD</td>\n",
       "    </tr>\n",
       "    <tr>\n",
       "      <th>2</th>\n",
       "      <td>Electronic</td>\n",
       "      <td>J Balvin</td>\n",
       "      <td>Positivo</td>\n",
       "      <td>BAD</td>\n",
       "    </tr>\n",
       "  </tbody>\n",
       "</table>\n",
       "</div>"
      ],
      "text/plain": [
       "        genre         artist             title actual_rating\n",
       "0        Afro        Juliana      Tony Okoroji          GOOD\n",
       "1     Country  Keith Whitley  It Ain't Nothin'          GOOD\n",
       "2  Electronic       J Balvin          Positivo           BAD"
      ]
     },
     "execution_count": 85,
     "metadata": {},
     "output_type": "execute_result"
    }
   ],
   "source": [
    "# get data\n",
    "evaluation_pl_df = pd.read_csv(\"datasets/sp_evaluation_dataset.csv\", \n",
    "                          encoding='utf-8',\n",
    "                          sep=\"\\t\", \n",
    "                          thousands=\",\")\n",
    "evaluation_pl_df.head(3)"
   ]
  },
  {
   "cell_type": "code",
   "execution_count": 86,
   "metadata": {},
   "outputs": [
    {
     "data": {
      "text/html": [
       "<div>\n",
       "<style scoped>\n",
       "    .dataframe tbody tr th:only-of-type {\n",
       "        vertical-align: middle;\n",
       "    }\n",
       "\n",
       "    .dataframe tbody tr th {\n",
       "        vertical-align: top;\n",
       "    }\n",
       "\n",
       "    .dataframe thead th {\n",
       "        text-align: right;\n",
       "    }\n",
       "</style>\n",
       "<table border=\"1\" class=\"dataframe\">\n",
       "  <thead>\n",
       "    <tr style=\"text-align: right;\">\n",
       "      <th></th>\n",
       "      <th>genre</th>\n",
       "      <th>artist</th>\n",
       "      <th>title</th>\n",
       "      <th>actual_rating</th>\n",
       "      <th>acousticness</th>\n",
       "      <th>analysis_url</th>\n",
       "      <th>danceability</th>\n",
       "      <th>duration_ms</th>\n",
       "      <th>energy</th>\n",
       "      <th>id</th>\n",
       "      <th>...</th>\n",
       "      <th>liveness</th>\n",
       "      <th>loudness</th>\n",
       "      <th>mode</th>\n",
       "      <th>speechiness</th>\n",
       "      <th>tempo</th>\n",
       "      <th>time_signature</th>\n",
       "      <th>track_href</th>\n",
       "      <th>type</th>\n",
       "      <th>uri</th>\n",
       "      <th>valence</th>\n",
       "    </tr>\n",
       "  </thead>\n",
       "  <tbody>\n",
       "    <tr>\n",
       "      <th>0</th>\n",
       "      <td>Afro</td>\n",
       "      <td>Juliana</td>\n",
       "      <td>Tony Okoroji</td>\n",
       "      <td>GOOD</td>\n",
       "      <td>0.116000</td>\n",
       "      <td>https://api.spotify.com/v1/audio-analysis/5QVr...</td>\n",
       "      <td>0.690</td>\n",
       "      <td>336440.0</td>\n",
       "      <td>0.868</td>\n",
       "      <td>5QVr1U4qIpdYIWOzAjbXfr</td>\n",
       "      <td>...</td>\n",
       "      <td>0.338</td>\n",
       "      <td>-12.148</td>\n",
       "      <td>1.0</td>\n",
       "      <td>0.0550</td>\n",
       "      <td>101.432</td>\n",
       "      <td>4.0</td>\n",
       "      <td>https://api.spotify.com/v1/tracks/5QVr1U4qIpdY...</td>\n",
       "      <td>audio_features</td>\n",
       "      <td>spotify:track:5QVr1U4qIpdYIWOzAjbXfr</td>\n",
       "      <td>0.784</td>\n",
       "    </tr>\n",
       "    <tr>\n",
       "      <th>1</th>\n",
       "      <td>Country</td>\n",
       "      <td>Keith Whitley</td>\n",
       "      <td>It Ain't Nothin'</td>\n",
       "      <td>GOOD</td>\n",
       "      <td>0.148000</td>\n",
       "      <td>https://api.spotify.com/v1/audio-analysis/7fYK...</td>\n",
       "      <td>0.610</td>\n",
       "      <td>244333.0</td>\n",
       "      <td>0.683</td>\n",
       "      <td>7fYKKFD0jiSlMDgG9IUs1q</td>\n",
       "      <td>...</td>\n",
       "      <td>0.157</td>\n",
       "      <td>-11.549</td>\n",
       "      <td>0.0</td>\n",
       "      <td>0.0458</td>\n",
       "      <td>138.695</td>\n",
       "      <td>4.0</td>\n",
       "      <td>https://api.spotify.com/v1/tracks/7fYKKFD0jiSl...</td>\n",
       "      <td>audio_features</td>\n",
       "      <td>spotify:track:7fYKKFD0jiSlMDgG9IUs1q</td>\n",
       "      <td>0.610</td>\n",
       "    </tr>\n",
       "    <tr>\n",
       "      <th>2</th>\n",
       "      <td>Electronic</td>\n",
       "      <td>J Balvin</td>\n",
       "      <td>Positivo</td>\n",
       "      <td>BAD</td>\n",
       "      <td>0.000811</td>\n",
       "      <td>https://api.spotify.com/v1/audio-analysis/4HUq...</td>\n",
       "      <td>0.373</td>\n",
       "      <td>183773.0</td>\n",
       "      <td>0.937</td>\n",
       "      <td>4HUqrGAZ5f0gHRor7z9BFc</td>\n",
       "      <td>...</td>\n",
       "      <td>0.815</td>\n",
       "      <td>-2.133</td>\n",
       "      <td>0.0</td>\n",
       "      <td>0.0834</td>\n",
       "      <td>150.242</td>\n",
       "      <td>4.0</td>\n",
       "      <td>https://api.spotify.com/v1/tracks/4HUqrGAZ5f0g...</td>\n",
       "      <td>audio_features</td>\n",
       "      <td>spotify:track:4HUqrGAZ5f0gHRor7z9BFc</td>\n",
       "      <td>0.460</td>\n",
       "    </tr>\n",
       "  </tbody>\n",
       "</table>\n",
       "<p>3 rows × 22 columns</p>\n",
       "</div>"
      ],
      "text/plain": [
       "        genre         artist             title actual_rating  acousticness  \\\n",
       "0        Afro        Juliana      Tony Okoroji          GOOD      0.116000   \n",
       "1     Country  Keith Whitley  It Ain't Nothin'          GOOD      0.148000   \n",
       "2  Electronic       J Balvin          Positivo           BAD      0.000811   \n",
       "\n",
       "                                        analysis_url  danceability  \\\n",
       "0  https://api.spotify.com/v1/audio-analysis/5QVr...         0.690   \n",
       "1  https://api.spotify.com/v1/audio-analysis/7fYK...         0.610   \n",
       "2  https://api.spotify.com/v1/audio-analysis/4HUq...         0.373   \n",
       "\n",
       "   duration_ms  energy                      id  ...  liveness  loudness  mode  \\\n",
       "0     336440.0   0.868  5QVr1U4qIpdYIWOzAjbXfr  ...     0.338   -12.148   1.0   \n",
       "1     244333.0   0.683  7fYKKFD0jiSlMDgG9IUs1q  ...     0.157   -11.549   0.0   \n",
       "2     183773.0   0.937  4HUqrGAZ5f0gHRor7z9BFc  ...     0.815    -2.133   0.0   \n",
       "\n",
       "   speechiness    tempo  time_signature  \\\n",
       "0       0.0550  101.432             4.0   \n",
       "1       0.0458  138.695             4.0   \n",
       "2       0.0834  150.242             4.0   \n",
       "\n",
       "                                          track_href            type  \\\n",
       "0  https://api.spotify.com/v1/tracks/5QVr1U4qIpdY...  audio_features   \n",
       "1  https://api.spotify.com/v1/tracks/7fYKKFD0jiSl...  audio_features   \n",
       "2  https://api.spotify.com/v1/tracks/4HUqrGAZ5f0g...  audio_features   \n",
       "\n",
       "                                    uri valence  \n",
       "0  spotify:track:5QVr1U4qIpdYIWOzAjbXfr   0.784  \n",
       "1  spotify:track:7fYKKFD0jiSlMDgG9IUs1q   0.610  \n",
       "2  spotify:track:4HUqrGAZ5f0gHRor7z9BFc   0.460  \n",
       "\n",
       "[3 rows x 22 columns]"
      ]
     },
     "execution_count": 86,
     "metadata": {},
     "output_type": "execute_result"
    }
   ],
   "source": [
    "user_playlists = get_user_playlists()\n",
    "genres_playlist_names = list(evaluation_pl_df['genre'])\n",
    "audio_features = pd.DataFrame()\n",
    "\n",
    "for playlist_id, playlist_name in user_playlists.items():\n",
    "    if genres_playlist_names.__contains__(playlist_name):\n",
    "        playlist_tracks = get_playlist_tracks(sp_authorization_tokens.get('username'), playlist_id, False)\n",
    "        audio_features = audio_features.append(get_audio_features(playlist_tracks).drop(['artist', 'title'], axis=1), ignore_index=True, sort=False)\n",
    "    else:\n",
    "        continue\n",
    "\n",
    "evaluation_pl_df = pd.concat([evaluation_pl_df, audio_features], axis=1)\n",
    "evaluation_pl_df.head(3)"
   ]
  },
  {
   "cell_type": "code",
   "execution_count": 87,
   "metadata": {},
   "outputs": [
    {
     "name": "stdout",
     "output_type": "stream",
     "text": [
      "0 duplicate rows removed.\n"
     ]
    },
    {
     "data": {
      "text/html": [
       "<div>\n",
       "<style scoped>\n",
       "    .dataframe tbody tr th:only-of-type {\n",
       "        vertical-align: middle;\n",
       "    }\n",
       "\n",
       "    .dataframe tbody tr th {\n",
       "        vertical-align: top;\n",
       "    }\n",
       "\n",
       "    .dataframe thead th {\n",
       "        text-align: right;\n",
       "    }\n",
       "</style>\n",
       "<table border=\"1\" class=\"dataframe\">\n",
       "  <thead>\n",
       "    <tr style=\"text-align: right;\">\n",
       "      <th></th>\n",
       "      <th>ACOUSTIC</th>\n",
       "      <th>DANCE</th>\n",
       "      <th>DURATION</th>\n",
       "      <th>ENERGY</th>\n",
       "      <th>INSTRUMENTAL</th>\n",
       "      <th>LIVE</th>\n",
       "      <th>LOUD</th>\n",
       "      <th>SPEECH</th>\n",
       "      <th>TEMPO</th>\n",
       "      <th>VALENCE</th>\n",
       "    </tr>\n",
       "  </thead>\n",
       "  <tbody>\n",
       "    <tr>\n",
       "      <th>0</th>\n",
       "      <td>-0.286195</td>\n",
       "      <td>0.625458</td>\n",
       "      <td>0.499024</td>\n",
       "      <td>0.892218</td>\n",
       "      <td>-0.473053</td>\n",
       "      <td>0.477949</td>\n",
       "      <td>0.603033</td>\n",
       "      <td>-0.270228</td>\n",
       "      <td>-0.867193</td>\n",
       "      <td>1.464335</td>\n",
       "    </tr>\n",
       "    <tr>\n",
       "      <th>1</th>\n",
       "      <td>-0.179105</td>\n",
       "      <td>0.083936</td>\n",
       "      <td>-0.300844</td>\n",
       "      <td>0.089786</td>\n",
       "      <td>1.660377</td>\n",
       "      <td>-0.385325</td>\n",
       "      <td>0.478916</td>\n",
       "      <td>-0.504544</td>\n",
       "      <td>0.622271</td>\n",
       "      <td>0.414503</td>\n",
       "    </tr>\n",
       "    <tr>\n",
       "      <th>2</th>\n",
       "      <td>-0.671683</td>\n",
       "      <td>-1.520324</td>\n",
       "      <td>-0.826754</td>\n",
       "      <td>1.191504</td>\n",
       "      <td>-0.579774</td>\n",
       "      <td>2.752986</td>\n",
       "      <td>-1.472139</td>\n",
       "      <td>0.453096</td>\n",
       "      <td>1.083824</td>\n",
       "      <td>-0.490525</td>\n",
       "    </tr>\n",
       "  </tbody>\n",
       "</table>\n",
       "</div>"
      ],
      "text/plain": [
       "   ACOUSTIC     DANCE  DURATION    ENERGY  INSTRUMENTAL      LIVE      LOUD  \\\n",
       "0 -0.286195  0.625458  0.499024  0.892218     -0.473053  0.477949  0.603033   \n",
       "1 -0.179105  0.083936 -0.300844  0.089786      1.660377 -0.385325  0.478916   \n",
       "2 -0.671683 -1.520324 -0.826754  1.191504     -0.579774  2.752986 -1.472139   \n",
       "\n",
       "     SPEECH     TEMPO   VALENCE  \n",
       "0 -0.270228 -0.867193  1.464335  \n",
       "1 -0.504544  0.622271  0.414503  \n",
       "2  0.453096  1.083824 -0.490525  "
      ]
     },
     "metadata": {},
     "output_type": "display_data"
    }
   ],
   "source": [
    "# clean data\n",
    "evaluation_pl_df = clean_df(evaluation_pl_df, True)\n",
    "\n",
    "# extract features\n",
    "X_evaluation_features_df = extract_features(evaluation_pl_df)\n",
    "\n",
    "# normalize features\n",
    "n_X_evaluation_features_df = normalize_data(X_evaluation_features_df)\n",
    "display(n_X_evaluation_features_df.head(3))"
   ]
  },
  {
   "cell_type": "code",
   "execution_count": 88,
   "metadata": {},
   "outputs": [
    {
     "data": {
      "text/html": [
       "<style  type=\"text/css\" >\n",
       "    #T_db420f7a_a725_11e9_8b74_4cbb58820b5erow0_col4 {\n",
       "            color:  green;\n",
       "        }    #T_db420f7a_a725_11e9_8b74_4cbb58820b5erow1_col4 {\n",
       "            color:  red;\n",
       "        }    #T_db420f7a_a725_11e9_8b74_4cbb58820b5erow2_col4 {\n",
       "            color:  green;\n",
       "        }    #T_db420f7a_a725_11e9_8b74_4cbb58820b5erow3_col4 {\n",
       "            color:  green;\n",
       "        }    #T_db420f7a_a725_11e9_8b74_4cbb58820b5erow4_col4 {\n",
       "            color:  green;\n",
       "        }    #T_db420f7a_a725_11e9_8b74_4cbb58820b5erow5_col4 {\n",
       "            color:  green;\n",
       "        }    #T_db420f7a_a725_11e9_8b74_4cbb58820b5erow6_col4 {\n",
       "            color:  green;\n",
       "        }    #T_db420f7a_a725_11e9_8b74_4cbb58820b5erow7_col4 {\n",
       "            color:  red;\n",
       "        }    #T_db420f7a_a725_11e9_8b74_4cbb58820b5erow8_col4 {\n",
       "            color:  green;\n",
       "        }    #T_db420f7a_a725_11e9_8b74_4cbb58820b5erow9_col4 {\n",
       "            color:  green;\n",
       "        }</style><table id=\"T_db420f7a_a725_11e9_8b74_4cbb58820b5e\" ><thead>    <tr>        <th class=\"blank level0\" ></th>        <th class=\"col_heading level0 col0\" >ARTIST</th>        <th class=\"col_heading level0 col1\" >TITLE</th>        <th class=\"col_heading level0 col2\" >ACTUAL_RATING</th>        <th class=\"col_heading level0 col3\" >PREDICTED_RATING</th>        <th class=\"col_heading level0 col4\" >VERIFICATION</th>    </tr></thead><tbody>\n",
       "                <tr>\n",
       "                        <th id=\"T_db420f7a_a725_11e9_8b74_4cbb58820b5elevel0_row0\" class=\"row_heading level0 row0\" >Afro</th>\n",
       "                        <td id=\"T_db420f7a_a725_11e9_8b74_4cbb58820b5erow0_col0\" class=\"data row0 col0\" >Juliana</td>\n",
       "                        <td id=\"T_db420f7a_a725_11e9_8b74_4cbb58820b5erow0_col1\" class=\"data row0 col1\" >Tony Okoroji</td>\n",
       "                        <td id=\"T_db420f7a_a725_11e9_8b74_4cbb58820b5erow0_col2\" class=\"data row0 col2\" >GOOD</td>\n",
       "                        <td id=\"T_db420f7a_a725_11e9_8b74_4cbb58820b5erow0_col3\" class=\"data row0 col3\" >GOOD</td>\n",
       "                        <td id=\"T_db420f7a_a725_11e9_8b74_4cbb58820b5erow0_col4\" class=\"data row0 col4\" >TRUE</td>\n",
       "            </tr>\n",
       "            <tr>\n",
       "                        <th id=\"T_db420f7a_a725_11e9_8b74_4cbb58820b5elevel0_row1\" class=\"row_heading level0 row1\" >Country</th>\n",
       "                        <td id=\"T_db420f7a_a725_11e9_8b74_4cbb58820b5erow1_col0\" class=\"data row1 col0\" >Keith Whitley</td>\n",
       "                        <td id=\"T_db420f7a_a725_11e9_8b74_4cbb58820b5erow1_col1\" class=\"data row1 col1\" >It Ain't Nothin'</td>\n",
       "                        <td id=\"T_db420f7a_a725_11e9_8b74_4cbb58820b5erow1_col2\" class=\"data row1 col2\" >GOOD</td>\n",
       "                        <td id=\"T_db420f7a_a725_11e9_8b74_4cbb58820b5erow1_col3\" class=\"data row1 col3\" >BAD</td>\n",
       "                        <td id=\"T_db420f7a_a725_11e9_8b74_4cbb58820b5erow1_col4\" class=\"data row1 col4\" >FALSE</td>\n",
       "            </tr>\n",
       "            <tr>\n",
       "                        <th id=\"T_db420f7a_a725_11e9_8b74_4cbb58820b5elevel0_row2\" class=\"row_heading level0 row2\" >Electronic</th>\n",
       "                        <td id=\"T_db420f7a_a725_11e9_8b74_4cbb58820b5erow2_col0\" class=\"data row2 col0\" >J Balvin</td>\n",
       "                        <td id=\"T_db420f7a_a725_11e9_8b74_4cbb58820b5erow2_col1\" class=\"data row2 col1\" >Positivo</td>\n",
       "                        <td id=\"T_db420f7a_a725_11e9_8b74_4cbb58820b5erow2_col2\" class=\"data row2 col2\" >BAD</td>\n",
       "                        <td id=\"T_db420f7a_a725_11e9_8b74_4cbb58820b5erow2_col3\" class=\"data row2 col3\" >BAD</td>\n",
       "                        <td id=\"T_db420f7a_a725_11e9_8b74_4cbb58820b5erow2_col4\" class=\"data row2 col4\" >TRUE</td>\n",
       "            </tr>\n",
       "            <tr>\n",
       "                        <th id=\"T_db420f7a_a725_11e9_8b74_4cbb58820b5elevel0_row3\" class=\"row_heading level0 row3\" >Hip-Hop</th>\n",
       "                        <td id=\"T_db420f7a_a725_11e9_8b74_4cbb58820b5erow3_col0\" class=\"data row3 col0\" >DaBaby</td>\n",
       "                        <td id=\"T_db420f7a_a725_11e9_8b74_4cbb58820b5erow3_col1\" class=\"data row3 col1\" >Suge</td>\n",
       "                        <td id=\"T_db420f7a_a725_11e9_8b74_4cbb58820b5erow3_col2\" class=\"data row3 col2\" >BAD</td>\n",
       "                        <td id=\"T_db420f7a_a725_11e9_8b74_4cbb58820b5erow3_col3\" class=\"data row3 col3\" >BAD</td>\n",
       "                        <td id=\"T_db420f7a_a725_11e9_8b74_4cbb58820b5erow3_col4\" class=\"data row3 col4\" >TRUE</td>\n",
       "            </tr>\n",
       "            <tr>\n",
       "                        <th id=\"T_db420f7a_a725_11e9_8b74_4cbb58820b5elevel0_row4\" class=\"row_heading level0 row4\" >Indie</th>\n",
       "                        <td id=\"T_db420f7a_a725_11e9_8b74_4cbb58820b5erow4_col0\" class=\"data row4 col0\" >Tame Impala</td>\n",
       "                        <td id=\"T_db420f7a_a725_11e9_8b74_4cbb58820b5erow4_col1\" class=\"data row4 col1\" >Borderline</td>\n",
       "                        <td id=\"T_db420f7a_a725_11e9_8b74_4cbb58820b5erow4_col2\" class=\"data row4 col2\" >GOOD</td>\n",
       "                        <td id=\"T_db420f7a_a725_11e9_8b74_4cbb58820b5erow4_col3\" class=\"data row4 col3\" >GOOD</td>\n",
       "                        <td id=\"T_db420f7a_a725_11e9_8b74_4cbb58820b5erow4_col4\" class=\"data row4 col4\" >TRUE</td>\n",
       "            </tr>\n",
       "            <tr>\n",
       "                        <th id=\"T_db420f7a_a725_11e9_8b74_4cbb58820b5elevel0_row5\" class=\"row_heading level0 row5\" >Jazz</th>\n",
       "                        <td id=\"T_db420f7a_a725_11e9_8b74_4cbb58820b5erow5_col0\" class=\"data row5 col0\" >The Dave Brubeck Quartet</td>\n",
       "                        <td id=\"T_db420f7a_a725_11e9_8b74_4cbb58820b5erow5_col1\" class=\"data row5 col1\" >Take Five</td>\n",
       "                        <td id=\"T_db420f7a_a725_11e9_8b74_4cbb58820b5erow5_col2\" class=\"data row5 col2\" >GOOD</td>\n",
       "                        <td id=\"T_db420f7a_a725_11e9_8b74_4cbb58820b5erow5_col3\" class=\"data row5 col3\" >GOOD</td>\n",
       "                        <td id=\"T_db420f7a_a725_11e9_8b74_4cbb58820b5erow5_col4\" class=\"data row5 col4\" >TRUE</td>\n",
       "            </tr>\n",
       "            <tr>\n",
       "                        <th id=\"T_db420f7a_a725_11e9_8b74_4cbb58820b5elevel0_row6\" class=\"row_heading level0 row6\" >Metal</th>\n",
       "                        <td id=\"T_db420f7a_a725_11e9_8b74_4cbb58820b5erow6_col0\" class=\"data row6 col0\" >Jorn</td>\n",
       "                        <td id=\"T_db420f7a_a725_11e9_8b74_4cbb58820b5erow6_col1\" class=\"data row6 col1\" >Blacksong</td>\n",
       "                        <td id=\"T_db420f7a_a725_11e9_8b74_4cbb58820b5erow6_col2\" class=\"data row6 col2\" >BAD</td>\n",
       "                        <td id=\"T_db420f7a_a725_11e9_8b74_4cbb58820b5erow6_col3\" class=\"data row6 col3\" >BAD</td>\n",
       "                        <td id=\"T_db420f7a_a725_11e9_8b74_4cbb58820b5erow6_col4\" class=\"data row6 col4\" >TRUE</td>\n",
       "            </tr>\n",
       "            <tr>\n",
       "                        <th id=\"T_db420f7a_a725_11e9_8b74_4cbb58820b5elevel0_row7\" class=\"row_heading level0 row7\" >Pop</th>\n",
       "                        <td id=\"T_db420f7a_a725_11e9_8b74_4cbb58820b5erow7_col0\" class=\"data row7 col0\" >Lady Gaga</td>\n",
       "                        <td id=\"T_db420f7a_a725_11e9_8b74_4cbb58820b5erow7_col1\" class=\"data row7 col1\" >Shallow - Radio Edit</td>\n",
       "                        <td id=\"T_db420f7a_a725_11e9_8b74_4cbb58820b5erow7_col2\" class=\"data row7 col2\" >GOOD</td>\n",
       "                        <td id=\"T_db420f7a_a725_11e9_8b74_4cbb58820b5erow7_col3\" class=\"data row7 col3\" >BAD</td>\n",
       "                        <td id=\"T_db420f7a_a725_11e9_8b74_4cbb58820b5erow7_col4\" class=\"data row7 col4\" >FALSE</td>\n",
       "            </tr>\n",
       "            <tr>\n",
       "                        <th id=\"T_db420f7a_a725_11e9_8b74_4cbb58820b5elevel0_row8\" class=\"row_heading level0 row8\" >Rock</th>\n",
       "                        <td id=\"T_db420f7a_a725_11e9_8b74_4cbb58820b5erow8_col0\" class=\"data row8 col0\" >Dire Straits</td>\n",
       "                        <td id=\"T_db420f7a_a725_11e9_8b74_4cbb58820b5erow8_col1\" class=\"data row8 col1\" >Sultans of Swing</td>\n",
       "                        <td id=\"T_db420f7a_a725_11e9_8b74_4cbb58820b5erow8_col2\" class=\"data row8 col2\" >GOOD</td>\n",
       "                        <td id=\"T_db420f7a_a725_11e9_8b74_4cbb58820b5erow8_col3\" class=\"data row8 col3\" >GOOD</td>\n",
       "                        <td id=\"T_db420f7a_a725_11e9_8b74_4cbb58820b5erow8_col4\" class=\"data row8 col4\" >TRUE</td>\n",
       "            </tr>\n",
       "            <tr>\n",
       "                        <th id=\"T_db420f7a_a725_11e9_8b74_4cbb58820b5elevel0_row9\" class=\"row_heading level0 row9\" >Soul</th>\n",
       "                        <td id=\"T_db420f7a_a725_11e9_8b74_4cbb58820b5erow9_col0\" class=\"data row9 col0\" >Rufus</td>\n",
       "                        <td id=\"T_db420f7a_a725_11e9_8b74_4cbb58820b5erow9_col1\" class=\"data row9 col1\" >Ain't Nobody</td>\n",
       "                        <td id=\"T_db420f7a_a725_11e9_8b74_4cbb58820b5erow9_col2\" class=\"data row9 col2\" >GOOD</td>\n",
       "                        <td id=\"T_db420f7a_a725_11e9_8b74_4cbb58820b5erow9_col3\" class=\"data row9 col3\" >GOOD</td>\n",
       "                        <td id=\"T_db420f7a_a725_11e9_8b74_4cbb58820b5erow9_col4\" class=\"data row9 col4\" >TRUE</td>\n",
       "            </tr>\n",
       "    </tbody></table>"
      ],
      "text/plain": [
       "<pandas.io.formats.style.Styler at 0x28068515748>"
      ]
     },
     "execution_count": 88,
     "metadata": {},
     "output_type": "execute_result"
    }
   ],
   "source": [
    "# set predicted ratings\n",
    "evaluation_pl_df['PREDICTED_RATING'] = clf.predict(n_X_evaluation_features_df)\n",
    "\n",
    "# set music style as an index\n",
    "evaluation_pl_df.set_index('GENRE', inplace=True)\n",
    "del evaluation_pl_df.index.name\n",
    "\n",
    "# set 'VERIFICATION' column values\n",
    "evaluation_pl_df['VERIFICATION'] = list(map(lambda x:str(x).upper(), \n",
    "                                          list(evaluation_pl_df['ACTUAL_RATING'].eq(evaluation_pl_df['PREDICTED_RATING']))))\n",
    "\n",
    "# take subset of sorted dataframe and set styling for 'VERIFICATION' column\n",
    "evaluation_pl_df = (evaluation_pl_df.loc[:, ('ARTIST', 'TITLE', 'ACTUAL_RATING', 'PREDICTED_RATING', 'VERIFICATION')]).sort_index()\n",
    "\n",
    "# highlight 'VERIFICATION' column depending on values\n",
    "evaluation_pl_df.style.apply(lambda x: ['color: green' if i=='TRUE'\n",
    "                                  else ('color: red' if i=='FALSE' else '') for i in x], axis=0)"
   ]
  },
  {
   "cell_type": "code",
   "execution_count": 89,
   "metadata": {},
   "outputs": [
    {
     "name": "stdout",
     "output_type": "stream",
     "text": [
      "ACCURACY: 0.8, PRECISION: 0.8, RECALL: 0.857143\n"
     ]
    }
   ],
   "source": [
    "# calculate prediction scores\n",
    "accuracy_evaluation = metrics.accuracy_score(evaluation_pl_df['ACTUAL_RATING'], evaluation_pl_df['PREDICTED_RATING'])\n",
    "precision_evaluation = precision_score(evaluation_pl_df['ACTUAL_RATING'], evaluation_pl_df['PREDICTED_RATING'], average='macro')\n",
    "recall_evaluation = recall_score(evaluation_pl_df['ACTUAL_RATING'], evaluation_pl_df['PREDICTED_RATING'], average='macro')\n",
    "\n",
    "print('ACCURACY: '+'{}'.format(round(accuracy_evaluation, 6))+\n",
    "      ', PRECISION: '+'{}'.format(round(precision_evaluation, 6))+\n",
    "      ', RECALL: '+'{}'.format(round(recall_evaluation, 6)))"
   ]
  },
  {
   "cell_type": "markdown",
   "metadata": {},
   "source": [
    "Since the model fits to the training set slightly better than to the evaluation set, some overfitting may exist in the model. But as the cap is quite small and the accuracy score is still good, __we can consider the project successful.__"
   ]
  },
  {
   "cell_type": "markdown",
   "metadata": {},
   "source": [
    "## 5. Discussion"
   ]
  },
  {
   "cell_type": "markdown",
   "metadata": {},
   "source": [
    "Doing a real data science project was very helpful in practicing topics learned in the course and also finding new tips & tricks for many complicated tasks. Most time-consuming part in this project was definitely data acquiring and cleaning. And before that also finding the project subject that could from one side be interesting to yourself and on the other hand be supported by the necessary data. The fact if the data has enough meaning at all for later modeling will often come out after a lot of work has been already done in data preparation.\n",
    "\n",
    "Although the model's prediction capability was good the next steps could be considered in further developments if there is a desire to improve the results:\n",
    "\n",
    "- Increase the data set  \n",
    "- Try different proportions between liked and disliked playlists  \n",
    "- Try different normalization methods  \n",
    "- Try different modeling algorithms  "
   ]
  },
  {
   "cell_type": "markdown",
   "metadata": {},
   "source": [
    "## 6. Conclusion"
   ]
  },
  {
   "cell_type": "markdown",
   "metadata": {},
   "source": [
    "The key factors that I can conclude from this project are:\n",
    "\n",
    "- Most important audio features that determine my musical taste are Acousticness, Danceability, Energy and Valence.\n",
    "- I prefer Country, Indie, Jazz, Pop, Rock, Soul and Afro music but Electronic, Hip-Hop and Metal are not so much in my favor.\n",
    "- The best classifier was Support Vector Machines and the model optimization didn’t give any better results.\n",
    "- Always normalize data before modeling. The difference in prediction accuracy with normalized and not normalized data was depending on the algorithm up to a twenty percentage point.  \n",
    "- Despite the quite small dataset the prediction model I created achieved a good level of prediction accuracy.   "
   ]
  }
 ],
 "metadata": {
  "kernelspec": {
   "display_name": "Python 3",
   "language": "python",
   "name": "python3"
  },
  "language_info": {
   "codemirror_mode": {
    "name": "ipython",
    "version": 3
   },
   "file_extension": ".py",
   "mimetype": "text/x-python",
   "name": "python",
   "nbconvert_exporter": "python",
   "pygments_lexer": "ipython3",
   "version": "3.7.3"
  }
 },
 "nbformat": 4,
 "nbformat_minor": 2
}
